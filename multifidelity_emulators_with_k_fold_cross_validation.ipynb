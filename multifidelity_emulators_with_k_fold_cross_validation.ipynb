{
 "cells": [
  {
   "cell_type": "code",
   "execution_count": 1,
   "metadata": {},
   "outputs": [],
   "source": [
    "name=\"multifidelity_viscous_models\""
   ]
  },
  {
   "cell_type": "code",
   "execution_count": 2,
   "metadata": {},
   "outputs": [],
   "source": [
    "#import GPy\n",
    "import os\n",
    "import pickle\n",
    "import numpy as np\n",
    "#import seaborn as sns\n",
    "import pandas as pd\n",
    "import math\n",
    "import matplotlib.pyplot as plt\n",
    "\n",
    "from sklearn.decomposition import PCA\n",
    "from numpy.linalg import inv\n",
    "from sklearn.preprocessing import StandardScaler\n",
    "from sklearn.gaussian_process import GaussianProcessRegressor as gpr\n",
    "from sklearn.gaussian_process import kernels as krnl\n",
    "import scipy.stats as st\n",
    "from scipy import optimize\n",
    "\n",
    "import emcee\n",
    "import ptemcee\n",
    "import h5py\n",
    "from scipy.linalg import lapack\n",
    "from multiprocessing import Pool\n",
    "from multiprocessing import cpu_count"
   ]
  },
  {
   "cell_type": "markdown",
   "metadata": {},
   "source": [
    "### 1. Loading simulation data from all 4 models\n"
   ]
  },
  {
   "cell_type": "code",
   "execution_count": 3,
   "metadata": {},
   "outputs": [],
   "source": [
    "#Saved emulator name\n",
    "EMU='PbPb2760_emulators_scikit.dat'"
   ]
  },
  {
   "cell_type": "code",
   "execution_count": 4,
   "metadata": {},
   "outputs": [],
   "source": [
    "# Where to save the figures and data files\n",
    "PROJECT_ROOT_DIR = \"Results_ldr\"\n",
    "FIGURE_ID = \"Results_ldr/FigureFiles\"\n",
    "DATA_ID = \"DataFiles/\""
   ]
  },
  {
   "cell_type": "code",
   "execution_count": 5,
   "metadata": {},
   "outputs": [],
   "source": [
    "if not os.path.exists(PROJECT_ROOT_DIR):\n",
    "    os.mkdir(PROJECT_ROOT_DIR)\n",
    "\n",
    "if not os.path.exists(FIGURE_ID):\n",
    "    os.makedirs(FIGURE_ID)\n",
    "\n",
    "if not os.path.exists(DATA_ID):\n",
    "    os.makedirs(DATA_ID)\n",
    "\n",
    "def image_path(fig_id):\n",
    "    return os.path.join(FIGURE_ID, fig_id)\n",
    "\n",
    "def data_path(dat_id):\n",
    "    return os.path.join(DATA_ID, dat_id)\n",
    "\n",
    "def save_fig(fig_id):\n",
    "    plt.savefig(image_path(fig_id) + \".png\", format='png')"
   ]
  },
  {
   "cell_type": "code",
   "execution_count": 6,
   "metadata": {},
   "outputs": [],
   "source": [
    "# Bounds for parametrs in the emulator are same as prior ranges so\n",
    "prior_df = pd.read_csv(filepath_or_buffer=\"DataFiles/PbPb2760_prior\", index_col=0)"
   ]
  },
  {
   "cell_type": "code",
   "execution_count": 7,
   "metadata": {},
   "outputs": [],
   "source": [
    "# Design points\n",
    "design = pd.read_csv(filepath_or_buffer=\"DataFiles/PbPb2760_design\")"
   ]
  },
  {
   "cell_type": "code",
   "execution_count": 8,
   "metadata": {},
   "outputs": [],
   "source": [
    "#Simulation outputs at the design points\n",
    "simulation_df = []\n",
    "simulation_sd_df = []\n",
    "for idf in range(0,4):\n",
    "    simulation_df.append(pd.read_csv(filepath_or_buffer=f\"DataFiles/PbPb2760_simulation_{idf}\"))\n",
    "    simulation_sd_df.append(pd.read_csv(filepath_or_buffer=f\"DataFiles/PbPb2760_simulation_error_{idf}\"))"
   ]
  },
  {
   "cell_type": "code",
   "execution_count": 9,
   "metadata": {},
   "outputs": [
    {
     "data": {
      "text/html": [
       "<div>\n",
       "<style scoped>\n",
       "    .dataframe tbody tr th:only-of-type {\n",
       "        vertical-align: middle;\n",
       "    }\n",
       "\n",
       "    .dataframe tbody tr th {\n",
       "        vertical-align: top;\n",
       "    }\n",
       "\n",
       "    .dataframe thead th {\n",
       "        text-align: right;\n",
       "    }\n",
       "</style>\n",
       "<table border=\"1\" class=\"dataframe\">\n",
       "  <thead>\n",
       "    <tr style=\"text-align: right;\">\n",
       "      <th></th>\n",
       "      <th>dNch_deta[0 5]</th>\n",
       "      <th>dNch_deta[ 5 10]</th>\n",
       "      <th>dNch_deta[10 20]</th>\n",
       "      <th>dNch_deta[20 30]</th>\n",
       "      <th>dNch_deta[30 40]</th>\n",
       "      <th>dNch_deta[40 50]</th>\n",
       "      <th>dNch_deta[50 60]</th>\n",
       "      <th>dNch_deta[60 70]</th>\n",
       "      <th>dET_deta[0.  2.5]</th>\n",
       "      <th>dET_deta[2.5 5. ]</th>\n",
       "      <th>...</th>\n",
       "      <th>v32[10 20]</th>\n",
       "      <th>v32[20 30]</th>\n",
       "      <th>v32[30 40]</th>\n",
       "      <th>v32[40 50]</th>\n",
       "      <th>v42[0 5]</th>\n",
       "      <th>v42[ 5 10]</th>\n",
       "      <th>v42[10 20]</th>\n",
       "      <th>v42[20 30]</th>\n",
       "      <th>v42[30 40]</th>\n",
       "      <th>v42[40 50]</th>\n",
       "    </tr>\n",
       "  </thead>\n",
       "  <tbody>\n",
       "    <tr>\n",
       "      <th>0</th>\n",
       "      <td>1574.895714</td>\n",
       "      <td>1270.145022</td>\n",
       "      <td>932.580707</td>\n",
       "      <td>630.400114</td>\n",
       "      <td>392.544409</td>\n",
       "      <td>238.067087</td>\n",
       "      <td>134.648096</td>\n",
       "      <td>63.153358</td>\n",
       "      <td>2076.364808</td>\n",
       "      <td>1835.374778</td>\n",
       "      <td>...</td>\n",
       "      <td>0.027404</td>\n",
       "      <td>0.028197</td>\n",
       "      <td>0.032930</td>\n",
       "      <td>0.033431</td>\n",
       "      <td>0.010413</td>\n",
       "      <td>0.012651</td>\n",
       "      <td>0.015070</td>\n",
       "      <td>0.016598</td>\n",
       "      <td>0.019399</td>\n",
       "      <td>0.018418</td>\n",
       "    </tr>\n",
       "    <tr>\n",
       "      <th>1</th>\n",
       "      <td>1355.748825</td>\n",
       "      <td>1123.747800</td>\n",
       "      <td>882.879650</td>\n",
       "      <td>623.828320</td>\n",
       "      <td>391.103401</td>\n",
       "      <td>248.354372</td>\n",
       "      <td>143.333354</td>\n",
       "      <td>74.139705</td>\n",
       "      <td>1709.947515</td>\n",
       "      <td>1558.404506</td>\n",
       "      <td>...</td>\n",
       "      <td>0.023901</td>\n",
       "      <td>0.024261</td>\n",
       "      <td>0.026591</td>\n",
       "      <td>0.025550</td>\n",
       "      <td>0.008862</td>\n",
       "      <td>0.009324</td>\n",
       "      <td>0.011560</td>\n",
       "      <td>0.011658</td>\n",
       "      <td>0.011654</td>\n",
       "      <td>0.011179</td>\n",
       "    </tr>\n",
       "    <tr>\n",
       "      <th>2</th>\n",
       "      <td>1683.290048</td>\n",
       "      <td>1388.180222</td>\n",
       "      <td>1054.952336</td>\n",
       "      <td>719.627087</td>\n",
       "      <td>485.381585</td>\n",
       "      <td>309.174111</td>\n",
       "      <td>178.829733</td>\n",
       "      <td>91.772220</td>\n",
       "      <td>2141.078413</td>\n",
       "      <td>1931.558080</td>\n",
       "      <td>...</td>\n",
       "      <td>0.019720</td>\n",
       "      <td>0.021377</td>\n",
       "      <td>0.019973</td>\n",
       "      <td>0.020431</td>\n",
       "      <td>0.007427</td>\n",
       "      <td>0.007059</td>\n",
       "      <td>0.007941</td>\n",
       "      <td>0.009942</td>\n",
       "      <td>0.009279</td>\n",
       "      <td>0.009743</td>\n",
       "    </tr>\n",
       "    <tr>\n",
       "      <th>3</th>\n",
       "      <td>1452.927190</td>\n",
       "      <td>1178.713111</td>\n",
       "      <td>903.853748</td>\n",
       "      <td>636.430243</td>\n",
       "      <td>432.280496</td>\n",
       "      <td>275.816643</td>\n",
       "      <td>157.583011</td>\n",
       "      <td>78.252521</td>\n",
       "      <td>1918.359572</td>\n",
       "      <td>1723.143686</td>\n",
       "      <td>...</td>\n",
       "      <td>0.018632</td>\n",
       "      <td>0.020882</td>\n",
       "      <td>0.022750</td>\n",
       "      <td>0.022269</td>\n",
       "      <td>0.006417</td>\n",
       "      <td>0.008370</td>\n",
       "      <td>0.009120</td>\n",
       "      <td>0.010369</td>\n",
       "      <td>0.011032</td>\n",
       "      <td>0.010482</td>\n",
       "    </tr>\n",
       "    <tr>\n",
       "      <th>4</th>\n",
       "      <td>1595.238857</td>\n",
       "      <td>1343.143714</td>\n",
       "      <td>1046.269294</td>\n",
       "      <td>714.085375</td>\n",
       "      <td>495.002760</td>\n",
       "      <td>316.201300</td>\n",
       "      <td>186.396580</td>\n",
       "      <td>97.918916</td>\n",
       "      <td>2141.459062</td>\n",
       "      <td>1910.787212</td>\n",
       "      <td>...</td>\n",
       "      <td>0.023834</td>\n",
       "      <td>0.027182</td>\n",
       "      <td>0.027454</td>\n",
       "      <td>0.027838</td>\n",
       "      <td>0.009052</td>\n",
       "      <td>0.009896</td>\n",
       "      <td>0.010766</td>\n",
       "      <td>0.012733</td>\n",
       "      <td>0.011812</td>\n",
       "      <td>0.012470</td>\n",
       "    </tr>\n",
       "  </tbody>\n",
       "</table>\n",
       "<p>5 rows × 110 columns</p>\n",
       "</div>"
      ],
      "text/plain": [
       "   dNch_deta[0 5]  dNch_deta[ 5 10]  dNch_deta[10 20]  dNch_deta[20 30]  \\\n",
       "0     1574.895714       1270.145022        932.580707        630.400114   \n",
       "1     1355.748825       1123.747800        882.879650        623.828320   \n",
       "2     1683.290048       1388.180222       1054.952336        719.627087   \n",
       "3     1452.927190       1178.713111        903.853748        636.430243   \n",
       "4     1595.238857       1343.143714       1046.269294        714.085375   \n",
       "\n",
       "   dNch_deta[30 40]  dNch_deta[40 50]  dNch_deta[50 60]  dNch_deta[60 70]  \\\n",
       "0        392.544409        238.067087        134.648096         63.153358   \n",
       "1        391.103401        248.354372        143.333354         74.139705   \n",
       "2        485.381585        309.174111        178.829733         91.772220   \n",
       "3        432.280496        275.816643        157.583011         78.252521   \n",
       "4        495.002760        316.201300        186.396580         97.918916   \n",
       "\n",
       "   dET_deta[0.  2.5]  dET_deta[2.5 5. ]  ...  v32[10 20]  v32[20 30]  \\\n",
       "0        2076.364808        1835.374778  ...    0.027404    0.028197   \n",
       "1        1709.947515        1558.404506  ...    0.023901    0.024261   \n",
       "2        2141.078413        1931.558080  ...    0.019720    0.021377   \n",
       "3        1918.359572        1723.143686  ...    0.018632    0.020882   \n",
       "4        2141.459062        1910.787212  ...    0.023834    0.027182   \n",
       "\n",
       "   v32[30 40]  v32[40 50]  v42[0 5]  v42[ 5 10]  v42[10 20]  v42[20 30]  \\\n",
       "0    0.032930    0.033431  0.010413    0.012651    0.015070    0.016598   \n",
       "1    0.026591    0.025550  0.008862    0.009324    0.011560    0.011658   \n",
       "2    0.019973    0.020431  0.007427    0.007059    0.007941    0.009942   \n",
       "3    0.022750    0.022269  0.006417    0.008370    0.009120    0.010369   \n",
       "4    0.027454    0.027838  0.009052    0.009896    0.010766    0.012733   \n",
       "\n",
       "   v42[30 40]  v42[40 50]  \n",
       "0    0.019399    0.018418  \n",
       "1    0.011654    0.011179  \n",
       "2    0.009279    0.009743  \n",
       "3    0.011032    0.010482  \n",
       "4    0.011812    0.012470  \n",
       "\n",
       "[5 rows x 110 columns]"
      ]
     },
     "execution_count": 9,
     "metadata": {},
     "output_type": "execute_result"
    }
   ],
   "source": [
    "simulation_df[1].head()"
   ]
  },
  {
   "cell_type": "code",
   "execution_count": 10,
   "metadata": {},
   "outputs": [
    {
     "data": {
      "text/html": [
       "<div>\n",
       "<style scoped>\n",
       "    .dataframe tbody tr th:only-of-type {\n",
       "        vertical-align: middle;\n",
       "    }\n",
       "\n",
       "    .dataframe tbody tr th {\n",
       "        vertical-align: top;\n",
       "    }\n",
       "\n",
       "    .dataframe thead th {\n",
       "        text-align: right;\n",
       "    }\n",
       "</style>\n",
       "<table border=\"1\" class=\"dataframe\">\n",
       "  <thead>\n",
       "    <tr style=\"text-align: right;\">\n",
       "      <th></th>\n",
       "      <th>dNch_deta[0 5]</th>\n",
       "      <th>dNch_deta[ 5 10]</th>\n",
       "      <th>dNch_deta[10 20]</th>\n",
       "      <th>dNch_deta[20 30]</th>\n",
       "      <th>dNch_deta[30 40]</th>\n",
       "      <th>dNch_deta[40 50]</th>\n",
       "      <th>dNch_deta[50 60]</th>\n",
       "      <th>dNch_deta[60 70]</th>\n",
       "      <th>dET_deta[0.  2.5]</th>\n",
       "      <th>dET_deta[2.5 5. ]</th>\n",
       "      <th>...</th>\n",
       "      <th>v32[10 20]</th>\n",
       "      <th>v32[20 30]</th>\n",
       "      <th>v32[30 40]</th>\n",
       "      <th>v32[40 50]</th>\n",
       "      <th>v42[0 5]</th>\n",
       "      <th>v42[ 5 10]</th>\n",
       "      <th>v42[10 20]</th>\n",
       "      <th>v42[20 30]</th>\n",
       "      <th>v42[30 40]</th>\n",
       "      <th>v42[40 50]</th>\n",
       "    </tr>\n",
       "  </thead>\n",
       "  <tbody>\n",
       "    <tr>\n",
       "      <th>0</th>\n",
       "      <td>10.071746</td>\n",
       "      <td>7.241542</td>\n",
       "      <td>7.459288</td>\n",
       "      <td>4.580889</td>\n",
       "      <td>3.788967</td>\n",
       "      <td>2.348702</td>\n",
       "      <td>1.749008</td>\n",
       "      <td>0.930683</td>\n",
       "      <td>12.907602</td>\n",
       "      <td>6.926424</td>\n",
       "      <td>...</td>\n",
       "      <td>0.000932</td>\n",
       "      <td>0.001035</td>\n",
       "      <td>0.001123</td>\n",
       "      <td>0.000957</td>\n",
       "      <td>0.000717</td>\n",
       "      <td>0.000727</td>\n",
       "      <td>0.000542</td>\n",
       "      <td>0.000623</td>\n",
       "      <td>0.000712</td>\n",
       "      <td>0.000682</td>\n",
       "    </tr>\n",
       "    <tr>\n",
       "      <th>1</th>\n",
       "      <td>6.930275</td>\n",
       "      <td>4.541214</td>\n",
       "      <td>5.124968</td>\n",
       "      <td>4.545924</td>\n",
       "      <td>3.336955</td>\n",
       "      <td>2.297671</td>\n",
       "      <td>1.541077</td>\n",
       "      <td>0.974098</td>\n",
       "      <td>9.415680</td>\n",
       "      <td>6.885383</td>\n",
       "      <td>...</td>\n",
       "      <td>0.000893</td>\n",
       "      <td>0.000821</td>\n",
       "      <td>0.000915</td>\n",
       "      <td>0.000822</td>\n",
       "      <td>0.000694</td>\n",
       "      <td>0.000743</td>\n",
       "      <td>0.000568</td>\n",
       "      <td>0.000558</td>\n",
       "      <td>0.000570</td>\n",
       "      <td>0.000595</td>\n",
       "    </tr>\n",
       "    <tr>\n",
       "      <th>2</th>\n",
       "      <td>9.195409</td>\n",
       "      <td>6.241020</td>\n",
       "      <td>7.591831</td>\n",
       "      <td>4.909938</td>\n",
       "      <td>3.990199</td>\n",
       "      <td>2.788804</td>\n",
       "      <td>1.934193</td>\n",
       "      <td>1.274814</td>\n",
       "      <td>10.946934</td>\n",
       "      <td>8.336824</td>\n",
       "      <td>...</td>\n",
       "      <td>0.000736</td>\n",
       "      <td>0.000759</td>\n",
       "      <td>0.000712</td>\n",
       "      <td>0.000762</td>\n",
       "      <td>0.000633</td>\n",
       "      <td>0.000668</td>\n",
       "      <td>0.000503</td>\n",
       "      <td>0.000553</td>\n",
       "      <td>0.000527</td>\n",
       "      <td>0.000522</td>\n",
       "    </tr>\n",
       "    <tr>\n",
       "      <th>3</th>\n",
       "      <td>8.112782</td>\n",
       "      <td>6.235609</td>\n",
       "      <td>5.601630</td>\n",
       "      <td>4.364517</td>\n",
       "      <td>3.134108</td>\n",
       "      <td>2.717734</td>\n",
       "      <td>1.772125</td>\n",
       "      <td>1.072769</td>\n",
       "      <td>9.202123</td>\n",
       "      <td>6.837725</td>\n",
       "      <td>...</td>\n",
       "      <td>0.000750</td>\n",
       "      <td>0.000706</td>\n",
       "      <td>0.000802</td>\n",
       "      <td>0.000887</td>\n",
       "      <td>0.000733</td>\n",
       "      <td>0.000748</td>\n",
       "      <td>0.000514</td>\n",
       "      <td>0.000533</td>\n",
       "      <td>0.000507</td>\n",
       "      <td>0.000609</td>\n",
       "    </tr>\n",
       "    <tr>\n",
       "      <th>4</th>\n",
       "      <td>9.461200</td>\n",
       "      <td>5.717822</td>\n",
       "      <td>6.635984</td>\n",
       "      <td>5.138407</td>\n",
       "      <td>3.621117</td>\n",
       "      <td>2.715676</td>\n",
       "      <td>1.871730</td>\n",
       "      <td>1.382263</td>\n",
       "      <td>15.775991</td>\n",
       "      <td>7.174462</td>\n",
       "      <td>...</td>\n",
       "      <td>0.000769</td>\n",
       "      <td>0.000875</td>\n",
       "      <td>0.000871</td>\n",
       "      <td>0.000917</td>\n",
       "      <td>0.000807</td>\n",
       "      <td>0.000731</td>\n",
       "      <td>0.000617</td>\n",
       "      <td>0.000522</td>\n",
       "      <td>0.000518</td>\n",
       "      <td>0.000529</td>\n",
       "    </tr>\n",
       "  </tbody>\n",
       "</table>\n",
       "<p>5 rows × 110 columns</p>\n",
       "</div>"
      ],
      "text/plain": [
       "   dNch_deta[0 5]  dNch_deta[ 5 10]  dNch_deta[10 20]  dNch_deta[20 30]  \\\n",
       "0       10.071746          7.241542          7.459288          4.580889   \n",
       "1        6.930275          4.541214          5.124968          4.545924   \n",
       "2        9.195409          6.241020          7.591831          4.909938   \n",
       "3        8.112782          6.235609          5.601630          4.364517   \n",
       "4        9.461200          5.717822          6.635984          5.138407   \n",
       "\n",
       "   dNch_deta[30 40]  dNch_deta[40 50]  dNch_deta[50 60]  dNch_deta[60 70]  \\\n",
       "0          3.788967          2.348702          1.749008          0.930683   \n",
       "1          3.336955          2.297671          1.541077          0.974098   \n",
       "2          3.990199          2.788804          1.934193          1.274814   \n",
       "3          3.134108          2.717734          1.772125          1.072769   \n",
       "4          3.621117          2.715676          1.871730          1.382263   \n",
       "\n",
       "   dET_deta[0.  2.5]  dET_deta[2.5 5. ]  ...  v32[10 20]  v32[20 30]  \\\n",
       "0          12.907602           6.926424  ...    0.000932    0.001035   \n",
       "1           9.415680           6.885383  ...    0.000893    0.000821   \n",
       "2          10.946934           8.336824  ...    0.000736    0.000759   \n",
       "3           9.202123           6.837725  ...    0.000750    0.000706   \n",
       "4          15.775991           7.174462  ...    0.000769    0.000875   \n",
       "\n",
       "   v32[30 40]  v32[40 50]  v42[0 5]  v42[ 5 10]  v42[10 20]  v42[20 30]  \\\n",
       "0    0.001123    0.000957  0.000717    0.000727    0.000542    0.000623   \n",
       "1    0.000915    0.000822  0.000694    0.000743    0.000568    0.000558   \n",
       "2    0.000712    0.000762  0.000633    0.000668    0.000503    0.000553   \n",
       "3    0.000802    0.000887  0.000733    0.000748    0.000514    0.000533   \n",
       "4    0.000871    0.000917  0.000807    0.000731    0.000617    0.000522   \n",
       "\n",
       "   v42[30 40]  v42[40 50]  \n",
       "0    0.000712    0.000682  \n",
       "1    0.000570    0.000595  \n",
       "2    0.000527    0.000522  \n",
       "3    0.000507    0.000609  \n",
       "4    0.000518    0.000529  \n",
       "\n",
       "[5 rows x 110 columns]"
      ]
     },
     "execution_count": 10,
     "metadata": {},
     "output_type": "execute_result"
    }
   ],
   "source": [
    "simulation_sd_df[2].head()"
   ]
  },
  {
   "cell_type": "code",
   "execution_count": 11,
   "metadata": {},
   "outputs": [],
   "source": [
    "X = design.values\n"
   ]
  },
  {
   "cell_type": "code",
   "execution_count": 12,
   "metadata": {},
   "outputs": [
    {
     "name": "stdout",
     "output_type": "stream",
     "text": [
      "X.shape : (485, 17)\n",
      "Y.shape : (485, 110)\n",
      "X.shape : (485, 17)\n",
      "Y.shape : (485, 110)\n",
      "X.shape : (485, 17)\n",
      "Y.shape : (485, 110)\n",
      "X.shape : (485, 17)\n",
      "Y.shape : (485, 110)\n"
     ]
    }
   ],
   "source": [
    "for idf in range(0,4):\n",
    "    Y = simulation_df[idf].values\n",
    "    print( \"X.shape : \"+ str(X.shape) )\n",
    "    print( \"Y.shape : \"+ str(Y.shape) )"
   ]
  },
  {
   "cell_type": "code",
   "execution_count": 13,
   "metadata": {},
   "outputs": [],
   "source": [
    "#Model parameter names in Latex compatble form\n",
    "model_param_dsgn = ['$N$[$2.76$TeV]',\n",
    " '$p$',\n",
    " '$\\\\sigma_k$',\n",
    " '$w$ [fm]',\n",
    " '$d_{\\\\mathrm{min}}$ [fm]',\n",
    " '$\\\\tau_R$ [fm/$c$]',\n",
    " '$\\\\alpha$',\n",
    " '$T_{\\\\eta,\\\\mathrm{kink}}$ [GeV]',\n",
    " '$a_{\\\\eta,\\\\mathrm{low}}$ [GeV${}^{-1}$]',\n",
    " '$a_{\\\\eta,\\\\mathrm{high}}$ [GeV${}^{-1}$]',\n",
    " '$(\\\\eta/s)_{\\\\mathrm{kink}}$',\n",
    " '$(\\\\zeta/s)_{\\\\max}$',\n",
    " '$T_{\\\\zeta,c}$ [GeV]',\n",
    " '$w_{\\\\zeta}$ [GeV]',\n",
    " '$\\\\lambda_{\\\\zeta}$',\n",
    " '$b_{\\\\pi}$',\n",
    " '$T_{\\\\mathrm{sw}}$ [GeV]']"
   ]
  },
  {
   "cell_type": "code",
   "execution_count": 14,
   "metadata": {},
   "outputs": [],
   "source": [
    "observables = ['dNch_deta',\n",
    " 'dET_deta',\n",
    " 'dN_dy_pion',\n",
    " 'dN_dy_kaon',\n",
    " 'dN_dy_proton',\n",
    " 'mean_pT_pion',\n",
    " 'mean_pT_kaon',\n",
    " 'mean_pT_proton',\n",
    " 'pT_fluct',\n",
    " 'v22',\n",
    " 'v32',\n",
    " 'v42']"
   ]
  },
  {
   "cell_type": "code",
   "execution_count": 15,
   "metadata": {},
   "outputs": [],
   "source": [
    "observables_latex_2 = ['$\\\\frac{dN_{ch}}{d\\\\eta}$',\n",
    " '$\\\\frac{dE_T}{d\\\\eta}$',\n",
    " '$\\\\frac{dN_{\\\\pi}}{dy}$',\n",
    " '$\\\\frac{dN_{K}}{dy}$',\n",
    " '$\\\\frac{dN_{P}}{dy}$',\n",
    " '$\\\\langle pT_{\\\\pi} \\\\rangle$',\n",
    " '$\\\\langle pT_{K} \\\\rangle$',\n",
    " '$\\\\langle pT_{P} \\\\rangle$',\n",
    " '$\\\\frac{\\\\delta p_T}{\\\\langle p_T \\\\rangle}$',\n",
    " '$v_2${2}',\n",
    " '$v_3${2}',\n",
    " '$v_4${2}']"
   ]
  },
  {
   "cell_type": "code",
   "execution_count": 16,
   "metadata": {},
   "outputs": [],
   "source": [
    "observables_latex = ['$dN_{ch} / d\\\\eta$',\n",
    " '$dE_T / d\\\\eta$',\n",
    " '${dN_{\\\\pi}} / {dy}$',\n",
    " '${dN_{K}} / {dy}$',\n",
    " '${dN_{P}} / {dy}$',\n",
    " '$\\\\langle p_{T, \\\\pi} \\\\rangle$',\n",
    " '$\\\\langle p_{T, K} \\\\rangle$',\n",
    " '$\\\\langle p_{T, P} \\\\rangle$',\n",
    " '${\\\\delta p_T} / {\\\\langle p_T \\\\rangle}$',\n",
    " '$v_2${2}',\n",
    " '$v_3${2}',\n",
    " '$v_4${2}']"
   ]
  },
  {
   "cell_type": "markdown",
   "metadata": {},
   "source": [
    "### For this analysis we will only consider one single observable.\n",
    "#### $\\langle p_{T, \\pi} \\rangle$ for the [0-5] centrality."
   ]
  },
  {
   "cell_type": "code",
   "execution_count": 17,
   "metadata": {},
   "outputs": [],
   "source": [
    "selected_observable = 'mean_pT_pion[0 5]'"
   ]
  },
  {
   "cell_type": "code",
   "execution_count": 18,
   "metadata": {},
   "outputs": [
    {
     "data": {
      "text/plain": [
       "0      0.489027\n",
       "1      0.492126\n",
       "2      0.475687\n",
       "3      0.509817\n",
       "4      0.524599\n",
       "         ...   \n",
       "480    0.454609\n",
       "481    0.628647\n",
       "482    0.467832\n",
       "483    0.589815\n",
       "484    0.478744\n",
       "Name: mean_pT_pion[0 5], Length: 485, dtype: float64"
      ]
     },
     "execution_count": 18,
     "metadata": {},
     "output_type": "execute_result"
    }
   ],
   "source": [
    "simulation_df[0][selected_observable]"
   ]
  },
  {
   "cell_type": "code",
   "execution_count": 19,
   "metadata": {},
   "outputs": [],
   "source": [
    "#Scaling the data to be zero mean and unit variance for each feature (110)\n",
    "#SS  =  StandardScaler(copy=True)"
   ]
  },
  {
   "cell_type": "markdown",
   "metadata": {},
   "source": [
    "# Linear multi-fidelity modeling in Emukit"
   ]
  },
  {
   "cell_type": "code",
   "execution_count": 20,
   "metadata": {},
   "outputs": [],
   "source": [
    "import GPy\n",
    "import emukit.multi_fidelity\n",
    "from emukit.model_wrappers.gpy_model_wrappers import GPyMultiOutputWrapper\n",
    "from emukit.multi_fidelity.models import GPyLinearMultiFidelityModel\n",
    "## Convert lists of arrays to ndarrays augmented with fidelity indicators\n",
    "from sklearn.model_selection import train_test_split\n",
    "from emukit.multi_fidelity.convert_lists_to_array import convert_x_list_to_array, convert_xy_lists_to_arrays\n",
    "from sklearn.model_selection import KFold\n",
    "from emukit.multi_fidelity.models.non_linear_multi_fidelity_model import make_non_linear_kernels, NonLinearMultiFidelityModel\n",
    "from sklearn.metrics import r2_score, mean_squared_error"
   ]
  },
  {
   "cell_type": "code",
   "execution_count": 21,
   "metadata": {},
   "outputs": [],
   "source": [
    "def run_train_and_validation(x_train_l, x_train_h, x_test_h, y_train_l, y_train_h, y_test_h):\n",
    "    \"\"\" Train three types of emulators. And perform validation on a given set\n",
    "            1. Linear multifidelity\n",
    "            2. Nonlinear multifidelity\n",
    "            3. Standard GP\n",
    "        =============================\n",
    "        Return:\n",
    "            2 x 3 ndarray. \n",
    "            First row has MSE\n",
    "            Second row has R2 scores\n",
    "        \"\"\"\n",
    "    X_train, Y_train = convert_xy_lists_to_arrays([x_train_l, x_train_h], [y_train_l, y_train_h])\n",
    "    n_opt = 5\n",
    "    ## Construct a linear multi-fidelity model\n",
    "\n",
    "    kernels = [GPy.kern.RBF(17, ARD=True), GPy.kern.RBF(17, ARD=True)]\n",
    "    lin_mf_kernel = emukit.multi_fidelity.kernels.LinearMultiFidelityKernel(kernels)\n",
    "    gpy_lin_mf_model = GPyLinearMultiFidelityModel(X_train, Y_train, lin_mf_kernel, n_fidelities=2)\n",
    "    #gpy_lin_mf_model.mixed_noise.Gaussian_noise.fix(0)\n",
    "    #gpy_lin_mf_model.mixed_noise.Gaussian_noise_1.fix(0)\n",
    "\n",
    "\n",
    "    ## Wrap the model using the given 'GPyMultiOutputWrapper'\n",
    "    lin_mf_model = GPyMultiOutputWrapper(gpy_lin_mf_model, 2, n_optimization_restarts=n_opt)\n",
    "\n",
    "    ## Fit the model\n",
    "  \n",
    "    lin_mf_model.optimize()\n",
    "    ## Create nonlinear model\n",
    "\n",
    "\n",
    "    base_kernel = GPy.kern.RBF\n",
    "    kernels = make_non_linear_kernels(base_kernel, 2, X_train.shape[1]-1, ARD=True)\n",
    "    nonlin_mf_model = NonLinearMultiFidelityModel(X_train, Y_train, n_fidelities=2, kernels=kernels,verbose=True, \n",
    "                                                  optimization_restarts=n_opt)\n",
    "    #for m in nonlin_mf_model.models:\n",
    "    #m.Gaussian_noise.variance.fix(0)\n",
    "    \n",
    "    nonlin_mf_model.optimize()\n",
    "    \n",
    "    ## Create standard GP model using only high-fidelity data\n",
    "\n",
    "    kernel = GPy.kern.RBF(input_dim=17, ARD=True)\n",
    "    high_gp_model = GPy.models.GPRegression(x_train_h,y_train_h, kernel)\n",
    "    #high_gp_model.Gaussian_noise.fix(0)\n",
    "\n",
    "    ## Fit the GP model\n",
    "    \n",
    "    high_gp_model.optimize_restarts(n_opt, verbose=True, parallel=True, num_processes=5)\n",
    "    #print(high_gp_model)\n",
    "    ## Compute mean predictions and associated variance\n",
    "\n",
    "    #hf_mean_high_gp_model, hf_var_high_gp_model  = high_gp_model.predict(x_plot)\n",
    "    #hf_std_hf_gp_model = np.sqrt(hf_var_high_gp_model)\n",
    "    x_temp = convert_x_list_to_array([x_test_h,x_test_h])\n",
    "    x_test_h_idf_index = x_temp[x_test_h.shape[0]:,:]\n",
    "    hf_mean_lin_mf_model, hf_var_lin_mf_model = lin_mf_model.predict(x_test_h_idf_index)\n",
    "    print(hf_mean_lin_mf_model.shape)\n",
    "    r2_1 = r2_score(y_test_h,hf_mean_lin_mf_model )\n",
    "    mse_1 = mean_squared_error(y_test_h,hf_mean_lin_mf_model )\n",
    "    print(f'r2 score for multifidelity linear {r2_score(y_test_h,hf_mean_lin_mf_model )}')\n",
    "    print(f'mse for multifidelity linear {mean_squared_error(y_test_h,hf_mean_lin_mf_model )}')\n",
    "    \n",
    "    hf_mean_nonlin_mf_model, hf_var_nonlin_mf_model = nonlin_mf_model.predict(x_test_h_idf_index)\n",
    "    print(hf_mean_nonlin_mf_model.shape)\n",
    "    r2_2 = r2_score(y_test_h,hf_mean_nonlin_mf_model )\n",
    "    mse_2 = mean_squared_error(y_test_h,hf_mean_nonlin_mf_model )\n",
    "    print(f'r2 score for multifidelity nonlinear {r2_score(y_test_h,hf_mean_nonlin_mf_model )}')\n",
    "    print(f'mse for multifidelity nonlinear {mean_squared_error(y_test_h,hf_mean_nonlin_mf_model )}')\n",
    "    \n",
    "\n",
    "    hf_mean_high_gp_model, hf_var_high_gp_model  = high_gp_model.predict(x_test_h)\n",
    "    print(hf_mean_high_gp_model.shape)\n",
    "    r2_3 = r2_score(y_test_h,hf_mean_high_gp_model)\n",
    "    mse_3 = mean_squared_error(y_test_h,hf_mean_high_gp_model )\n",
    "    print(f'r2 score for standard GP {r2_score(y_test_h,hf_mean_high_gp_model)}')\n",
    "    print(f'mse for standard GP {mean_squared_error(y_test_h,hf_mean_high_gp_model )}')\n",
    "    r2s= [r2_1, r2_2, r2_3]\n",
    "    mses=[mse_1, mse_2, mse_3]\n",
    "    return np.array([mses, r2s])"
   ]
  },
  {
   "cell_type": "code",
   "execution_count": 22,
   "metadata": {},
   "outputs": [
    {
     "name": "stdout",
     "output_type": "stream",
     "text": [
      "Optimization restart 1/5, f = -1129.9580462745862\n",
      "Optimization restart 2/5, f = -1129.0223387156657\n",
      "Optimization restart 3/5, f = -1113.0219681272383\n",
      "Optimization restart 4/5, f = -1141.9618555619713\n",
      "Optimization restart 5/5, f = -1006.7897223392653\n",
      "Optimization restart 1/5, f = -1072.697315759001\n",
      "Optimization restart 2/5, f = -1073.157201356174\n",
      "Optimization restart 3/5, f = -1072.6786254868039\n",
      "Optimization restart 4/5, f = -1073.0968768051916\n",
      "Optimization restart 5/5, f = -1072.6050604209145\n",
      "Optimization restart 1/5, f = -40.74027064632528\n",
      "Optimization restart 2/5, f = -39.31972007325324\n",
      "Optimization restart 3/5, f = -27.200634101019922\n"
     ]
    },
    {
     "name": "stderr",
     "output_type": "stream",
     "text": [
      " /Users/dananjayaliyanage/miniconda3/envs/parton_loss/lib/python3.6/site-packages/GPy/kern/src/stationary.py:243: RuntimeWarning:invalid value encountered in true_divide\n"
     ]
    },
    {
     "name": "stdout",
     "output_type": "stream",
     "text": [
      "Optimization restart 4/5, f = -63.11174332667751\n",
      "Optimization restart 5/5, f = -59.578737621214614\n"
     ]
    },
    {
     "name": "stderr",
     "output_type": "stream",
     "text": [
      " /Users/dananjayaliyanage/miniconda3/envs/parton_loss/lib/python3.6/site-packages/GPy/kern/src/stationary.py:137: RuntimeWarning:overflow encountered in square\n",
      " /Users/dananjayaliyanage/miniconda3/envs/parton_loss/lib/python3.6/site-packages/GPy/kern/src/stationary.py:138: RuntimeWarning:invalid value encountered in add\n",
      " /Users/dananjayaliyanage/miniconda3/envs/parton_loss/lib/python3.6/site-packages/GPy/kern/src/rbf.py:76: RuntimeWarning:invalid value encountered in multiply\n",
      " /Users/dananjayaliyanage/miniconda3/envs/parton_loss/lib/python3.6/site-packages/GPy/kern/src/stationary.py:166: RuntimeWarning:overflow encountered in true_divide\n"
     ]
    },
    {
     "name": "stdout",
     "output_type": "stream",
     "text": [
      "Optimization restart 1/5, f = -40.78524435231534\n",
      "Optimization restart 2/5, f = -40.152764590911616\n",
      "Optimization restart 3/5, f = -39.81520745897934\n",
      "Optimization restart 4/5, f = -42.65227347927721\n",
      "Optimization restart 5/5, f = -41.09048132190994\n",
      "(97, 1)\n",
      "r2 score for multifidelity linear 0.9848500352398545\n",
      "mse for multifidelity linear 2.445792650421054e-05\n",
      "(97, 1)\n",
      "r2 score for multifidelity nonlinear 0.9273910602338181\n",
      "mse for multifidelity nonlinear 0.00011721902594926324\n",
      "(97, 1)\n",
      "r2 score for standard GP 0.4603120941381751\n",
      "mse for standard GP 0.0008712658640304977\n",
      "Optimization restart 1/5, f = -1209.6369674570215\n",
      "Optimization restart 2/5, f = -1218.7292735251638\n",
      "Optimization restart 3/5, f = -1214.8714859709887\n"
     ]
    },
    {
     "name": "stderr",
     "output_type": "stream",
     "text": [
      " /Users/dananjayaliyanage/miniconda3/envs/parton_loss/lib/python3.6/site-packages/GPy/kern/src/stationary.py:144: RuntimeWarning:overflow encountered in square\n",
      " /Users/dananjayaliyanage/miniconda3/envs/parton_loss/lib/python3.6/site-packages/GPy/kern/src/stationary.py:145: RuntimeWarning:overflow encountered in square\n",
      " /Users/dananjayaliyanage/miniconda3/envs/parton_loss/lib/python3.6/site-packages/GPy/kern/src/stationary.py:146: RuntimeWarning:invalid value encountered in add\n",
      " /Users/dananjayaliyanage/miniconda3/envs/parton_loss/lib/python3.6/site-packages/GPy/kern/src/stationary.py:165: RuntimeWarning:overflow encountered in true_divide\n",
      " /Users/dananjayaliyanage/miniconda3/envs/parton_loss/lib/python3.6/site-packages/GPy/kern/src/stationary.py:166: RuntimeWarning:overflow encountered in true_divide\n"
     ]
    },
    {
     "name": "stdout",
     "output_type": "stream",
     "text": [
      "Optimization restart 4/5, f = -1213.4301407250869\n",
      "Optimization restart 5/5, f = -1180.2155532548109\n",
      "Optimization restart 1/5, f = -1072.697315759001\n",
      "Optimization restart 2/5, f = -1073.1877226933825\n",
      "Optimization restart 3/5, f = -1072.8582309066803\n",
      "Optimization restart 4/5, f = -1072.7806304664048\n",
      "Optimization restart 5/5, f = -1072.96030848883\n",
      "Optimization restart 1/5, f = -79.61201564839348\n"
     ]
    },
    {
     "name": "stderr",
     "output_type": "stream",
     "text": [
      " /Users/dananjayaliyanage/miniconda3/envs/parton_loss/lib/python3.6/site-packages/GPy/kern/src/stationary.py:137: RuntimeWarning:overflow encountered in square\n",
      " /Users/dananjayaliyanage/miniconda3/envs/parton_loss/lib/python3.6/site-packages/GPy/kern/src/stationary.py:138: RuntimeWarning:invalid value encountered in add\n",
      " /Users/dananjayaliyanage/miniconda3/envs/parton_loss/lib/python3.6/site-packages/GPy/kern/src/rbf.py:52: RuntimeWarning:overflow encountered in square\n"
     ]
    },
    {
     "name": "stdout",
     "output_type": "stream",
     "text": [
      "Optimization restart 2/5, f = -87.02877808876853\n",
      "Optimization restart 3/5, f = -60.724035109078\n"
     ]
    },
    {
     "name": "stderr",
     "output_type": "stream",
     "text": [
      " /Users/dananjayaliyanage/miniconda3/envs/parton_loss/lib/python3.6/site-packages/GPy/kern/src/rbf.py:76: RuntimeWarning:invalid value encountered in multiply\n"
     ]
    },
    {
     "name": "stdout",
     "output_type": "stream",
     "text": [
      "Optimization restart 4/5, f = -119.31077198873913\n",
      "Optimization restart 5/5, f = -82.91988259276567\n",
      "Optimization restart 1/5, f = -75.84680059559209\n",
      "Optimization restart 2/5, f = -87.64979251008481\n",
      "Optimization restart 3/5, f = -88.43804758548623\n",
      "Optimization restart 4/5, f = -87.88065471281666\n",
      "Optimization restart 5/5, f = -85.36319029521853\n",
      "(97, 1)\n",
      "r2 score for multifidelity linear 0.9876910240352029\n",
      "mse for multifidelity linear 1.987146731067436e-05\n",
      "(97, 1)\n",
      "r2 score for multifidelity nonlinear 0.9548747547471462\n",
      "mse for multifidelity nonlinear 7.28496699069661e-05\n",
      "(97, 1)\n",
      "r2 score for standard GP 0.6874683935496317\n",
      "mse for standard GP 0.0005045473822430542\n"
     ]
    },
    {
     "name": "stderr",
     "output_type": "stream",
     "text": [
      " /Users/dananjayaliyanage/miniconda3/envs/parton_loss/lib/python3.6/site-packages/GPy/kern/src/stationary.py:243: RuntimeWarning:invalid value encountered in true_divide\n"
     ]
    },
    {
     "name": "stdout",
     "output_type": "stream",
     "text": [
      "Optimization restart 1/5, f = -1246.1087874573777\n",
      "Optimization restart 2/5, f = -1176.7026887789013\n",
      "Optimization restart 3/5, f = -1265.243045494238\n",
      "Optimization restart 4/5, f = -1282.7327470032944\n",
      "Optimization restart 5/5, f = -1262.8691780300228\n",
      "Optimization restart 1/5, f = -1072.697315759001\n",
      "Optimization restart 2/5, f = -1073.1055314353575\n",
      "Optimization restart 3/5, f = -1072.7549931542235\n",
      "Optimization restart 4/5, f = -1072.6538265879622\n",
      "Optimization restart 5/5, f = -1072.6746695815618\n",
      "Optimization restart 1/5, f = -129.78146118099946\n",
      "Optimization restart 2/5, f = -191.23771577742846\n",
      "Optimization restart 3/5, f = -186.54286093321903\n",
      "Optimization restart 4/5, f = -180.8851348101246\n"
     ]
    },
    {
     "name": "stderr",
     "output_type": "stream",
     "text": [
      " /Users/dananjayaliyanage/miniconda3/envs/parton_loss/lib/python3.6/site-packages/GPy/kern/src/stationary.py:137: RuntimeWarning:overflow encountered in square\n",
      " /Users/dananjayaliyanage/miniconda3/envs/parton_loss/lib/python3.6/site-packages/GPy/kern/src/stationary.py:138: RuntimeWarning:invalid value encountered in add\n",
      " /Users/dananjayaliyanage/miniconda3/envs/parton_loss/lib/python3.6/site-packages/GPy/kern/src/stationary.py:166: RuntimeWarning:overflow encountered in true_divide\n"
     ]
    },
    {
     "name": "stdout",
     "output_type": "stream",
     "text": [
      "Optimization restart 5/5, f = -189.66081313336085\n",
      "Optimization restart 1/5, f = -129.76816004961114\n",
      "Optimization restart 2/5, f = -103.85113498652149\n",
      "Optimization restart 3/5, f = -132.83867210618746\n",
      "Optimization restart 4/5, f = -132.9573924543521\n",
      "Optimization restart 5/5, f = -129.77215133384865\n",
      "(97, 1)\n",
      "r2 score for multifidelity linear 0.976565350724628\n",
      "mse for multifidelity linear 3.783262461024304e-05\n",
      "(97, 1)\n",
      "r2 score for multifidelity nonlinear 0.9535250293522747\n",
      "mse for multifidelity nonlinear 7.502865085057056e-05\n",
      "(97, 1)\n",
      "r2 score for standard GP 0.712041198964011\n",
      "mse for standard GP 0.0004648773316295912\n",
      "Optimization restart 1/5, f = -1368.7405613098442\n"
     ]
    },
    {
     "name": "stderr",
     "output_type": "stream",
     "text": [
      " /Users/dananjayaliyanage/miniconda3/envs/parton_loss/lib/python3.6/site-packages/GPy/kern/src/stationary.py:243: RuntimeWarning:invalid value encountered in true_divide\n"
     ]
    },
    {
     "name": "stdout",
     "output_type": "stream",
     "text": [
      "Optimization restart 2/5, f = -1321.4987729133254\n"
     ]
    },
    {
     "name": "stderr",
     "output_type": "stream",
     "text": [
      " /Users/dananjayaliyanage/miniconda3/envs/parton_loss/lib/python3.6/site-packages/GPy/kern/src/stationary.py:165: RuntimeWarning:overflow encountered in true_divide\n",
      " /Users/dananjayaliyanage/miniconda3/envs/parton_loss/lib/python3.6/site-packages/GPy/kern/src/stationary.py:166: RuntimeWarning:overflow encountered in true_divide\n",
      " /Users/dananjayaliyanage/miniconda3/envs/parton_loss/lib/python3.6/site-packages/GPy/kern/src/stationary.py:144: RuntimeWarning:overflow encountered in square\n",
      " /Users/dananjayaliyanage/miniconda3/envs/parton_loss/lib/python3.6/site-packages/GPy/kern/src/stationary.py:145: RuntimeWarning:overflow encountered in square\n",
      " /Users/dananjayaliyanage/miniconda3/envs/parton_loss/lib/python3.6/site-packages/GPy/kern/src/stationary.py:146: RuntimeWarning:invalid value encountered in add\n"
     ]
    },
    {
     "name": "stdout",
     "output_type": "stream",
     "text": [
      "Optimization restart 3/5, f = -1361.6493061351703\n",
      "Optimization restart 4/5, f = -1374.308407056828\n",
      "Optimization restart 5/5, f = -1351.9816511340775\n",
      "Optimization restart 1/5, f = -1072.697315759001\n",
      "Optimization restart 2/5, f = -1073.1493525698986\n",
      "Optimization restart 3/5, f = -1072.8582471432321\n",
      "Optimization restart 4/5, f = -1072.7725879360894\n",
      "Optimization restart 5/5, f = -1072.9589331924399\n",
      "Optimization restart 1/5, f = -177.9089583390128\n",
      "Optimization restart 2/5, f = -177.90946687930148\n",
      "Optimization restart 3/5, f = -230.7977952062776\n",
      "Optimization restart 4/5, f = -177.9068217771506\n",
      "Optimization restart 5/5, f = -252.90674308797244\n",
      "Optimization restart 1/5, f = -177.8993623398885\n",
      "Optimization restart 2/5, f = -177.90705117082663\n",
      "Optimization restart 3/5, f = -177.78600748024525\n",
      "Optimization restart 4/5, f = -177.9086726363778\n",
      "Optimization restart 5/5, f = -177.89695589763244\n",
      "(97, 1)\n",
      "r2 score for multifidelity linear 0.9890813727859618\n",
      "mse for multifidelity linear 1.7626904494875882e-05\n",
      "(97, 1)\n",
      "r2 score for multifidelity nonlinear 0.9760317783802431\n",
      "mse for multifidelity nonlinear 3.869401758311484e-05\n",
      "(97, 1)\n",
      "r2 score for standard GP 0.8510336781991756\n",
      "mse for standard GP 0.00024048949340078427\n",
      "Optimization restart 1/5, f = -1520.366313738789\n"
     ]
    },
    {
     "name": "stderr",
     "output_type": "stream",
     "text": [
      " /Users/dananjayaliyanage/miniconda3/envs/parton_loss/lib/python3.6/site-packages/GPy/kern/src/stationary.py:243: RuntimeWarning:invalid value encountered in true_divide\n"
     ]
    },
    {
     "name": "stdout",
     "output_type": "stream",
     "text": [
      "Optimization restart 2/5, f = -1264.4369154012174\n"
     ]
    },
    {
     "name": "stderr",
     "output_type": "stream",
     "text": [
      " /Users/dananjayaliyanage/miniconda3/envs/parton_loss/lib/python3.6/site-packages/GPy/kern/src/stationary.py:165: RuntimeWarning:overflow encountered in true_divide\n",
      " /Users/dananjayaliyanage/miniconda3/envs/parton_loss/lib/python3.6/site-packages/GPy/kern/src/stationary.py:166: RuntimeWarning:overflow encountered in true_divide\n",
      " /Users/dananjayaliyanage/miniconda3/envs/parton_loss/lib/python3.6/site-packages/GPy/kern/src/stationary.py:144: RuntimeWarning:overflow encountered in square\n",
      " /Users/dananjayaliyanage/miniconda3/envs/parton_loss/lib/python3.6/site-packages/GPy/kern/src/stationary.py:145: RuntimeWarning:overflow encountered in square\n",
      " /Users/dananjayaliyanage/miniconda3/envs/parton_loss/lib/python3.6/site-packages/GPy/kern/src/stationary.py:146: RuntimeWarning:invalid value encountered in add\n",
      " /Users/dananjayaliyanage/miniconda3/envs/parton_loss/lib/python3.6/site-packages/GPy/kern/src/rbf.py:76: RuntimeWarning:invalid value encountered in multiply\n"
     ]
    },
    {
     "name": "stdout",
     "output_type": "stream",
     "text": [
      "Optimization restart 3/5, f = -1439.5094085830888\n",
      "Optimization restart 4/5, f = -1395.0038394891178\n",
      "Optimization restart 5/5, f = -1447.9879704405507\n",
      "Optimization restart 1/5, f = -1072.697315759001\n",
      "Optimization restart 2/5, f = -1073.0498351099154\n",
      "Optimization restart 3/5, f = -1072.8031446112755\n",
      "Optimization restart 4/5, f = -1072.7662514673343\n",
      "Optimization restart 5/5, f = -1073.016294970992\n",
      "Optimization restart 1/5, f = -304.29994034907156\n",
      "Optimization restart 2/5, f = -230.79991720940228\n",
      "Optimization restart 3/5, f = -290.2127506220265\n",
      "Optimization restart 4/5, f = -294.0127741408206\n",
      "Optimization restart 5/5, f = -231.17843523730596\n",
      "Optimization restart 1/5, f = -230.84751637464086\n",
      "Optimization restart 2/5, f = -216.76124050277068\n",
      "Optimization restart 3/5, f = -230.75814671498077\n",
      "Optimization restart 4/5, f = -192.13524020201555\n",
      "Optimization restart 5/5, f = -221.7625953109229\n",
      "(97, 1)\n",
      "r2 score for multifidelity linear 0.9838723585909946\n",
      "mse for multifidelity linear 2.6036276289260895e-05\n",
      "(97, 1)\n",
      "r2 score for multifidelity nonlinear 0.9584218408274684\n",
      "mse for multifidelity nonlinear 6.712329548761109e-05\n",
      "(97, 1)\n",
      "r2 score for standard GP 0.9093469500102555\n",
      "mse for standard GP 0.00014634922715228764\n",
      "Optimization restart 1/5, f = -1626.0444511436967\n",
      "Optimization restart 2/5, f = -1533.1946675613444\n",
      "Optimization restart 3/5, f = -1525.162812563935\n"
     ]
    },
    {
     "name": "stderr",
     "output_type": "stream",
     "text": [
      " /Users/dananjayaliyanage/miniconda3/envs/parton_loss/lib/python3.6/site-packages/GPy/kern/src/stationary.py:165: RuntimeWarning:overflow encountered in true_divide\n",
      " /Users/dananjayaliyanage/miniconda3/envs/parton_loss/lib/python3.6/site-packages/GPy/kern/src/stationary.py:166: RuntimeWarning:overflow encountered in true_divide\n",
      " /Users/dananjayaliyanage/miniconda3/envs/parton_loss/lib/python3.6/site-packages/GPy/kern/src/stationary.py:144: RuntimeWarning:overflow encountered in square\n",
      " /Users/dananjayaliyanage/miniconda3/envs/parton_loss/lib/python3.6/site-packages/GPy/kern/src/stationary.py:145: RuntimeWarning:overflow encountered in square\n",
      " /Users/dananjayaliyanage/miniconda3/envs/parton_loss/lib/python3.6/site-packages/GPy/kern/src/stationary.py:146: RuntimeWarning:invalid value encountered in add\n",
      " /Users/dananjayaliyanage/miniconda3/envs/parton_loss/lib/python3.6/site-packages/GPy/kern/src/rbf.py:76: RuntimeWarning:invalid value encountered in multiply\n"
     ]
    },
    {
     "name": "stdout",
     "output_type": "stream",
     "text": [
      "Optimization restart 4/5, f = -1472.1330114470804\n",
      "Optimization restart 5/5, f = -1625.0716608801679\n",
      "Optimization restart 1/5, f = -1072.697315759001\n",
      "Optimization restart 2/5, f = -1072.8770151313686\n",
      "Optimization restart 3/5, f = -1072.6042971461434\n",
      "Optimization restart 4/5, f = -1073.1288052259574\n",
      "Optimization restart 5/5, f = -1072.9609153043743\n",
      "Optimization restart 1/5, f = -269.32627389945327\n",
      "Optimization restart 2/5, f = -367.91736568377166\n"
     ]
    },
    {
     "name": "stderr",
     "output_type": "stream",
     "text": [
      " /Users/dananjayaliyanage/miniconda3/envs/parton_loss/lib/python3.6/site-packages/GPy/kern/src/stationary.py:243: RuntimeWarning:invalid value encountered in true_divide\n",
      " /Users/dananjayaliyanage/miniconda3/envs/parton_loss/lib/python3.6/site-packages/GPy/kern/src/stationary.py:137: RuntimeWarning:overflow encountered in square\n",
      " /Users/dananjayaliyanage/miniconda3/envs/parton_loss/lib/python3.6/site-packages/GPy/kern/src/stationary.py:138: RuntimeWarning:invalid value encountered in add\n"
     ]
    },
    {
     "name": "stdout",
     "output_type": "stream",
     "text": [
      "Optimization restart 3/5, f = -388.81151022242125\n",
      "Optimization restart 4/5, f = -271.11330570267637\n",
      "Optimization restart 5/5, f = -358.32461299210735\n",
      "Optimization restart 1/5, f = -269.3633880387835\n",
      "Optimization restart 2/5, f = -259.80322157741836\n",
      "Optimization restart 3/5, f = 89.28574855897642\n",
      "Optimization restart 4/5, f = -275.9090330372835\n",
      "Optimization restart 5/5, f = -271.10655496803645\n",
      "(97, 1)\n",
      "r2 score for multifidelity linear 0.985138974791901\n",
      "mse for multifidelity linear 2.399146585958218e-05\n",
      "(97, 1)\n",
      "r2 score for multifidelity nonlinear 0.9787573466068952\n",
      "mse for multifidelity nonlinear 3.42938920102138e-05\n",
      "(97, 1)\n",
      "r2 score for standard GP 0.9081490825022639\n",
      "mse for standard GP 0.00014828305049353473\n",
      "Optimization restart 1/5, f = -1729.7607254745003\n"
     ]
    },
    {
     "name": "stderr",
     "output_type": "stream",
     "text": [
      " /Users/dananjayaliyanage/miniconda3/envs/parton_loss/lib/python3.6/site-packages/GPy/kern/src/stationary.py:165: RuntimeWarning:overflow encountered in true_divide\n",
      " /Users/dananjayaliyanage/miniconda3/envs/parton_loss/lib/python3.6/site-packages/GPy/kern/src/stationary.py:166: RuntimeWarning:overflow encountered in true_divide\n",
      " /Users/dananjayaliyanage/miniconda3/envs/parton_loss/lib/python3.6/site-packages/GPy/kern/src/stationary.py:144: RuntimeWarning:overflow encountered in square\n",
      " /Users/dananjayaliyanage/miniconda3/envs/parton_loss/lib/python3.6/site-packages/GPy/kern/src/stationary.py:145: RuntimeWarning:overflow encountered in square\n",
      " /Users/dananjayaliyanage/miniconda3/envs/parton_loss/lib/python3.6/site-packages/GPy/kern/src/stationary.py:146: RuntimeWarning:invalid value encountered in add\n"
     ]
    },
    {
     "name": "stdout",
     "output_type": "stream",
     "text": [
      "Optimization restart 2/5, f = -1579.572603958226\n"
     ]
    },
    {
     "name": "stderr",
     "output_type": "stream",
     "text": [
      " /Users/dananjayaliyanage/miniconda3/envs/parton_loss/lib/python3.6/site-packages/GPy/kern/src/rbf.py:76: RuntimeWarning:invalid value encountered in multiply\n"
     ]
    },
    {
     "name": "stdout",
     "output_type": "stream",
     "text": [
      "Optimization restart 3/5, f = -1548.6892591056003\n",
      "Optimization restart 4/5, f = -1461.9198004635405\n"
     ]
    },
    {
     "name": "stderr",
     "output_type": "stream",
     "text": [
      " /Users/dananjayaliyanage/miniconda3/envs/parton_loss/lib/python3.6/site-packages/GPy/kern/src/stationary.py:243: RuntimeWarning:invalid value encountered in true_divide\n"
     ]
    },
    {
     "name": "stdout",
     "output_type": "stream",
     "text": [
      "Optimization restart 5/5, f = -1488.114840760973\n",
      "Optimization restart 1/5, f = -1072.697315759001\n",
      "Optimization restart 2/5, f = -1072.7419800977232\n"
     ]
    },
    {
     "name": "stderr",
     "output_type": "stream",
     "text": [
      " /Users/dananjayaliyanage/miniconda3/envs/parton_loss/lib/python3.6/site-packages/GPy/kern/src/stationary.py:137: RuntimeWarning:overflow encountered in square\n",
      " /Users/dananjayaliyanage/miniconda3/envs/parton_loss/lib/python3.6/site-packages/GPy/kern/src/stationary.py:138: RuntimeWarning:invalid value encountered in add\n"
     ]
    },
    {
     "name": "stdout",
     "output_type": "stream",
     "text": [
      "Optimization restart 3/5, f = -1072.8985189728376\n",
      "Optimization restart 4/5, f = -909.1818364503317\n",
      "Optimization restart 5/5, f = -1072.803311956668\n",
      "Optimization restart 1/5, f = -314.76272656276933\n",
      "Optimization restart 2/5, f = -409.6473188286062\n",
      "Optimization restart 3/5, f = -314.76295293394656\n",
      "Optimization restart 4/5, f = -314.7629830587447\n",
      "Optimization restart 5/5, f = -453.25563847311724\n",
      "Optimization restart 1/5, f = -328.7985880543132\n",
      "Optimization restart 2/5, f = -314.7629612913437\n",
      "Optimization restart 3/5, f = -314.76297361310117\n",
      "Optimization restart 4/5, f = -326.1191781639248\n",
      "Optimization restart 5/5, f = -314.6333820165111\n",
      "(97, 1)\n",
      "r2 score for multifidelity linear 0.9850903342130289\n",
      "mse for multifidelity linear 2.406999064310536e-05\n",
      "(97, 1)\n",
      "r2 score for multifidelity nonlinear 0.9782396290694643\n",
      "mse for multifidelity nonlinear 3.5129689167560085e-05\n",
      "(97, 1)\n",
      "r2 score for standard GP 0.9372999688599426\n",
      "mse for standard GP 0.00010122219937233059\n",
      "Optimization restart 1/5, f = -1827.4515144152285\n",
      "Optimization restart 2/5, f = -1662.083991416121\n"
     ]
    },
    {
     "name": "stderr",
     "output_type": "stream",
     "text": [
      " /Users/dananjayaliyanage/miniconda3/envs/parton_loss/lib/python3.6/site-packages/GPy/kern/src/stationary.py:243: RuntimeWarning:invalid value encountered in true_divide\n"
     ]
    },
    {
     "name": "stdout",
     "output_type": "stream",
     "text": [
      "Optimization restart 3/5, f = -1070.7727523874132\n"
     ]
    },
    {
     "name": "stderr",
     "output_type": "stream",
     "text": [
      " /Users/dananjayaliyanage/miniconda3/envs/parton_loss/lib/python3.6/site-packages/GPy/kern/src/stationary.py:165: RuntimeWarning:overflow encountered in true_divide\n",
      " /Users/dananjayaliyanage/miniconda3/envs/parton_loss/lib/python3.6/site-packages/GPy/kern/src/stationary.py:166: RuntimeWarning:overflow encountered in true_divide\n",
      " /Users/dananjayaliyanage/miniconda3/envs/parton_loss/lib/python3.6/site-packages/GPy/kern/src/stationary.py:144: RuntimeWarning:overflow encountered in square\n",
      " /Users/dananjayaliyanage/miniconda3/envs/parton_loss/lib/python3.6/site-packages/GPy/kern/src/stationary.py:145: RuntimeWarning:overflow encountered in square\n",
      " /Users/dananjayaliyanage/miniconda3/envs/parton_loss/lib/python3.6/site-packages/GPy/kern/src/stationary.py:146: RuntimeWarning:invalid value encountered in add\n"
     ]
    },
    {
     "name": "stdout",
     "output_type": "stream",
     "text": [
      "Optimization restart 4/5, f = -1653.662645174187\n",
      "Optimization restart 5/5, f = -1472.0604739465748\n",
      "Optimization restart 1/5, f = -1072.697315759001\n",
      "Optimization restart 2/5, f = -1072.760603275165\n",
      "Optimization restart 3/5, f = -1072.6750598797344\n",
      "Optimization restart 4/5, f = -1072.6981155572755\n",
      "Optimization restart 5/5, f = -1073.1668876786628\n",
      "Optimization restart 1/5, f = -484.40094903721973\n",
      "Optimization restart 2/5, f = -469.93018111270254\n"
     ]
    },
    {
     "name": "stderr",
     "output_type": "stream",
     "text": [
      " /Users/dananjayaliyanage/miniconda3/envs/parton_loss/lib/python3.6/site-packages/GPy/kern/src/stationary.py:137: RuntimeWarning:overflow encountered in square\n",
      " /Users/dananjayaliyanage/miniconda3/envs/parton_loss/lib/python3.6/site-packages/GPy/kern/src/stationary.py:138: RuntimeWarning:invalid value encountered in add\n",
      " /Users/dananjayaliyanage/miniconda3/envs/parton_loss/lib/python3.6/site-packages/GPy/kern/src/rbf.py:52: RuntimeWarning:overflow encountered in square\n"
     ]
    },
    {
     "name": "stdout",
     "output_type": "stream",
     "text": [
      "Optimization restart 3/5, f = -518.7270976783564\n",
      "Optimization restart 4/5, f = -374.22075300834945\n",
      "Optimization restart 5/5, f = -465.54916621947996\n",
      "Optimization restart 1/5, f = -374.1640872645087\n",
      "Optimization restart 2/5, f = -374.4593250349\n",
      "Optimization restart 3/5, f = -374.6073778319513\n",
      "Optimization restart 4/5, f = -373.6321541849442\n",
      "Optimization restart 5/5, f = -374.82761363023576\n",
      "(97, 1)\n",
      "r2 score for multifidelity linear 0.9842661615087008\n",
      "mse for multifidelity linear 2.5400525449513792e-05\n",
      "(97, 1)\n",
      "r2 score for multifidelity nonlinear 0.9779736201225451\n",
      "mse for multifidelity nonlinear 3.555913091057512e-05\n",
      "(97, 1)\n",
      "r2 score for standard GP 0.9467861991590745\n",
      "mse for standard GP 8.590773975929363e-05\n",
      "Optimization restart 1/5, f = -1932.750376559377\n"
     ]
    },
    {
     "name": "stderr",
     "output_type": "stream",
     "text": [
      " /Users/dananjayaliyanage/miniconda3/envs/parton_loss/lib/python3.6/site-packages/GPy/kern/src/stationary.py:144: RuntimeWarning:overflow encountered in square\n",
      " /Users/dananjayaliyanage/miniconda3/envs/parton_loss/lib/python3.6/site-packages/GPy/kern/src/stationary.py:145: RuntimeWarning:overflow encountered in square\n",
      " /Users/dananjayaliyanage/miniconda3/envs/parton_loss/lib/python3.6/site-packages/GPy/kern/src/stationary.py:146: RuntimeWarning:invalid value encountered in add\n",
      " /Users/dananjayaliyanage/miniconda3/envs/parton_loss/lib/python3.6/site-packages/GPy/kern/src/stationary.py:165: RuntimeWarning:overflow encountered in true_divide\n",
      " /Users/dananjayaliyanage/miniconda3/envs/parton_loss/lib/python3.6/site-packages/GPy/kern/src/stationary.py:166: RuntimeWarning:overflow encountered in true_divide\n"
     ]
    },
    {
     "name": "stdout",
     "output_type": "stream",
     "text": [
      "Optimization restart 2/5, f = -1729.1162928324916\n"
     ]
    },
    {
     "name": "stderr",
     "output_type": "stream",
     "text": [
      " /Users/dananjayaliyanage/miniconda3/envs/parton_loss/lib/python3.6/site-packages/GPy/kern/src/stationary.py:243: RuntimeWarning:invalid value encountered in true_divide\n"
     ]
    },
    {
     "name": "stdout",
     "output_type": "stream",
     "text": [
      "Optimization restart 3/5, f = -1743.3531808150358\n",
      "Optimization restart 4/5, f = -1714.922899069531\n",
      "Optimization restart 5/5, f = -1711.9629472029324\n",
      "Optimization restart 1/5, f = -1072.697315759001\n",
      "Optimization restart 2/5, f = -1072.9812105474039\n",
      "Optimization restart 3/5, f = -1073.1300927791658\n",
      "Optimization restart 4/5, f = -1016.8760015161506\n",
      "Optimization restart 5/5, f = -1072.9734464693474\n",
      "Optimization restart 1/5, f = -430.55012377841643\n",
      "Optimization restart 2/5, f = -547.765198583201\n",
      "Optimization restart 3/5, f = -429.95554317551756\n",
      "Optimization restart 4/5, f = -430.79717003383416\n",
      "Optimization restart 5/5, f = -529.2178583382771\n",
      "Optimization restart 1/5, f = -430.7403226482882\n",
      "Optimization restart 2/5, f = -430.26435420240983\n",
      "Optimization restart 3/5, f = -448.7423896035639\n",
      "Optimization restart 4/5, f = -430.6617987441784\n",
      "Optimization restart 5/5, f = -430.56246111371325\n",
      "(97, 1)\n",
      "r2 score for multifidelity linear 0.9844218173692804\n",
      "mse for multifidelity linear 2.514923644268922e-05\n",
      "(97, 1)\n",
      "r2 score for multifidelity nonlinear 0.9769296767210616\n",
      "mse for multifidelity nonlinear 3.724446096858338e-05\n",
      "(97, 1)\n",
      "r2 score for standard GP 0.9518021275082384\n",
      "mse for standard GP 7.781008350355317e-05\n",
      "Optimization restart 1/5, f = -2020.8461773820598\n",
      "Optimization restart 2/5, f = -1842.029284953382\n"
     ]
    },
    {
     "name": "stderr",
     "output_type": "stream",
     "text": [
      " /Users/dananjayaliyanage/miniconda3/envs/parton_loss/lib/python3.6/site-packages/GPy/kern/src/stationary.py:243: RuntimeWarning:invalid value encountered in true_divide\n"
     ]
    },
    {
     "name": "stdout",
     "output_type": "stream",
     "text": [
      "Optimization restart 3/5, f = -1694.4591353648195\n",
      "Optimization restart 4/5, f = -1796.9618076716733\n"
     ]
    },
    {
     "name": "stderr",
     "output_type": "stream",
     "text": [
      " /Users/dananjayaliyanage/miniconda3/envs/parton_loss/lib/python3.6/site-packages/GPy/kern/src/stationary.py:144: RuntimeWarning:overflow encountered in square\n",
      " /Users/dananjayaliyanage/miniconda3/envs/parton_loss/lib/python3.6/site-packages/GPy/kern/src/stationary.py:145: RuntimeWarning:overflow encountered in square\n",
      " /Users/dananjayaliyanage/miniconda3/envs/parton_loss/lib/python3.6/site-packages/GPy/kern/src/stationary.py:146: RuntimeWarning:invalid value encountered in add\n",
      " /Users/dananjayaliyanage/miniconda3/envs/parton_loss/lib/python3.6/site-packages/GPy/kern/src/stationary.py:165: RuntimeWarning:overflow encountered in true_divide\n",
      " /Users/dananjayaliyanage/miniconda3/envs/parton_loss/lib/python3.6/site-packages/GPy/kern/src/stationary.py:166: RuntimeWarning:overflow encountered in true_divide\n"
     ]
    },
    {
     "name": "stdout",
     "output_type": "stream",
     "text": [
      "Optimization restart 5/5, f = -1859.3370766686298\n",
      "Optimization restart 1/5, f = -1072.697315759001\n",
      "Optimization restart 2/5, f = -1072.9463924784673\n",
      "Optimization restart 3/5, f = -1073.0223673341352\n",
      "Optimization restart 4/5, f = -1072.8613211008283\n",
      "Optimization restart 5/5, f = -1073.0512403891569\n",
      "Optimization restart 1/5, f = -484.7088624341028\n",
      "Optimization restart 2/5, f = -494.32570225882705\n",
      "Optimization restart 3/5, f = -584.6020919241959\n",
      "Optimization restart 4/5, f = -586.5354575000097\n",
      "Optimization restart 5/5, f = -484.49210124616275\n"
     ]
    },
    {
     "name": "stderr",
     "output_type": "stream",
     "text": [
      " /Users/dananjayaliyanage/miniconda3/envs/parton_loss/lib/python3.6/site-packages/GPy/kern/src/stationary.py:137: RuntimeWarning:overflow encountered in square\n",
      " /Users/dananjayaliyanage/miniconda3/envs/parton_loss/lib/python3.6/site-packages/GPy/kern/src/stationary.py:138: RuntimeWarning:invalid value encountered in add\n",
      " /Users/dananjayaliyanage/miniconda3/envs/parton_loss/lib/python3.6/site-packages/GPy/kern/src/rbf.py:76: RuntimeWarning:invalid value encountered in multiply\n"
     ]
    },
    {
     "name": "stdout",
     "output_type": "stream",
     "text": [
      "Optimization restart 1/5, f = -485.24414579356835\n",
      "Optimization restart 2/5, f = -504.81768282860685\n",
      "Optimization restart 3/5, f = -484.70962047239914\n",
      "Optimization restart 4/5, f = -484.4821604278071\n",
      "Optimization restart 5/5, f = -484.27571282530596\n",
      "(97, 1)\n",
      "r2 score for multifidelity linear 0.9846620909939697\n",
      "mse for multifidelity linear 2.476134150388309e-05\n",
      "(97, 1)\n",
      "r2 score for multifidelity nonlinear 0.9783933740324308\n",
      "mse for multifidelity nonlinear 3.4881485091566586e-05\n",
      "(97, 1)\n",
      "r2 score for standard GP 0.9581672916995457\n",
      "mse for standard GP 6.753423663242625e-05\n",
      "Optimization restart 1/5, f = -2126.3552106383504\n",
      "Optimization restart 2/5, f = -1876.9132232432885\n"
     ]
    },
    {
     "name": "stderr",
     "output_type": "stream",
     "text": [
      " /Users/dananjayaliyanage/miniconda3/envs/parton_loss/lib/python3.6/site-packages/GPy/kern/src/stationary.py:144: RuntimeWarning:overflow encountered in square\n",
      " /Users/dananjayaliyanage/miniconda3/envs/parton_loss/lib/python3.6/site-packages/GPy/kern/src/stationary.py:145: RuntimeWarning:overflow encountered in square\n",
      " /Users/dananjayaliyanage/miniconda3/envs/parton_loss/lib/python3.6/site-packages/GPy/kern/src/stationary.py:146: RuntimeWarning:invalid value encountered in add\n",
      " /Users/dananjayaliyanage/miniconda3/envs/parton_loss/lib/python3.6/site-packages/GPy/kern/src/rbf.py:76: RuntimeWarning:invalid value encountered in multiply\n",
      " /Users/dananjayaliyanage/miniconda3/envs/parton_loss/lib/python3.6/site-packages/GPy/kern/src/stationary.py:165: RuntimeWarning:overflow encountered in true_divide\n",
      " /Users/dananjayaliyanage/miniconda3/envs/parton_loss/lib/python3.6/site-packages/GPy/kern/src/stationary.py:166: RuntimeWarning:overflow encountered in true_divide\n"
     ]
    },
    {
     "name": "stdout",
     "output_type": "stream",
     "text": [
      "Optimization restart 3/5, f = -1922.3899765000285\n",
      "Optimization restart 4/5, f = -1896.1843559983872\n",
      "Optimization restart 5/5, f = -1921.724131624736\n",
      "Optimization restart 1/5, f = -1072.697315759001\n",
      "Optimization restart 2/5, f = -1073.2639636880226\n",
      "Optimization restart 3/5, f = -1073.1506311049047\n",
      "Optimization restart 4/5, f = -1072.9737082420609\n",
      "Optimization restart 5/5, f = -1073.1173449245375\n",
      "Optimization restart 1/5, f = -535.6027566643581\n",
      "Optimization restart 2/5, f = -556.3291942476624\n",
      "Optimization restart 3/5, f = -632.8082455474782\n",
      "Optimization restart 4/5, f = -634.0033219042551\n",
      "Optimization restart 5/5, f = -535.8223350603472\n",
      "Optimization restart 1/5, f = -535.1705984153996\n",
      "Optimization restart 2/5, f = -534.2165034315549\n",
      "Optimization restart 3/5, f = -534.4086177256647\n",
      "Optimization restart 4/5, f = -534.7309474070363\n",
      "Optimization restart 5/5, f = -534.958991360943\n",
      "(97, 1)\n",
      "r2 score for multifidelity linear 0.9847271337935344\n",
      "mse for multifidelity linear 2.46563371664759e-05\n",
      "(97, 1)\n",
      "r2 score for multifidelity nonlinear 0.9811523337318009\n",
      "mse for multifidelity nonlinear 3.0427452714356974e-05\n",
      "(97, 1)\n",
      "r2 score for standard GP 0.967554436378825\n",
      "mse for standard GP 5.237973968902896e-05\n",
      "Optimization restart 1/5, f = -2228.269740013053\n",
      "Optimization restart 2/5, f = -2004.5192222879018\n",
      "Optimization restart 3/5, f = -2003.540700680935\n"
     ]
    },
    {
     "name": "stderr",
     "output_type": "stream",
     "text": [
      " /Users/dananjayaliyanage/miniconda3/envs/parton_loss/lib/python3.6/site-packages/GPy/kern/src/stationary.py:144: RuntimeWarning:overflow encountered in square\n",
      " /Users/dananjayaliyanage/miniconda3/envs/parton_loss/lib/python3.6/site-packages/GPy/kern/src/stationary.py:145: RuntimeWarning:overflow encountered in square\n",
      " /Users/dananjayaliyanage/miniconda3/envs/parton_loss/lib/python3.6/site-packages/GPy/kern/src/stationary.py:146: RuntimeWarning:invalid value encountered in add\n",
      " /Users/dananjayaliyanage/miniconda3/envs/parton_loss/lib/python3.6/site-packages/GPy/kern/src/stationary.py:165: RuntimeWarning:overflow encountered in true_divide\n",
      " /Users/dananjayaliyanage/miniconda3/envs/parton_loss/lib/python3.6/site-packages/GPy/kern/src/stationary.py:166: RuntimeWarning:overflow encountered in true_divide\n"
     ]
    },
    {
     "name": "stdout",
     "output_type": "stream",
     "text": [
      "Optimization restart 4/5, f = -2002.5031704906057\n"
     ]
    },
    {
     "name": "stderr",
     "output_type": "stream",
     "text": [
      " /Users/dananjayaliyanage/miniconda3/envs/parton_loss/lib/python3.6/site-packages/GPy/kern/src/stationary.py:243: RuntimeWarning:invalid value encountered in true_divide\n"
     ]
    },
    {
     "name": "stdout",
     "output_type": "stream",
     "text": [
      "Optimization restart 5/5, f = -1954.3716526827302\n",
      "Optimization restart 1/5, f = -1072.697315759001\n",
      "Optimization restart 2/5, f = -1073.1333553001284\n",
      "Optimization restart 3/5, f = -1072.7615415721211\n",
      "Optimization restart 4/5, f = -1072.5807026944203\n",
      "Optimization restart 5/5, f = -1072.7713345741531\n",
      "Optimization restart 1/5, f = -583.7515050866132\n",
      "Optimization restart 2/5, f = -710.824285218999\n",
      "Optimization restart 3/5, f = -785.146135422164\n"
     ]
    },
    {
     "name": "stderr",
     "output_type": "stream",
     "text": [
      " /Users/dananjayaliyanage/miniconda3/envs/parton_loss/lib/python3.6/site-packages/GPy/kern/src/stationary.py:137: RuntimeWarning:overflow encountered in square\n",
      " /Users/dananjayaliyanage/miniconda3/envs/parton_loss/lib/python3.6/site-packages/GPy/kern/src/stationary.py:138: RuntimeWarning:invalid value encountered in add\n"
     ]
    },
    {
     "name": "stdout",
     "output_type": "stream",
     "text": [
      "Optimization restart 4/5, f = -783.8637128528823\n",
      "Optimization restart 5/5, f = -775.8433110974172\n",
      "Optimization restart 1/5, f = -605.1751881986332\n",
      "Optimization restart 2/5, f = -605.2614366989689\n",
      "Optimization restart 3/5, f = -604.7767285051664\n",
      "Optimization restart 4/5, f = -584.1351674872889\n",
      "Optimization restart 5/5, f = -584.1489660423927\n",
      "(97, 1)\n",
      "r2 score for multifidelity linear 0.9838938055003805\n",
      "mse for multifidelity linear 2.6001652648757033e-05\n",
      "(97, 1)\n",
      "r2 score for multifidelity nonlinear 0.9757074292908715\n",
      "mse for multifidelity nonlinear 3.9217642972028505e-05\n",
      "(97, 1)\n",
      "r2 score for standard GP 0.9704717904229863\n",
      "mse for standard GP 4.7669997328006205e-05\n",
      "Optimization restart 1/5, f = -2322.4684183448917\n"
     ]
    },
    {
     "name": "stderr",
     "output_type": "stream",
     "text": [
      " /Users/dananjayaliyanage/miniconda3/envs/parton_loss/lib/python3.6/site-packages/GPy/kern/src/stationary.py:144: RuntimeWarning:overflow encountered in square\n",
      " /Users/dananjayaliyanage/miniconda3/envs/parton_loss/lib/python3.6/site-packages/GPy/kern/src/stationary.py:145: RuntimeWarning:overflow encountered in square\n",
      " /Users/dananjayaliyanage/miniconda3/envs/parton_loss/lib/python3.6/site-packages/GPy/kern/src/stationary.py:146: RuntimeWarning:invalid value encountered in add\n",
      " /Users/dananjayaliyanage/miniconda3/envs/parton_loss/lib/python3.6/site-packages/GPy/kern/src/stationary.py:165: RuntimeWarning:overflow encountered in true_divide\n",
      " /Users/dananjayaliyanage/miniconda3/envs/parton_loss/lib/python3.6/site-packages/GPy/kern/src/stationary.py:166: RuntimeWarning:overflow encountered in true_divide\n"
     ]
    },
    {
     "name": "stdout",
     "output_type": "stream",
     "text": [
      "Optimization restart 2/5, f = -2071.8812946811445\n",
      "Optimization restart 3/5, f = -2080.3009769045893\n"
     ]
    },
    {
     "name": "stderr",
     "output_type": "stream",
     "text": [
      " /Users/dananjayaliyanage/miniconda3/envs/parton_loss/lib/python3.6/site-packages/GPy/kern/src/stationary.py:243: RuntimeWarning:invalid value encountered in true_divide\n"
     ]
    },
    {
     "name": "stdout",
     "output_type": "stream",
     "text": [
      "Optimization restart 4/5, f = -2001.945306012534\n",
      "Optimization restart 5/5, f = -2063.4137641012207\n",
      "Optimization restart 1/5, f = -1072.697315759001\n",
      "Optimization restart 2/5, f = -1072.7833675493152\n",
      "Optimization restart 3/5, f = -1073.052801060691\n",
      "Optimization restart 4/5, f = -1072.8786333488779\n",
      "Optimization restart 5/5, f = -1072.7298323333798\n",
      "Optimization restart 1/5, f = -644.3895880558744\n",
      "Optimization restart 2/5, f = -791.1130193816755\n",
      "Optimization restart 3/5, f = -756.310832049233\n"
     ]
    },
    {
     "name": "stderr",
     "output_type": "stream",
     "text": [
      " /Users/dananjayaliyanage/miniconda3/envs/parton_loss/lib/python3.6/site-packages/GPy/kern/src/stationary.py:137: RuntimeWarning:overflow encountered in square\n",
      " /Users/dananjayaliyanage/miniconda3/envs/parton_loss/lib/python3.6/site-packages/GPy/kern/src/stationary.py:138: RuntimeWarning:invalid value encountered in add\n",
      " /Users/dananjayaliyanage/miniconda3/envs/parton_loss/lib/python3.6/site-packages/GPy/kern/src/rbf.py:76: RuntimeWarning:invalid value encountered in multiply\n"
     ]
    },
    {
     "name": "stdout",
     "output_type": "stream",
     "text": [
      "Optimization restart 4/5, f = -859.688871333446\n",
      "Optimization restart 5/5, f = -756.2988913621882\n",
      "Optimization restart 1/5, f = -640.862452508511\n",
      "Optimization restart 2/5, f = -666.5623034944609\n",
      "Optimization restart 3/5, f = -641.3366762932985\n",
      "Optimization restart 4/5, f = -644.2611915444453\n",
      "Optimization restart 5/5, f = -644.3920178256162\n",
      "(97, 1)\n",
      "r2 score for multifidelity linear 0.9847939792435725\n",
      "mse for multifidelity linear 2.454842265115811e-05\n",
      "(97, 1)\n",
      "r2 score for multifidelity nonlinear 0.9763692301414014\n",
      "mse for multifidelity nonlinear 3.814923939360807e-05\n",
      "(97, 1)\n",
      "r2 score for standard GP 0.9740576933466907\n",
      "mse for standard GP 4.188095744918651e-05\n",
      "Optimization restart 1/5, f = -2412.8798215453444\n",
      "Optimization restart 2/5, f = -1950.362394930279\n"
     ]
    },
    {
     "name": "stderr",
     "output_type": "stream",
     "text": [
      " /Users/dananjayaliyanage/miniconda3/envs/parton_loss/lib/python3.6/site-packages/GPy/kern/src/stationary.py:243: RuntimeWarning:invalid value encountered in true_divide\n"
     ]
    },
    {
     "name": "stdout",
     "output_type": "stream",
     "text": [
      "Optimization restart 3/5, f = -2079.9385894134457\n"
     ]
    },
    {
     "name": "stderr",
     "output_type": "stream",
     "text": [
      " /Users/dananjayaliyanage/miniconda3/envs/parton_loss/lib/python3.6/site-packages/GPy/kern/src/stationary.py:165: RuntimeWarning:overflow encountered in true_divide\n",
      " /Users/dananjayaliyanage/miniconda3/envs/parton_loss/lib/python3.6/site-packages/GPy/kern/src/stationary.py:166: RuntimeWarning:overflow encountered in true_divide\n",
      " /Users/dananjayaliyanage/miniconda3/envs/parton_loss/lib/python3.6/site-packages/GPy/kern/src/stationary.py:144: RuntimeWarning:overflow encountered in square\n",
      " /Users/dananjayaliyanage/miniconda3/envs/parton_loss/lib/python3.6/site-packages/GPy/kern/src/stationary.py:145: RuntimeWarning:overflow encountered in square\n",
      " /Users/dananjayaliyanage/miniconda3/envs/parton_loss/lib/python3.6/site-packages/GPy/kern/src/stationary.py:146: RuntimeWarning:invalid value encountered in add\n",
      " /Users/dananjayaliyanage/miniconda3/envs/parton_loss/lib/python3.6/site-packages/GPy/kern/src/rbf.py:76: RuntimeWarning:invalid value encountered in multiply\n"
     ]
    },
    {
     "name": "stdout",
     "output_type": "stream",
     "text": [
      "Optimization restart 4/5, f = -2158.8855217156633\n",
      "Optimization restart 5/5, f = -2127.9403977745733\n",
      "Optimization restart 1/5, f = -1072.697315759001\n"
     ]
    },
    {
     "name": "stderr",
     "output_type": "stream",
     "text": [
      " /Users/dananjayaliyanage/miniconda3/envs/parton_loss/lib/python3.6/site-packages/GPy/kern/src/stationary.py:137: RuntimeWarning:overflow encountered in square\n",
      " /Users/dananjayaliyanage/miniconda3/envs/parton_loss/lib/python3.6/site-packages/GPy/kern/src/stationary.py:138: RuntimeWarning:invalid value encountered in add\n"
     ]
    },
    {
     "name": "stdout",
     "output_type": "stream",
     "text": [
      "Optimization restart 2/5, f = -1072.4806662560156\n",
      "Optimization restart 3/5, f = -1073.004218468338\n",
      "Optimization restart 4/5, f = -1072.7891205351395\n",
      "Optimization restart 5/5, f = -1072.7277763811176\n",
      "Optimization restart 1/5, f = -692.894039937748\n",
      "Optimization restart 2/5, f = -937.1003153532989\n",
      "Optimization restart 3/5, f = -693.263902085883\n",
      "Optimization restart 4/5, f = -914.3488820388905\n",
      "Optimization restart 5/5, f = -845.2691582047578\n",
      "Optimization restart 1/5, f = -693.2210221685212\n",
      "Optimization restart 2/5, f = -720.3246639624886\n",
      "Optimization restart 3/5, f = -720.5797341860473\n",
      "Optimization restart 4/5, f = -684.0715978709468\n",
      "Optimization restart 5/5, f = -693.1035823893322\n",
      "(97, 1)\n",
      "r2 score for multifidelity linear 0.9845905589134173\n",
      "mse for multifidelity linear 2.4876822060870673e-05\n",
      "(97, 1)\n",
      "r2 score for multifidelity nonlinear 0.972199127512993\n",
      "mse for multifidelity nonlinear 4.4881404465630794e-05\n",
      "(97, 1)\n",
      "r2 score for standard GP 0.9776040372666198\n",
      "mse for standard GP 3.6155781164918485e-05\n",
      "Optimization restart 1/5, f = -2511.796320821999\n",
      "Optimization restart 2/5, f = -2211.538571115373\n",
      "Optimization restart 3/5, f = -2233.5442339853735\n",
      "Optimization restart 4/5, f = -2232.3047020759086\n",
      "Optimization restart 5/5, f = -2240.0408557197657\n",
      "Optimization restart 1/5, f = -1072.697315759001\n",
      "Optimization restart 2/5, f = -1072.6921537934345\n",
      "Optimization restart 3/5, f = -1072.6446707549608\n",
      "Optimization restart 4/5, f = -1072.540073262156\n",
      "Optimization restart 5/5, f = -1072.8906109115167\n",
      "Optimization restart 1/5, f = -753.2286895839895\n"
     ]
    },
    {
     "name": "stderr",
     "output_type": "stream",
     "text": [
      " /Users/dananjayaliyanage/miniconda3/envs/parton_loss/lib/python3.6/site-packages/GPy/kern/src/stationary.py:137: RuntimeWarning:overflow encountered in square\n",
      " /Users/dananjayaliyanage/miniconda3/envs/parton_loss/lib/python3.6/site-packages/GPy/kern/src/stationary.py:138: RuntimeWarning:invalid value encountered in add\n",
      " /Users/dananjayaliyanage/miniconda3/envs/parton_loss/lib/python3.6/site-packages/GPy/kern/src/stationary.py:166: RuntimeWarning:overflow encountered in true_divide\n",
      " /Users/dananjayaliyanage/miniconda3/envs/parton_loss/lib/python3.6/site-packages/GPy/kern/src/rbf.py:52: RuntimeWarning:overflow encountered in square\n"
     ]
    },
    {
     "name": "stdout",
     "output_type": "stream",
     "text": [
      "Optimization restart 2/5, f = -779.7328039482143\n",
      "Optimization restart 3/5, f = -865.5726788559124\n",
      "Optimization restart 4/5, f = -753.2602075439262\n",
      "Optimization restart 5/5, f = -893.5665751392432\n",
      "Optimization restart 1/5, f = -752.9754909699288\n",
      "Optimization restart 2/5, f = -753.2176424235408\n",
      "Optimization restart 3/5, f = -779.9019586272311\n",
      "Optimization restart 4/5, f = -753.2057456108338\n",
      "Optimization restart 5/5, f = -753.062773902295\n",
      "(97, 1)\n",
      "r2 score for multifidelity linear 0.9838628887636489\n",
      "mse for multifidelity linear 2.6051564268137188e-05\n",
      "(97, 1)\n",
      "r2 score for multifidelity nonlinear 0.9846232321299242\n",
      "mse for multifidelity nonlinear 2.482407480101676e-05\n",
      "(97, 1)\n",
      "r2 score for standard GP 0.9795828715215698\n",
      "mse for standard GP 3.2961174211185007e-05\n",
      "Optimization restart 1/5, f = -2616.6817511714244\n",
      "Optimization restart 2/5, f = -2269.0886285927018\n",
      "Optimization restart 3/5, f = -2568.2907727872052\n",
      "Optimization restart 4/5, f = -2180.787479179139\n"
     ]
    },
    {
     "name": "stderr",
     "output_type": "stream",
     "text": [
      " /Users/dananjayaliyanage/miniconda3/envs/parton_loss/lib/python3.6/site-packages/GPy/kern/src/stationary.py:144: RuntimeWarning:overflow encountered in square\n",
      " /Users/dananjayaliyanage/miniconda3/envs/parton_loss/lib/python3.6/site-packages/GPy/kern/src/stationary.py:145: RuntimeWarning:overflow encountered in square\n",
      " /Users/dananjayaliyanage/miniconda3/envs/parton_loss/lib/python3.6/site-packages/GPy/kern/src/stationary.py:146: RuntimeWarning:invalid value encountered in add\n"
     ]
    },
    {
     "name": "stdout",
     "output_type": "stream",
     "text": [
      "Optimization restart 5/5, f = -2233.5758923657977\n",
      "Optimization restart 1/5, f = -1072.697315759001\n",
      "Optimization restart 2/5, f = -1072.8049158576623\n"
     ]
    },
    {
     "name": "stderr",
     "output_type": "stream",
     "text": [
      " /Users/dananjayaliyanage/miniconda3/envs/parton_loss/lib/python3.6/site-packages/GPy/kern/src/stationary.py:243: RuntimeWarning:invalid value encountered in true_divide\n"
     ]
    },
    {
     "name": "stdout",
     "output_type": "stream",
     "text": [
      "Optimization restart 3/5, f = -871.853333769729\n",
      "Optimization restart 4/5, f = -1072.7418034373775\n"
     ]
    },
    {
     "name": "stderr",
     "output_type": "stream",
     "text": [
      " /Users/dananjayaliyanage/miniconda3/envs/parton_loss/lib/python3.6/site-packages/GPy/kern/src/stationary.py:137: RuntimeWarning:overflow encountered in square\n",
      " /Users/dananjayaliyanage/miniconda3/envs/parton_loss/lib/python3.6/site-packages/GPy/kern/src/stationary.py:138: RuntimeWarning:invalid value encountered in add\n",
      " /Users/dananjayaliyanage/miniconda3/envs/parton_loss/lib/python3.6/site-packages/GPy/kern/src/stationary.py:166: RuntimeWarning:overflow encountered in true_divide\n"
     ]
    },
    {
     "name": "stdout",
     "output_type": "stream",
     "text": [
      "Optimization restart 5/5, f = -1072.6055373841473\n",
      "Optimization restart 1/5, f = -812.0220802429262\n",
      "Optimization restart 2/5, f = -930.076833484306\n",
      "Optimization restart 3/5, f = -930.1863717643166\n",
      "Optimization restart 4/5, f = -840.1149802044417\n",
      "Optimization restart 5/5, f = -1049.1875542554308\n",
      "Optimization restart 1/5, f = -840.2574578235657\n",
      "Optimization restart 2/5, f = -811.9791828846228\n",
      "Optimization restart 3/5, f = -693.6357503302415\n",
      "Optimization restart 4/5, f = -812.1609178374986\n",
      "Optimization restart 5/5, f = -812.8756800775069\n",
      "(97, 1)\n",
      "r2 score for multifidelity linear 0.9856364890986108\n",
      "mse for multifidelity linear 2.318828456240107e-05\n",
      "(97, 1)\n",
      "r2 score for multifidelity nonlinear 0.9811440559891089\n",
      "mse for multifidelity nonlinear 3.0440816205664365e-05\n",
      "(97, 1)\n",
      "r2 score for standard GP 0.9804379473671758\n",
      "mse for standard GP 3.1580749733738294e-05\n",
      "Optimization restart 1/5, f = -2431.423904504762\n"
     ]
    },
    {
     "name": "stderr",
     "output_type": "stream",
     "text": [
      " /Users/dananjayaliyanage/miniconda3/envs/parton_loss/lib/python3.6/site-packages/GPy/kern/src/stationary.py:144: RuntimeWarning:overflow encountered in square\n",
      " /Users/dananjayaliyanage/miniconda3/envs/parton_loss/lib/python3.6/site-packages/GPy/kern/src/stationary.py:145: RuntimeWarning:overflow encountered in square\n",
      " /Users/dananjayaliyanage/miniconda3/envs/parton_loss/lib/python3.6/site-packages/GPy/kern/src/stationary.py:146: RuntimeWarning:invalid value encountered in add\n",
      " /Users/dananjayaliyanage/miniconda3/envs/parton_loss/lib/python3.6/site-packages/GPy/kern/src/stationary.py:165: RuntimeWarning:overflow encountered in true_divide\n",
      " /Users/dananjayaliyanage/miniconda3/envs/parton_loss/lib/python3.6/site-packages/GPy/kern/src/stationary.py:166: RuntimeWarning:overflow encountered in true_divide\n"
     ]
    },
    {
     "name": "stdout",
     "output_type": "stream",
     "text": [
      "Optimization restart 2/5, f = -2323.8584318256094\n",
      "Optimization restart 3/5, f = -2375.455954011974\n",
      "Optimization restart 4/5, f = -2686.1007129271234\n",
      "Optimization restart 5/5, f = -2133.380004268304\n",
      "Optimization restart 1/5, f = -1072.697315759001\n",
      "Optimization restart 2/5, f = -1072.9095681512053\n",
      "Optimization restart 3/5, f = -1073.2278439420795\n",
      "Optimization restart 4/5, f = -1072.8322187923031\n",
      "Optimization restart 5/5, f = -1072.8948737815044\n",
      "Optimization restart 1/5, f = -869.0938976100383\n",
      "Optimization restart 2/5, f = -957.4298841735107\n",
      "Optimization restart 3/5, f = -897.097397571373\n"
     ]
    },
    {
     "name": "stderr",
     "output_type": "stream",
     "text": [
      " /Users/dananjayaliyanage/miniconda3/envs/parton_loss/lib/python3.6/site-packages/GPy/kern/src/stationary.py:243: RuntimeWarning:invalid value encountered in true_divide\n",
      " /Users/dananjayaliyanage/miniconda3/envs/parton_loss/lib/python3.6/site-packages/GPy/kern/src/stationary.py:137: RuntimeWarning:overflow encountered in square\n",
      " /Users/dananjayaliyanage/miniconda3/envs/parton_loss/lib/python3.6/site-packages/GPy/kern/src/stationary.py:138: RuntimeWarning:invalid value encountered in add\n",
      " /Users/dananjayaliyanage/miniconda3/envs/parton_loss/lib/python3.6/site-packages/GPy/kern/src/rbf.py:76: RuntimeWarning:invalid value encountered in multiply\n"
     ]
    },
    {
     "name": "stdout",
     "output_type": "stream",
     "text": [
      "Optimization restart 4/5, f = -1120.7425320104905\n"
     ]
    },
    {
     "name": "stderr",
     "output_type": "stream",
     "text": [
      " /Users/dananjayaliyanage/miniconda3/envs/parton_loss/lib/python3.6/site-packages/GPy/kern/src/rbf.py:52: RuntimeWarning:overflow encountered in square\n"
     ]
    },
    {
     "name": "stdout",
     "output_type": "stream",
     "text": [
      "Optimization restart 5/5, f = -1125.0776150430954\n",
      "Optimization restart 1/5, f = -868.8089598455338\n",
      "Optimization restart 2/5, f = -868.4963264854242\n",
      "Optimization restart 3/5, f = -896.8384421916635\n",
      "Optimization restart 4/5, f = -896.684084823399\n",
      "Optimization restart 5/5, f = -868.2820097832198\n",
      "(97, 1)\n",
      "r2 score for multifidelity linear 0.9838539888360034\n",
      "mse for multifidelity linear 2.6065932207580838e-05\n",
      "(97, 1)\n",
      "r2 score for multifidelity nonlinear 0.9818471333308583\n",
      "mse for multifidelity nonlinear 2.9305776340983122e-05\n",
      "(97, 1)\n",
      "r2 score for standard GP 0.9815561742343492\n",
      "mse for standard GP 2.97754973146498e-05\n",
      "Optimization restart 1/5, f = -2807.879051740365\n"
     ]
    },
    {
     "name": "stderr",
     "output_type": "stream",
     "text": [
      " /Users/dananjayaliyanage/miniconda3/envs/parton_loss/lib/python3.6/site-packages/GPy/kern/src/stationary.py:144: RuntimeWarning:overflow encountered in square\n",
      " /Users/dananjayaliyanage/miniconda3/envs/parton_loss/lib/python3.6/site-packages/GPy/kern/src/stationary.py:145: RuntimeWarning:overflow encountered in square\n",
      " /Users/dananjayaliyanage/miniconda3/envs/parton_loss/lib/python3.6/site-packages/GPy/kern/src/stationary.py:146: RuntimeWarning:invalid value encountered in add\n",
      " /Users/dananjayaliyanage/miniconda3/envs/parton_loss/lib/python3.6/site-packages/GPy/kern/src/stationary.py:165: RuntimeWarning:overflow encountered in true_divide\n",
      " /Users/dananjayaliyanage/miniconda3/envs/parton_loss/lib/python3.6/site-packages/GPy/kern/src/stationary.py:166: RuntimeWarning:overflow encountered in true_divide\n"
     ]
    },
    {
     "name": "stdout",
     "output_type": "stream",
     "text": [
      "Optimization restart 2/5, f = -2450.9218389415278\n",
      "Optimization restart 3/5, f = -2462.7897847329277\n",
      "Optimization restart 4/5, f = -2422.426417230473\n",
      "Optimization restart 5/5, f = -2464.381397835138\n",
      "Optimization restart 1/5, f = -1072.697315759001\n",
      "Optimization restart 2/5, f = -1073.0796875323374\n",
      "Optimization restart 3/5, f = -1073.2117465688002\n",
      "Optimization restart 4/5, f = -1072.6842512893425\n",
      "Optimization restart 5/5, f = -1073.094558352271\n",
      "Optimization restart 1/5, f = -914.4379496204809\n",
      "Optimization restart 2/5, f = -914.1208455740721\n",
      "Optimization restart 3/5, f = -1093.2967705078313\n",
      "Optimization restart 4/5, f = -1005.5591629191367\n",
      "Optimization restart 5/5, f = -948.7114265535279\n",
      "Optimization restart 1/5, f = -948.6298620915929\n",
      "Optimization restart 2/5, f = -914.6116755038497\n",
      "Optimization restart 3/5, f = -914.1523198312493\n",
      "Optimization restart 4/5, f = -948.7033265113521\n",
      "Optimization restart 5/5, f = -914.467743674286\n",
      "(97, 1)\n",
      "r2 score for multifidelity linear 0.9857072489458545\n",
      "mse for multifidelity linear 2.3074050689865187e-05\n",
      "(97, 1)\n",
      "r2 score for multifidelity nonlinear 0.9925075914205778\n",
      "mse for multifidelity nonlinear 1.209565707090565e-05\n",
      "(97, 1)\n",
      "r2 score for standard GP 0.9851982607668439\n",
      "mse for standard GP 2.3895755272736623e-05\n",
      "Optimization restart 1/5, f = -2903.772543097357\n"
     ]
    },
    {
     "name": "stderr",
     "output_type": "stream",
     "text": [
      " /Users/dananjayaliyanage/miniconda3/envs/parton_loss/lib/python3.6/site-packages/GPy/kern/src/stationary.py:144: RuntimeWarning:overflow encountered in square\n",
      " /Users/dananjayaliyanage/miniconda3/envs/parton_loss/lib/python3.6/site-packages/GPy/kern/src/stationary.py:145: RuntimeWarning:overflow encountered in square\n",
      " /Users/dananjayaliyanage/miniconda3/envs/parton_loss/lib/python3.6/site-packages/GPy/kern/src/stationary.py:146: RuntimeWarning:invalid value encountered in add\n",
      " /Users/dananjayaliyanage/miniconda3/envs/parton_loss/lib/python3.6/site-packages/GPy/kern/src/stationary.py:165: RuntimeWarning:overflow encountered in true_divide\n",
      " /Users/dananjayaliyanage/miniconda3/envs/parton_loss/lib/python3.6/site-packages/GPy/kern/src/stationary.py:166: RuntimeWarning:overflow encountered in true_divide\n"
     ]
    },
    {
     "name": "stdout",
     "output_type": "stream",
     "text": [
      "Optimization restart 2/5, f = -2535.8795380816528\n"
     ]
    },
    {
     "name": "stderr",
     "output_type": "stream",
     "text": [
      " /Users/dananjayaliyanage/miniconda3/envs/parton_loss/lib/python3.6/site-packages/GPy/kern/src/rbf.py:76: RuntimeWarning:invalid value encountered in multiply\n"
     ]
    },
    {
     "name": "stdout",
     "output_type": "stream",
     "text": [
      "Optimization restart 3/5, f = -2518.4733888998494\n",
      "Optimization restart 4/5, f = -2531.2148949031907\n",
      "Optimization restart 5/5, f = -2551.4227863049\n",
      "Optimization restart 1/5, f = -1072.697315759001\n",
      "Optimization restart 2/5, f = -1073.2794949530874\n",
      "Optimization restart 3/5, f = -1073.0104820327833\n",
      "Optimization restart 4/5, f = -1072.820059179493\n",
      "Optimization restart 5/5, f = -1072.807439482801\n",
      "Optimization restart 1/5, f = -973.382442887605\n"
     ]
    },
    {
     "name": "stderr",
     "output_type": "stream",
     "text": [
      " /Users/dananjayaliyanage/miniconda3/envs/parton_loss/lib/python3.6/site-packages/GPy/kern/src/stationary.py:137: RuntimeWarning:overflow encountered in square\n",
      " /Users/dananjayaliyanage/miniconda3/envs/parton_loss/lib/python3.6/site-packages/GPy/kern/src/stationary.py:138: RuntimeWarning:invalid value encountered in add\n",
      " /Users/dananjayaliyanage/miniconda3/envs/parton_loss/lib/python3.6/site-packages/GPy/kern/src/rbf.py:52: RuntimeWarning:overflow encountered in square\n"
     ]
    },
    {
     "name": "stdout",
     "output_type": "stream",
     "text": [
      "Optimization restart 2/5, f = -1009.7558174542518\n",
      "Optimization restart 3/5, f = -973.2798108039143\n",
      "Optimization restart 4/5, f = -1009.4257247123205\n",
      "Optimization restart 5/5, f = -1146.1015975074397\n",
      "Optimization restart 1/5, f = -973.0420577879512\n",
      "Optimization restart 2/5, f = -973.6271753785836\n",
      "Optimization restart 3/5, f = -1009.8569427889621\n",
      "Optimization restart 4/5, f = -973.0403806793674\n",
      "Optimization restart 5/5, f = -973.5020033704558\n",
      "(97, 1)\n",
      "r2 score for multifidelity linear 0.9856453331281484\n",
      "mse for multifidelity linear 2.317400686421138e-05\n",
      "(97, 1)\n",
      "r2 score for multifidelity nonlinear 0.9896571385351274\n",
      "mse for multifidelity nonlinear 1.6697394981178437e-05\n",
      "(97, 1)\n",
      "r2 score for standard GP 0.9858502728025132\n",
      "mse for standard GP 2.2843154642917745e-05\n",
      "Optimization restart 1/5, f = -3037.4030192349346\n"
     ]
    },
    {
     "name": "stderr",
     "output_type": "stream",
     "text": [
      " /Users/dananjayaliyanage/miniconda3/envs/parton_loss/lib/python3.6/site-packages/GPy/kern/src/stationary.py:165: RuntimeWarning:overflow encountered in true_divide\n",
      " /Users/dananjayaliyanage/miniconda3/envs/parton_loss/lib/python3.6/site-packages/GPy/kern/src/stationary.py:166: RuntimeWarning:overflow encountered in true_divide\n",
      " /Users/dananjayaliyanage/miniconda3/envs/parton_loss/lib/python3.6/site-packages/GPy/kern/src/stationary.py:144: RuntimeWarning:overflow encountered in square\n",
      " /Users/dananjayaliyanage/miniconda3/envs/parton_loss/lib/python3.6/site-packages/GPy/kern/src/stationary.py:145: RuntimeWarning:overflow encountered in square\n",
      " /Users/dananjayaliyanage/miniconda3/envs/parton_loss/lib/python3.6/site-packages/GPy/kern/src/stationary.py:146: RuntimeWarning:invalid value encountered in add\n",
      " /Users/dananjayaliyanage/miniconda3/envs/parton_loss/lib/python3.6/site-packages/GPy/kern/src/rbf.py:76: RuntimeWarning:invalid value encountered in multiply\n"
     ]
    },
    {
     "name": "stdout",
     "output_type": "stream",
     "text": [
      "Optimization restart 2/5, f = -2628.782602262604\n",
      "Optimization restart 3/5, f = -2663.251127929645\n",
      "Optimization restart 4/5, f = -2642.033349653849\n",
      "Optimization restart 5/5, f = -2641.1254032469237\n",
      "Optimization restart 1/5, f = -1072.697315759001\n",
      "Optimization restart 2/5, f = -1072.7980208315862\n"
     ]
    },
    {
     "name": "stderr",
     "output_type": "stream",
     "text": [
      " /Users/dananjayaliyanage/miniconda3/envs/parton_loss/lib/python3.6/site-packages/GPy/kern/src/stationary.py:243: RuntimeWarning:invalid value encountered in true_divide\n"
     ]
    },
    {
     "name": "stdout",
     "output_type": "stream",
     "text": [
      "Optimization restart 3/5, f = -1028.0185795132863\n",
      "Optimization restart 4/5, f = -1072.8464798066618\n",
      "Optimization restart 5/5, f = -1072.713170573655\n",
      "Optimization restart 1/5, f = -1047.1720369751606\n",
      "Optimization restart 2/5, f = -1220.3294204272584\n",
      "Optimization restart 3/5, f = -818.1036289329377\n",
      "Optimization restart 4/5, f = -1047.8392940603544\n",
      "Optimization restart 5/5, f = -1338.0666694579118\n",
      "Optimization restart 1/5, f = -1047.3243460963683\n",
      "Optimization restart 2/5, f = -1081.1096264904018\n",
      "Optimization restart 3/5, f = -1048.4354775700674\n",
      "Optimization restart 4/5, f = -1048.012907085507\n",
      "Optimization restart 5/5, f = -1047.615007752653\n",
      "(97, 1)\n",
      "r2 score for multifidelity linear 0.986012014423354\n",
      "mse for multifidelity linear 2.2582040855669825e-05\n",
      "(97, 1)\n",
      "r2 score for multifidelity nonlinear 0.982149648847312\n",
      "mse for multifidelity nonlinear 2.881739881767208e-05\n",
      "(97, 1)\n",
      "r2 score for standard GP 0.9892332795412564\n",
      "mse for standard GP 1.738166799991961e-05\n",
      "Optimization restart 1/5, f = -1180.1546196003019\n",
      "Optimization restart 2/5, f = -1213.2472392685818\n"
     ]
    },
    {
     "name": "stderr",
     "output_type": "stream",
     "text": [
      " /Users/dananjayaliyanage/miniconda3/envs/parton_loss/lib/python3.6/site-packages/GPy/kern/src/stationary.py:165: RuntimeWarning:overflow encountered in true_divide\n",
      " /Users/dananjayaliyanage/miniconda3/envs/parton_loss/lib/python3.6/site-packages/GPy/kern/src/stationary.py:166: RuntimeWarning:overflow encountered in true_divide\n",
      " /Users/dananjayaliyanage/miniconda3/envs/parton_loss/lib/python3.6/site-packages/GPy/kern/src/stationary.py:144: RuntimeWarning:overflow encountered in square\n",
      " /Users/dananjayaliyanage/miniconda3/envs/parton_loss/lib/python3.6/site-packages/GPy/kern/src/stationary.py:145: RuntimeWarning:overflow encountered in square\n",
      " /Users/dananjayaliyanage/miniconda3/envs/parton_loss/lib/python3.6/site-packages/GPy/kern/src/stationary.py:146: RuntimeWarning:invalid value encountered in add\n",
      " /Users/dananjayaliyanage/miniconda3/envs/parton_loss/lib/python3.6/site-packages/GPy/kern/src/rbf.py:76: RuntimeWarning:invalid value encountered in multiply\n"
     ]
    },
    {
     "name": "stdout",
     "output_type": "stream",
     "text": [
      "Optimization restart 3/5, f = -1148.4500813997358\n"
     ]
    },
    {
     "name": "stderr",
     "output_type": "stream",
     "text": [
      " /Users/dananjayaliyanage/miniconda3/envs/parton_loss/lib/python3.6/site-packages/GPy/kern/src/stationary.py:243: RuntimeWarning:invalid value encountered in true_divide\n"
     ]
    },
    {
     "name": "stdout",
     "output_type": "stream",
     "text": [
      "Optimization restart 4/5, f = -1128.9144447634076\n",
      "Optimization restart 5/5, f = -1178.6672047296122\n",
      "Optimization restart 1/5, f = -1095.820975796832\n",
      "Optimization restart 2/5, f = -1096.3944030315972\n",
      "Optimization restart 3/5, f = -1095.887341854414\n",
      "Optimization restart 4/5, f = -1095.5759365666843\n",
      "Optimization restart 5/5, f = -1096.4301496108587\n",
      "Optimization restart 1/5, f = -56.97896143144963\n",
      "Optimization restart 2/5, f = -55.16401473025333\n",
      "Optimization restart 3/5, f = -41.87553891205275\n",
      "Optimization restart 4/5, f = -73.3592479521153\n",
      "Optimization restart 5/5, f = -72.4962818357881\n",
      "Optimization restart 1/5, f = -56.9896265847315\n",
      "Optimization restart 2/5, f = -54.795252688140486\n",
      "Optimization restart 3/5, f = -54.45218072835825\n",
      "Optimization restart 4/5, f = -53.01458264114696\n",
      "Optimization restart 5/5, f = -56.385875920886676\n",
      "(97, 1)\n",
      "r2 score for multifidelity linear 0.9800475682888825\n",
      "mse for multifidelity linear 7.209963887422391e-05\n",
      "(97, 1)\n",
      "r2 score for multifidelity nonlinear 0.8066914341929831\n",
      "mse for multifidelity nonlinear 0.0006985352957361123\n",
      "(97, 1)\n",
      "r2 score for standard GP 0.33049915121626494\n",
      "mse for standard GP 0.0024192925515137647\n",
      "Optimization restart 1/5, f = -1260.7687414118639\n",
      "Optimization restart 2/5, f = -1271.7970626278811\n",
      "Optimization restart 3/5, f = -1249.6300074732467\n",
      "Optimization restart 4/5, f = -1254.0010931887862\n",
      "Optimization restart 5/5, f = -1295.299187625309\n",
      "Optimization restart 1/5, f = -1095.820975796832\n",
      "Optimization restart 2/5, f = -1096.257115834971\n",
      "Optimization restart 3/5, f = -1095.9003925612706\n"
     ]
    },
    {
     "name": "stderr",
     "output_type": "stream",
     "text": [
      " /Users/dananjayaliyanage/miniconda3/envs/parton_loss/lib/python3.6/site-packages/GPy/kern/src/stationary.py:243: RuntimeWarning:invalid value encountered in true_divide\n"
     ]
    },
    {
     "name": "stdout",
     "output_type": "stream",
     "text": [
      "Optimization restart 4/5, f = -1018.8423047726667\n",
      "Optimization restart 5/5, f = -1095.6945408862587\n",
      "Optimization restart 1/5, f = -113.52987255635104\n",
      "Optimization restart 2/5, f = -154.54582892622597\n",
      "Optimization restart 3/5, f = -138.35520175723144\n",
      "Optimization restart 4/5, f = -113.10160566333852\n",
      "Optimization restart 5/5, f = -137.2662861379696\n",
      "Optimization restart 1/5, f = -112.80190621341131\n",
      "Optimization restart 2/5, f = -113.26287199622132\n",
      "Optimization restart 3/5, f = -113.63034209576557\n",
      "Optimization restart 4/5, f = -113.45106442311743\n",
      "Optimization restart 5/5, f = -113.33422792253381\n",
      "(97, 1)\n",
      "r2 score for multifidelity linear 0.9863757632637115\n",
      "mse for multifidelity linear 4.9232222059228724e-05\n",
      "(97, 1)\n",
      "r2 score for multifidelity nonlinear 0.9568589258065896\n",
      "mse for multifidelity nonlinear 0.00015589357302537923\n",
      "(97, 1)\n",
      "r2 score for standard GP 0.7168763966561702\n",
      "mse for standard GP 0.0010230888070893597\n",
      "Optimization restart 1/5, f = -1392.1326283548933\n",
      "Optimization restart 2/5, f = -1338.8607178896073\n",
      "Optimization restart 3/5, f = -1344.0259909844167\n"
     ]
    },
    {
     "name": "stderr",
     "output_type": "stream",
     "text": [
      " /Users/dananjayaliyanage/miniconda3/envs/parton_loss/lib/python3.6/site-packages/GPy/kern/src/stationary.py:165: RuntimeWarning:overflow encountered in true_divide\n",
      " /Users/dananjayaliyanage/miniconda3/envs/parton_loss/lib/python3.6/site-packages/GPy/kern/src/stationary.py:166: RuntimeWarning:overflow encountered in true_divide\n",
      " /Users/dananjayaliyanage/miniconda3/envs/parton_loss/lib/python3.6/site-packages/GPy/kern/src/stationary.py:144: RuntimeWarning:overflow encountered in square\n",
      " /Users/dananjayaliyanage/miniconda3/envs/parton_loss/lib/python3.6/site-packages/GPy/kern/src/stationary.py:145: RuntimeWarning:overflow encountered in square\n",
      " /Users/dananjayaliyanage/miniconda3/envs/parton_loss/lib/python3.6/site-packages/GPy/kern/src/stationary.py:146: RuntimeWarning:invalid value encountered in add\n"
     ]
    },
    {
     "name": "stdout",
     "output_type": "stream",
     "text": [
      "Optimization restart 4/5, f = -1332.9515821682267\n"
     ]
    },
    {
     "name": "stderr",
     "output_type": "stream",
     "text": [
      " /Users/dananjayaliyanage/miniconda3/envs/parton_loss/lib/python3.6/site-packages/GPy/kern/src/stationary.py:243: RuntimeWarning:invalid value encountered in true_divide\n"
     ]
    },
    {
     "name": "stdout",
     "output_type": "stream",
     "text": [
      "Optimization restart 5/5, f = -1071.8255538909257\n",
      "Optimization restart 1/5, f = -1095.820975796832\n",
      "Optimization restart 2/5, f = -1095.8159053384097\n",
      "Optimization restart 3/5, f = -1095.8905662089692\n",
      "Optimization restart 4/5, f = -1096.054870782643\n",
      "Optimization restart 5/5, f = -1095.0226452604602\n",
      "Optimization restart 1/5, f = -164.72712195079941\n",
      "Optimization restart 2/5, f = -228.51441586746415\n"
     ]
    },
    {
     "name": "stderr",
     "output_type": "stream",
     "text": [
      " /Users/dananjayaliyanage/miniconda3/envs/parton_loss/lib/python3.6/site-packages/GPy/kern/src/stationary.py:137: RuntimeWarning:overflow encountered in square\n",
      " /Users/dananjayaliyanage/miniconda3/envs/parton_loss/lib/python3.6/site-packages/GPy/kern/src/stationary.py:138: RuntimeWarning:invalid value encountered in add\n",
      " /Users/dananjayaliyanage/miniconda3/envs/parton_loss/lib/python3.6/site-packages/GPy/kern/src/rbf.py:52: RuntimeWarning:overflow encountered in square\n"
     ]
    },
    {
     "name": "stdout",
     "output_type": "stream",
     "text": [
      "Optimization restart 3/5, f = -164.88177338088164\n",
      "Optimization restart 4/5, f = -164.69054160597852\n",
      "Optimization restart 5/5, f = -215.96333871956998\n",
      "Optimization restart 1/5, f = -167.55872858130064\n",
      "Optimization restart 2/5, f = -167.46585475135026\n",
      "Optimization restart 3/5, f = -164.75085676033942\n",
      "Optimization restart 4/5, f = -168.11462013925558\n",
      "Optimization restart 5/5, f = -164.6929446106514\n",
      "(97, 1)\n",
      "r2 score for multifidelity linear 0.9855939690198432\n",
      "mse for multifidelity linear 5.20572953872805e-05\n",
      "(97, 1)\n",
      "r2 score for multifidelity nonlinear 0.9717797862952701\n",
      "mse for multifidelity nonlinear 0.00010197590181104267\n",
      "(97, 1)\n",
      "r2 score for standard GP 0.830243792992265\n",
      "mse for standard GP 0.0006134270448396468\n",
      "Optimization restart 1/5, f = -1499.4037914872415\n",
      "Optimization restart 2/5, f = -1490.3790541428862\n",
      "Optimization restart 3/5, f = -1410.8455120632502\n"
     ]
    },
    {
     "name": "stderr",
     "output_type": "stream",
     "text": [
      " /Users/dananjayaliyanage/miniconda3/envs/parton_loss/lib/python3.6/site-packages/GPy/kern/src/stationary.py:165: RuntimeWarning:overflow encountered in true_divide\n",
      " /Users/dananjayaliyanage/miniconda3/envs/parton_loss/lib/python3.6/site-packages/GPy/kern/src/stationary.py:166: RuntimeWarning:overflow encountered in true_divide\n",
      " /Users/dananjayaliyanage/miniconda3/envs/parton_loss/lib/python3.6/site-packages/GPy/kern/src/stationary.py:144: RuntimeWarning:overflow encountered in square\n",
      " /Users/dananjayaliyanage/miniconda3/envs/parton_loss/lib/python3.6/site-packages/GPy/kern/src/stationary.py:145: RuntimeWarning:overflow encountered in square\n",
      " /Users/dananjayaliyanage/miniconda3/envs/parton_loss/lib/python3.6/site-packages/GPy/kern/src/stationary.py:146: RuntimeWarning:invalid value encountered in add\n",
      " /Users/dananjayaliyanage/miniconda3/envs/parton_loss/lib/python3.6/site-packages/GPy/kern/src/stationary.py:243: RuntimeWarning:invalid value encountered in true_divide\n"
     ]
    },
    {
     "name": "stdout",
     "output_type": "stream",
     "text": [
      "Optimization restart 4/5, f = -1253.4927979398915\n",
      "Optimization restart 5/5, f = -1411.320489318219\n",
      "Optimization restart 1/5, f = -1095.820975796832\n",
      "Optimization restart 2/5, f = -1095.9306049536406\n",
      "Optimization restart 3/5, f = -1095.8853948572337\n",
      "Optimization restart 4/5, f = -1096.0010020814573\n",
      "Optimization restart 5/5, f = -1095.8354458611932\n",
      "Optimization restart 1/5, f = -224.6859392312371\n",
      "Optimization restart 2/5, f = -305.72090956709303\n",
      "Optimization restart 3/5, f = -271.9556030798677\n",
      "Optimization restart 4/5, f = -303.67507172355937\n",
      "Optimization restart 5/5, f = -224.54509700407675\n",
      "Optimization restart 1/5, f = -224.55450429732923\n",
      "Optimization restart 2/5, f = -223.65001803227483\n",
      "Optimization restart 3/5, f = -226.01471272452727\n",
      "Optimization restart 4/5, f = -224.71429917149263\n",
      "Optimization restart 5/5, f = -224.57310194226875\n",
      "(97, 1)\n",
      "r2 score for multifidelity linear 0.9857022715499144\n",
      "mse for multifidelity linear 5.166593590687439e-05\n",
      "(97, 1)\n",
      "r2 score for multifidelity nonlinear 0.9762546583956491\n",
      "mse for multifidelity nonlinear 8.580560903084515e-05\n",
      "(97, 1)\n",
      "r2 score for standard GP 0.8509940268242074\n",
      "mse for standard GP 0.0005384444869489649\n",
      "Optimization restart 1/5, f = -1595.3098702011607\n",
      "Optimization restart 2/5, f = -1606.2458039733485\n",
      "Optimization restart 3/5, f = -1592.917531825602\n"
     ]
    },
    {
     "name": "stderr",
     "output_type": "stream",
     "text": [
      " /Users/dananjayaliyanage/miniconda3/envs/parton_loss/lib/python3.6/site-packages/GPy/kern/src/stationary.py:243: RuntimeWarning:invalid value encountered in true_divide\n"
     ]
    },
    {
     "name": "stdout",
     "output_type": "stream",
     "text": [
      "Optimization restart 4/5, f = -1444.8339450718709\n",
      "Optimization restart 5/5, f = -1500.3287916625984\n",
      "Optimization restart 1/5, f = -1095.820975796832\n",
      "Optimization restart 2/5, f = -1095.7667755360922\n",
      "Optimization restart 3/5, f = -1096.1813815833823\n",
      "Optimization restart 4/5, f = -1095.9743925896191\n",
      "Optimization restart 5/5, f = -1095.9231904692708\n",
      "Optimization restart 1/5, f = -288.1981192677229\n",
      "Optimization restart 2/5, f = -286.0312251688105\n",
      "Optimization restart 3/5, f = -286.0320023298386\n",
      "Optimization restart 4/5, f = -288.2028354631353\n",
      "Optimization restart 5/5, f = -366.465763347849\n",
      "Optimization restart 1/5, f = -288.1107787860818\n",
      "Optimization restart 2/5, f = -286.0280436848923\n",
      "Optimization restart 3/5, f = -286.06094447177156\n",
      "Optimization restart 4/5, f = -286.03694215501685\n",
      "Optimization restart 5/5, f = -286.02858353852184\n",
      "(97, 1)\n",
      "r2 score for multifidelity linear 0.986306065463368\n",
      "mse for multifidelity linear 4.9484080394486054e-05\n",
      "(97, 1)\n",
      "r2 score for multifidelity nonlinear 0.9791790534212903\n",
      "mse for multifidelity nonlinear 7.523808381251159e-05\n",
      "(97, 1)\n",
      "r2 score for standard GP 0.8948509750508749\n",
      "mse for standard GP 0.00037996404832120874\n",
      "Optimization restart 1/5, f = -1694.1858615179908\n",
      "Optimization restart 2/5, f = -1708.0771473066634\n"
     ]
    },
    {
     "name": "stderr",
     "output_type": "stream",
     "text": [
      " /Users/dananjayaliyanage/miniconda3/envs/parton_loss/lib/python3.6/site-packages/GPy/kern/src/stationary.py:243: RuntimeWarning:invalid value encountered in true_divide\n"
     ]
    },
    {
     "name": "stdout",
     "output_type": "stream",
     "text": [
      "Optimization restart 3/5, f = -1425.2252073728505\n"
     ]
    },
    {
     "name": "stderr",
     "output_type": "stream",
     "text": [
      " /Users/dananjayaliyanage/miniconda3/envs/parton_loss/lib/python3.6/site-packages/GPy/kern/src/stationary.py:144: RuntimeWarning:overflow encountered in square\n",
      " /Users/dananjayaliyanage/miniconda3/envs/parton_loss/lib/python3.6/site-packages/GPy/kern/src/stationary.py:145: RuntimeWarning:overflow encountered in square\n",
      " /Users/dananjayaliyanage/miniconda3/envs/parton_loss/lib/python3.6/site-packages/GPy/kern/src/stationary.py:146: RuntimeWarning:invalid value encountered in add\n",
      " /Users/dananjayaliyanage/miniconda3/envs/parton_loss/lib/python3.6/site-packages/GPy/kern/src/rbf.py:76: RuntimeWarning:invalid value encountered in multiply\n",
      " /Users/dananjayaliyanage/miniconda3/envs/parton_loss/lib/python3.6/site-packages/GPy/kern/src/stationary.py:165: RuntimeWarning:overflow encountered in true_divide\n",
      " /Users/dananjayaliyanage/miniconda3/envs/parton_loss/lib/python3.6/site-packages/GPy/kern/src/stationary.py:166: RuntimeWarning:overflow encountered in true_divide\n"
     ]
    },
    {
     "name": "stdout",
     "output_type": "stream",
     "text": [
      "Optimization restart 4/5, f = -1561.7181291407892\n",
      "Optimization restart 5/5, f = -1509.4432073800676\n",
      "Optimization restart 1/5, f = -1095.820975796832\n",
      "Optimization restart 2/5, f = -1096.121205746213\n"
     ]
    },
    {
     "name": "stderr",
     "output_type": "stream",
     "text": [
      " /Users/dananjayaliyanage/miniconda3/envs/parton_loss/lib/python3.6/site-packages/GPy/kern/src/stationary.py:137: RuntimeWarning:overflow encountered in square\n",
      " /Users/dananjayaliyanage/miniconda3/envs/parton_loss/lib/python3.6/site-packages/GPy/kern/src/stationary.py:138: RuntimeWarning:invalid value encountered in add\n"
     ]
    },
    {
     "name": "stdout",
     "output_type": "stream",
     "text": [
      "Optimization restart 3/5, f = -1095.5546675817159\n",
      "Optimization restart 4/5, f = -1095.8233825240186\n",
      "Optimization restart 5/5, f = -1024.0637295117413\n",
      "Optimization restart 1/5, f = -333.44491934826806\n",
      "Optimization restart 2/5, f = -333.33394744153964\n",
      "Optimization restart 3/5, f = -397.8852205234147\n",
      "Optimization restart 4/5, f = -411.6444543108537\n",
      "Optimization restart 5/5, f = -331.67659759622927\n",
      "Optimization restart 1/5, f = -333.26255060612954\n",
      "Optimization restart 2/5, f = -331.6691119567103\n",
      "Optimization restart 3/5, f = -331.57122890660725\n",
      "Optimization restart 4/5, f = -333.3383517099314\n",
      "Optimization restart 5/5, f = -333.52035672013636\n",
      "(97, 1)\n",
      "r2 score for multifidelity linear 0.9863719152050193\n",
      "mse for multifidelity linear 4.924612731379062e-05\n",
      "(97, 1)\n",
      "r2 score for multifidelity nonlinear 0.9464098584137167\n",
      "mse for multifidelity nonlinear 0.00019365207767816175\n",
      "(97, 1)\n",
      "r2 score for standard GP 0.9084109840980505\n",
      "mse for standard GP 0.0003309639179316979\n",
      "Optimization restart 1/5, f = -1787.860455131739\n",
      "Optimization restart 2/5, f = -1658.7075892804805\n",
      "Optimization restart 3/5, f = -1810.967336995027\n",
      "Optimization restart 4/5, f = -1809.2945150843111\n"
     ]
    },
    {
     "name": "stderr",
     "output_type": "stream",
     "text": [
      " /Users/dananjayaliyanage/miniconda3/envs/parton_loss/lib/python3.6/site-packages/GPy/kern/src/stationary.py:243: RuntimeWarning:invalid value encountered in true_divide\n"
     ]
    },
    {
     "name": "stdout",
     "output_type": "stream",
     "text": [
      "Optimization restart 5/5, f = -1611.2343297129164\n",
      "Optimization restart 1/5, f = -1095.820975796832\n"
     ]
    },
    {
     "name": "stderr",
     "output_type": "stream",
     "text": [
      " /Users/dananjayaliyanage/miniconda3/envs/parton_loss/lib/python3.6/site-packages/GPy/kern/src/stationary.py:166: RuntimeWarning:overflow encountered in true_divide\n",
      " /Users/dananjayaliyanage/miniconda3/envs/parton_loss/lib/python3.6/site-packages/GPy/kern/src/stationary.py:137: RuntimeWarning:overflow encountered in square\n",
      " /Users/dananjayaliyanage/miniconda3/envs/parton_loss/lib/python3.6/site-packages/GPy/kern/src/stationary.py:138: RuntimeWarning:invalid value encountered in add\n"
     ]
    },
    {
     "name": "stdout",
     "output_type": "stream",
     "text": [
      "Optimization restart 2/5, f = -1096.2309318931532\n",
      "Optimization restart 3/5, f = -1095.744129518198\n",
      "Optimization restart 4/5, f = -1095.854218137572\n",
      "Optimization restart 5/5, f = -1096.0511159034845\n",
      "Optimization restart 1/5, f = -390.93386936446893\n",
      "Optimization restart 2/5, f = -462.6794130573704\n",
      "Optimization restart 3/5, f = -453.88689861774117\n",
      "Optimization restart 4/5, f = -454.165150275688\n"
     ]
    },
    {
     "name": "stderr",
     "output_type": "stream",
     "text": [
      " /Users/dananjayaliyanage/miniconda3/envs/parton_loss/lib/python3.6/site-packages/GPy/kern/src/rbf.py:52: RuntimeWarning:overflow encountered in square\n",
      " /Users/dananjayaliyanage/miniconda3/envs/parton_loss/lib/python3.6/site-packages/GPy/kern/src/rbf.py:76: RuntimeWarning:invalid value encountered in multiply\n"
     ]
    },
    {
     "name": "stdout",
     "output_type": "stream",
     "text": [
      "Optimization restart 5/5, f = -488.4048303895999\n",
      "Optimization restart 1/5, f = -389.29086849728924\n",
      "Optimization restart 2/5, f = -390.9507791534515\n",
      "Optimization restart 3/5, f = -390.99181002401315\n",
      "Optimization restart 4/5, f = -393.4606250363216\n",
      "Optimization restart 5/5, f = -390.9234847781278\n",
      "(97, 1)\n",
      "r2 score for multifidelity linear 0.9858080749235604\n",
      "mse for multifidelity linear 5.1283607319462254e-05\n",
      "(97, 1)\n",
      "r2 score for multifidelity nonlinear 0.9787575506113265\n",
      "mse for multifidelity nonlinear 7.676121647237303e-05\n",
      "(97, 1)\n",
      "r2 score for standard GP 0.9476261824510119\n",
      "mse for standard GP 0.00018925679768859777\n",
      "Optimization restart 1/5, f = -1895.0819495777441\n"
     ]
    },
    {
     "name": "stderr",
     "output_type": "stream",
     "text": [
      " /Users/dananjayaliyanage/miniconda3/envs/parton_loss/lib/python3.6/site-packages/GPy/kern/src/stationary.py:144: RuntimeWarning:overflow encountered in square\n",
      " /Users/dananjayaliyanage/miniconda3/envs/parton_loss/lib/python3.6/site-packages/GPy/kern/src/stationary.py:145: RuntimeWarning:overflow encountered in square\n",
      " /Users/dananjayaliyanage/miniconda3/envs/parton_loss/lib/python3.6/site-packages/GPy/kern/src/stationary.py:146: RuntimeWarning:invalid value encountered in add\n"
     ]
    },
    {
     "name": "stdout",
     "output_type": "stream",
     "text": [
      "Optimization restart 2/5, f = -1709.3768690839288\n"
     ]
    },
    {
     "name": "stderr",
     "output_type": "stream",
     "text": [
      " /Users/dananjayaliyanage/miniconda3/envs/parton_loss/lib/python3.6/site-packages/GPy/kern/src/stationary.py:165: RuntimeWarning:overflow encountered in true_divide\n",
      " /Users/dananjayaliyanage/miniconda3/envs/parton_loss/lib/python3.6/site-packages/GPy/kern/src/stationary.py:166: RuntimeWarning:overflow encountered in true_divide\n"
     ]
    },
    {
     "name": "stdout",
     "output_type": "stream",
     "text": [
      "Optimization restart 3/5, f = -1850.6944181134504\n",
      "Optimization restart 4/5, f = -1909.6251641708081\n"
     ]
    },
    {
     "name": "stderr",
     "output_type": "stream",
     "text": [
      " /Users/dananjayaliyanage/miniconda3/envs/parton_loss/lib/python3.6/site-packages/GPy/kern/src/rbf.py:76: RuntimeWarning:invalid value encountered in multiply\n"
     ]
    },
    {
     "name": "stdout",
     "output_type": "stream",
     "text": [
      "Optimization restart 5/5, f = -1717.7793543467121\n",
      "Optimization restart 1/5, f = -1095.820975796832\n",
      "Optimization restart 2/5, f = -1096.2545982416932\n",
      "Optimization restart 3/5, f = -1096.2733780604078\n"
     ]
    },
    {
     "name": "stderr",
     "output_type": "stream",
     "text": [
      " /Users/dananjayaliyanage/miniconda3/envs/parton_loss/lib/python3.6/site-packages/GPy/kern/src/stationary.py:243: RuntimeWarning:invalid value encountered in true_divide\n"
     ]
    },
    {
     "name": "stdout",
     "output_type": "stream",
     "text": [
      "Optimization restart 4/5, f = -1008.0770249639571\n",
      "Optimization restart 5/5, f = -1095.9629883054595\n",
      "Optimization restart 1/5, f = -442.4432332429232\n",
      "Optimization restart 2/5, f = -448.81527527743197\n",
      "Optimization restart 3/5, f = -505.2602641190026\n",
      "Optimization restart 4/5, f = -507.61051928910376\n",
      "Optimization restart 5/5, f = -442.43461493613165\n",
      "Optimization restart 1/5, f = -442.44090208617865\n",
      "Optimization restart 2/5, f = -442.4410863213925\n",
      "Optimization restart 3/5, f = -442.42892095460064\n",
      "Optimization restart 4/5, f = -442.4438762919635\n",
      "Optimization restart 5/5, f = -442.4419067932924\n",
      "(97, 1)\n",
      "r2 score for multifidelity linear 0.985508137003311\n",
      "mse for multifidelity linear 5.236745594742785e-05\n",
      "(97, 1)\n",
      "r2 score for multifidelity nonlinear 0.9701707384965533\n",
      "mse for multifidelity nonlinear 0.00010779031916620626\n",
      "(97, 1)\n",
      "r2 score for standard GP 0.9417688532580055\n",
      "mse for standard GP 0.00021042270496735276\n",
      "Optimization restart 1/5, f = -2009.1402853602044\n",
      "Optimization restart 2/5, f = -1792.857170390503\n",
      "Optimization restart 3/5, f = -1760.7180617851702\n"
     ]
    },
    {
     "name": "stderr",
     "output_type": "stream",
     "text": [
      " /Users/dananjayaliyanage/miniconda3/envs/parton_loss/lib/python3.6/site-packages/GPy/kern/src/stationary.py:144: RuntimeWarning:overflow encountered in square\n",
      " /Users/dananjayaliyanage/miniconda3/envs/parton_loss/lib/python3.6/site-packages/GPy/kern/src/stationary.py:145: RuntimeWarning:overflow encountered in square\n",
      " /Users/dananjayaliyanage/miniconda3/envs/parton_loss/lib/python3.6/site-packages/GPy/kern/src/stationary.py:146: RuntimeWarning:invalid value encountered in add\n",
      " /Users/dananjayaliyanage/miniconda3/envs/parton_loss/lib/python3.6/site-packages/GPy/kern/src/stationary.py:165: RuntimeWarning:overflow encountered in true_divide\n",
      " /Users/dananjayaliyanage/miniconda3/envs/parton_loss/lib/python3.6/site-packages/GPy/kern/src/stationary.py:166: RuntimeWarning:overflow encountered in true_divide\n"
     ]
    },
    {
     "name": "stdout",
     "output_type": "stream",
     "text": [
      "Optimization restart 4/5, f = -1962.2229176120077\n",
      "Optimization restart 5/5, f = -1800.0288810799857\n",
      "Optimization restart 1/5, f = -1095.820975796832\n",
      "Optimization restart 2/5, f = -1096.359755949519\n",
      "Optimization restart 3/5, f = -1096.2263048541456\n",
      "Optimization restart 4/5, f = -1096.2832751883655\n",
      "Optimization restart 5/5, f = -1095.5938699964954\n",
      "Optimization restart 1/5, f = -493.502234467324\n",
      "Optimization restart 2/5, f = -493.5429551625989\n"
     ]
    },
    {
     "name": "stderr",
     "output_type": "stream",
     "text": [
      " /Users/dananjayaliyanage/miniconda3/envs/parton_loss/lib/python3.6/site-packages/GPy/kern/src/stationary.py:137: RuntimeWarning:overflow encountered in square\n",
      " /Users/dananjayaliyanage/miniconda3/envs/parton_loss/lib/python3.6/site-packages/GPy/kern/src/stationary.py:138: RuntimeWarning:invalid value encountered in add\n",
      " /Users/dananjayaliyanage/miniconda3/envs/parton_loss/lib/python3.6/site-packages/GPy/kern/src/rbf.py:52: RuntimeWarning:overflow encountered in square\n"
     ]
    },
    {
     "name": "stdout",
     "output_type": "stream",
     "text": [
      "Optimization restart 3/5, f = -502.4673326276985\n",
      "Optimization restart 4/5, f = -502.76182253438026\n",
      "Optimization restart 5/5, f = -493.65831690348\n",
      "Optimization restart 1/5, f = -493.6008785939137\n",
      "Optimization restart 2/5, f = -493.941058331392\n",
      "Optimization restart 3/5, f = -493.66067259653823\n",
      "Optimization restart 4/5, f = -493.6765918619116\n",
      "Optimization restart 5/5, f = -494.2486486958893\n",
      "(97, 1)\n",
      "r2 score for multifidelity linear 0.9850860714690315\n",
      "mse for multifidelity linear 5.389262205466713e-05\n",
      "(97, 1)\n",
      "r2 score for multifidelity nonlinear 0.9635670039164882\n",
      "mse for multifidelity nonlinear 0.00013165341943075306\n",
      "(97, 1)\n",
      "r2 score for standard GP 0.953489891981895\n",
      "mse for standard GP 0.0001680678345706609\n",
      "Optimization restart 1/5, f = -2017.1570896499259\n",
      "Optimization restart 2/5, f = -1845.6059172278628\n"
     ]
    },
    {
     "name": "stderr",
     "output_type": "stream",
     "text": [
      " /Users/dananjayaliyanage/miniconda3/envs/parton_loss/lib/python3.6/site-packages/GPy/kern/src/stationary.py:144: RuntimeWarning:overflow encountered in square\n",
      " /Users/dananjayaliyanage/miniconda3/envs/parton_loss/lib/python3.6/site-packages/GPy/kern/src/stationary.py:145: RuntimeWarning:overflow encountered in square\n",
      " /Users/dananjayaliyanage/miniconda3/envs/parton_loss/lib/python3.6/site-packages/GPy/kern/src/stationary.py:146: RuntimeWarning:invalid value encountered in add\n",
      " /Users/dananjayaliyanage/miniconda3/envs/parton_loss/lib/python3.6/site-packages/GPy/kern/src/stationary.py:165: RuntimeWarning:overflow encountered in true_divide\n",
      " /Users/dananjayaliyanage/miniconda3/envs/parton_loss/lib/python3.6/site-packages/GPy/kern/src/stationary.py:166: RuntimeWarning:overflow encountered in true_divide\n"
     ]
    },
    {
     "name": "stdout",
     "output_type": "stream",
     "text": [
      "Optimization restart 3/5, f = -1895.778653929277\n",
      "Optimization restart 4/5, f = -1863.0853198190514\n",
      "Optimization restart 5/5, f = -1873.410341628246\n",
      "Optimization restart 1/5, f = -1095.820975796832\n",
      "Optimization restart 2/5, f = -1096.3317024595362\n",
      "Optimization restart 3/5, f = -1095.7733779223863\n",
      "Optimization restart 4/5, f = -1096.0407553277487\n"
     ]
    },
    {
     "name": "stderr",
     "output_type": "stream",
     "text": [
      " /Users/dananjayaliyanage/miniconda3/envs/parton_loss/lib/python3.6/site-packages/GPy/kern/src/stationary.py:243: RuntimeWarning:invalid value encountered in true_divide\n"
     ]
    },
    {
     "name": "stdout",
     "output_type": "stream",
     "text": [
      "Optimization restart 5/5, f = -993.563822948535\n",
      "Optimization restart 1/5, f = -547.7227978901946\n",
      "Optimization restart 2/5, f = -547.5552454228623\n",
      "Optimization restart 3/5, f = -547.3029497229671\n"
     ]
    },
    {
     "name": "stderr",
     "output_type": "stream",
     "text": [
      " /Users/dananjayaliyanage/miniconda3/envs/parton_loss/lib/python3.6/site-packages/GPy/kern/src/stationary.py:137: RuntimeWarning:overflow encountered in square\n",
      " /Users/dananjayaliyanage/miniconda3/envs/parton_loss/lib/python3.6/site-packages/GPy/kern/src/stationary.py:138: RuntimeWarning:invalid value encountered in add\n",
      " /Users/dananjayaliyanage/miniconda3/envs/parton_loss/lib/python3.6/site-packages/GPy/kern/src/rbf.py:76: RuntimeWarning:invalid value encountered in multiply\n",
      " /Users/dananjayaliyanage/miniconda3/envs/parton_loss/lib/python3.6/site-packages/GPy/kern/src/rbf.py:52: RuntimeWarning:overflow encountered in square\n"
     ]
    },
    {
     "name": "stdout",
     "output_type": "stream",
     "text": [
      "Optimization restart 4/5, f = -557.0608508549427\n",
      "Optimization restart 5/5, f = -635.6418579370907\n"
     ]
    },
    {
     "name": "stderr",
     "output_type": "stream",
     "text": [
      " /Users/dananjayaliyanage/miniconda3/envs/parton_loss/lib/python3.6/site-packages/GPy/kern/src/stationary.py:138: RuntimeWarning:overflow encountered in multiply\n",
      " /Users/dananjayaliyanage/miniconda3/envs/parton_loss/lib/python3.6/site-packages/GPy/kern/src/stationary.py:138: RuntimeWarning:overflow encountered in add\n"
     ]
    },
    {
     "name": "stdout",
     "output_type": "stream",
     "text": [
      "Optimization restart 1/5, f = -547.5161329482555\n",
      "Optimization restart 2/5, f = -555.4109008660109\n",
      "Optimization restart 3/5, f = -557.3034304398209\n",
      "Optimization restart 4/5, f = -547.5791861448009\n",
      "Optimization restart 5/5, f = -547.4865062808346\n",
      "(97, 1)\n",
      "r2 score for multifidelity linear 0.9747590005978142\n",
      "mse for multifidelity linear 9.121028294050326e-05\n",
      "(97, 1)\n",
      "r2 score for multifidelity nonlinear 0.9706883085688963\n",
      "mse for multifidelity nonlinear 0.00010592004010206382\n",
      "(97, 1)\n",
      "r2 score for standard GP 0.9713291607617736\n",
      "mse for standard GP 0.00010360427166104432\n",
      "Optimization restart 1/5, f = -2205.8633087940543\n"
     ]
    },
    {
     "name": "stderr",
     "output_type": "stream",
     "text": [
      " /Users/dananjayaliyanage/miniconda3/envs/parton_loss/lib/python3.6/site-packages/GPy/kern/src/stationary.py:144: RuntimeWarning:overflow encountered in square\n",
      " /Users/dananjayaliyanage/miniconda3/envs/parton_loss/lib/python3.6/site-packages/GPy/kern/src/stationary.py:145: RuntimeWarning:overflow encountered in square\n",
      " /Users/dananjayaliyanage/miniconda3/envs/parton_loss/lib/python3.6/site-packages/GPy/kern/src/stationary.py:146: RuntimeWarning:invalid value encountered in add\n",
      " /Users/dananjayaliyanage/miniconda3/envs/parton_loss/lib/python3.6/site-packages/GPy/kern/src/rbf.py:76: RuntimeWarning:invalid value encountered in multiply\n",
      " /Users/dananjayaliyanage/miniconda3/envs/parton_loss/lib/python3.6/site-packages/GPy/kern/src/stationary.py:165: RuntimeWarning:overflow encountered in true_divide\n",
      " /Users/dananjayaliyanage/miniconda3/envs/parton_loss/lib/python3.6/site-packages/GPy/kern/src/stationary.py:166: RuntimeWarning:overflow encountered in true_divide\n"
     ]
    },
    {
     "name": "stdout",
     "output_type": "stream",
     "text": [
      "Optimization restart 2/5, f = -1885.3558715665613\n",
      "Optimization restart 3/5, f = -1955.6203943550545\n",
      "Optimization restart 4/5, f = -1804.7329181151867\n",
      "Optimization restart 5/5, f = -1956.3709555643245\n",
      "Optimization restart 1/5, f = -1095.820975796832\n",
      "Optimization restart 2/5, f = -1095.7029916842635\n",
      "Optimization restart 3/5, f = -1095.7076545922903\n",
      "Optimization restart 4/5, f = -1095.3671388610833\n",
      "Optimization restart 5/5, f = -1095.7279621464777\n",
      "Optimization restart 1/5, f = -602.9468977631694\n",
      "Optimization restart 2/5, f = -703.29390838066\n",
      "Optimization restart 3/5, f = -653.7767492730229\n",
      "Optimization restart 4/5, f = -610.9845251972581\n",
      "Optimization restart 5/5, f = -602.999118474094\n",
      "Optimization restart 1/5, f = -602.9587878773402\n",
      "Optimization restart 2/5, f = -603.0140491591583\n",
      "Optimization restart 3/5, f = -602.979356718276\n",
      "Optimization restart 4/5, f = -603.0212894977508\n",
      "Optimization restart 5/5, f = -602.9700034536432\n",
      "(97, 1)\n",
      "r2 score for multifidelity linear 0.9858491142352421\n",
      "mse for multifidelity linear 5.113530862611293e-05\n",
      "(97, 1)\n",
      "r2 score for multifidelity nonlinear 0.9645597999073039\n",
      "mse for multifidelity nonlinear 0.00012806587514292068\n",
      "(97, 1)\n",
      "r2 score for standard GP 0.9561143294114178\n",
      "mse for standard GP 0.00015858422908055146\n",
      "Optimization restart 1/5, f = -2307.3106544704706\n"
     ]
    },
    {
     "name": "stderr",
     "output_type": "stream",
     "text": [
      " /Users/dananjayaliyanage/miniconda3/envs/parton_loss/lib/python3.6/site-packages/GPy/kern/src/stationary.py:165: RuntimeWarning:overflow encountered in true_divide\n",
      " /Users/dananjayaliyanage/miniconda3/envs/parton_loss/lib/python3.6/site-packages/GPy/kern/src/stationary.py:166: RuntimeWarning:overflow encountered in true_divide\n",
      " /Users/dananjayaliyanage/miniconda3/envs/parton_loss/lib/python3.6/site-packages/GPy/kern/src/stationary.py:144: RuntimeWarning:overflow encountered in square\n",
      " /Users/dananjayaliyanage/miniconda3/envs/parton_loss/lib/python3.6/site-packages/GPy/kern/src/stationary.py:145: RuntimeWarning:overflow encountered in square\n",
      " /Users/dananjayaliyanage/miniconda3/envs/parton_loss/lib/python3.6/site-packages/GPy/kern/src/stationary.py:146: RuntimeWarning:invalid value encountered in add\n"
     ]
    },
    {
     "name": "stdout",
     "output_type": "stream",
     "text": [
      "Optimization restart 2/5, f = -1840.2289027745762\n",
      "Optimization restart 3/5, f = -1727.2230076021215\n",
      "Optimization restart 4/5, f = -1862.3299716850315\n",
      "Optimization restart 5/5, f = -1760.7414496946037\n",
      "Optimization restart 1/5, f = -1095.820975796832\n",
      "Optimization restart 2/5, f = -1096.3895516206792\n",
      "Optimization restart 3/5, f = -1095.6561553701788\n",
      "Optimization restart 4/5, f = -1095.898006535784\n",
      "Optimization restart 5/5, f = -1095.984273297111\n",
      "Optimization restart 1/5, f = -653.9682119295564\n",
      "Optimization restart 2/5, f = -653.8873779049098\n",
      "Optimization restart 3/5, f = -654.0022740408632\n"
     ]
    },
    {
     "name": "stderr",
     "output_type": "stream",
     "text": [
      " /Users/dananjayaliyanage/miniconda3/envs/parton_loss/lib/python3.6/site-packages/GPy/kern/src/stationary.py:137: RuntimeWarning:overflow encountered in square\n",
      " /Users/dananjayaliyanage/miniconda3/envs/parton_loss/lib/python3.6/site-packages/GPy/kern/src/stationary.py:138: RuntimeWarning:invalid value encountered in add\n",
      " /Users/dananjayaliyanage/miniconda3/envs/parton_loss/lib/python3.6/site-packages/GPy/kern/src/rbf.py:52: RuntimeWarning:overflow encountered in square\n"
     ]
    },
    {
     "name": "stdout",
     "output_type": "stream",
     "text": [
      "Optimization restart 4/5, f = -813.4072784177196\n",
      "Optimization restart 5/5, f = -773.1465186863409\n",
      "Optimization restart 1/5, f = -653.9445807786648\n",
      "Optimization restart 2/5, f = -653.9630888870801\n",
      "Optimization restart 3/5, f = -653.9425295411409\n",
      "Optimization restart 4/5, f = -659.7691168540946\n",
      "Optimization restart 5/5, f = -653.8498701299034\n",
      "(97, 1)\n",
      "r2 score for multifidelity linear 0.9844331282648472\n",
      "mse for multifidelity linear 5.6252082290325476e-05\n",
      "(97, 1)\n",
      "r2 score for multifidelity nonlinear 0.9775769229430605\n",
      "mse for multifidelity nonlinear 8.102750490073892e-05\n",
      "(97, 1)\n",
      "r2 score for standard GP 0.9675576705697843\n",
      "mse for standard GP 0.00011723284008804898\n",
      "Optimization restart 1/5, f = -2398.401132328552\n",
      "Optimization restart 2/5, f = -2118.420005210999\n"
     ]
    },
    {
     "name": "stderr",
     "output_type": "stream",
     "text": [
      " /Users/dananjayaliyanage/miniconda3/envs/parton_loss/lib/python3.6/site-packages/GPy/kern/src/stationary.py:165: RuntimeWarning:overflow encountered in true_divide\n",
      " /Users/dananjayaliyanage/miniconda3/envs/parton_loss/lib/python3.6/site-packages/GPy/kern/src/stationary.py:166: RuntimeWarning:overflow encountered in true_divide\n",
      " /Users/dananjayaliyanage/miniconda3/envs/parton_loss/lib/python3.6/site-packages/GPy/kern/src/stationary.py:144: RuntimeWarning:overflow encountered in square\n",
      " /Users/dananjayaliyanage/miniconda3/envs/parton_loss/lib/python3.6/site-packages/GPy/kern/src/stationary.py:145: RuntimeWarning:overflow encountered in square\n",
      " /Users/dananjayaliyanage/miniconda3/envs/parton_loss/lib/python3.6/site-packages/GPy/kern/src/stationary.py:146: RuntimeWarning:invalid value encountered in add\n"
     ]
    },
    {
     "name": "stdout",
     "output_type": "stream",
     "text": [
      "Optimization restart 3/5, f = -2121.7005290418747\n",
      "Optimization restart 4/5, f = -2396.626197213555\n",
      "Optimization restart 5/5, f = -2071.269967170604\n",
      "Optimization restart 1/5, f = -1095.820975796832\n",
      "Optimization restart 2/5, f = -1095.7702119215949\n",
      "Optimization restart 3/5, f = -1096.3161613917368\n",
      "Optimization restart 4/5, f = -1095.822931081214\n",
      "Optimization restart 5/5, f = -1095.9751323295507\n",
      "Optimization restart 1/5, f = -710.1310397735997\n",
      "Optimization restart 2/5, f = -709.5715353570298\n",
      "Optimization restart 3/5, f = -838.7382733748816\n"
     ]
    },
    {
     "name": "stderr",
     "output_type": "stream",
     "text": [
      " /Users/dananjayaliyanage/miniconda3/envs/parton_loss/lib/python3.6/site-packages/GPy/kern/src/stationary.py:137: RuntimeWarning:overflow encountered in square\n",
      " /Users/dananjayaliyanage/miniconda3/envs/parton_loss/lib/python3.6/site-packages/GPy/kern/src/stationary.py:138: RuntimeWarning:invalid value encountered in add\n",
      " /Users/dananjayaliyanage/miniconda3/envs/parton_loss/lib/python3.6/site-packages/GPy/kern/src/rbf.py:52: RuntimeWarning:overflow encountered in square\n"
     ]
    },
    {
     "name": "stdout",
     "output_type": "stream",
     "text": [
      "Optimization restart 4/5, f = -784.7164456726439\n",
      "Optimization restart 5/5, f = -837.3386347294091\n"
     ]
    },
    {
     "name": "stderr",
     "output_type": "stream",
     "text": [
      " /Users/dananjayaliyanage/miniconda3/envs/parton_loss/lib/python3.6/site-packages/GPy/kern/src/stationary.py:243: RuntimeWarning:invalid value encountered in true_divide\n"
     ]
    },
    {
     "name": "stdout",
     "output_type": "stream",
     "text": [
      "Optimization restart 1/5, f = -721.5403423875221\n",
      "Optimization restart 2/5, f = -663.6157312940198\n",
      "Optimization restart 3/5, f = -709.7997715330193\n",
      "Optimization restart 4/5, f = -702.8014970226347\n",
      "Optimization restart 5/5, f = -709.9257600603058\n",
      "(97, 1)\n",
      "r2 score for multifidelity linear 0.9842855227127798\n",
      "mse for multifidelity linear 5.678546624843019e-05\n",
      "(97, 1)\n",
      "r2 score for multifidelity nonlinear 0.9735073844278201\n",
      "mse for multifidelity nonlinear 9.573309375235144e-05\n",
      "(97, 1)\n",
      "r2 score for standard GP 0.9672385260089114\n",
      "mse for standard GP 0.00011838609338172106\n",
      "Optimization restart 1/5, f = -2492.4298984263314\n",
      "Optimization restart 2/5, f = -2236.9496570764477\n",
      "Optimization restart 3/5, f = -2172.442891110626\n"
     ]
    },
    {
     "name": "stderr",
     "output_type": "stream",
     "text": [
      " /Users/dananjayaliyanage/miniconda3/envs/parton_loss/lib/python3.6/site-packages/GPy/kern/src/stationary.py:144: RuntimeWarning:overflow encountered in square\n",
      " /Users/dananjayaliyanage/miniconda3/envs/parton_loss/lib/python3.6/site-packages/GPy/kern/src/stationary.py:145: RuntimeWarning:overflow encountered in square\n",
      " /Users/dananjayaliyanage/miniconda3/envs/parton_loss/lib/python3.6/site-packages/GPy/kern/src/stationary.py:146: RuntimeWarning:invalid value encountered in add\n",
      " /Users/dananjayaliyanage/miniconda3/envs/parton_loss/lib/python3.6/site-packages/GPy/kern/src/rbf.py:76: RuntimeWarning:invalid value encountered in multiply\n",
      " /Users/dananjayaliyanage/miniconda3/envs/parton_loss/lib/python3.6/site-packages/GPy/kern/src/stationary.py:243: RuntimeWarning:invalid value encountered in true_divide\n"
     ]
    },
    {
     "name": "stdout",
     "output_type": "stream",
     "text": [
      "Optimization restart 4/5, f = -2179.922374444821\n",
      "Optimization restart 5/5, f = -2180.875738494195\n",
      "Optimization restart 1/5, f = -1095.820975796832\n"
     ]
    },
    {
     "name": "stderr",
     "output_type": "stream",
     "text": [
      " /Users/dananjayaliyanage/miniconda3/envs/parton_loss/lib/python3.6/site-packages/GPy/kern/src/stationary.py:166: RuntimeWarning:overflow encountered in true_divide\n",
      " /Users/dananjayaliyanage/miniconda3/envs/parton_loss/lib/python3.6/site-packages/GPy/kern/src/stationary.py:137: RuntimeWarning:overflow encountered in square\n",
      " /Users/dananjayaliyanage/miniconda3/envs/parton_loss/lib/python3.6/site-packages/GPy/kern/src/stationary.py:138: RuntimeWarning:invalid value encountered in add\n"
     ]
    },
    {
     "name": "stdout",
     "output_type": "stream",
     "text": [
      "Optimization restart 2/5, f = -1096.1317006456861\n",
      "Optimization restart 3/5, f = -1096.0456065948038\n",
      "Optimization restart 4/5, f = -1096.2760112332176\n",
      "Optimization restart 5/5, f = -1095.7921663240243\n",
      "Optimization restart 1/5, f = -760.5256274154326\n",
      "Optimization restart 2/5, f = -840.0492566522894\n",
      "Optimization restart 3/5, f = -760.255738143105\n",
      "Optimization restart 4/5, f = -778.562799872362\n"
     ]
    },
    {
     "name": "stderr",
     "output_type": "stream",
     "text": [
      " /Users/dananjayaliyanage/miniconda3/envs/parton_loss/lib/python3.6/site-packages/GPy/kern/src/rbf.py:52: RuntimeWarning:overflow encountered in square\n"
     ]
    },
    {
     "name": "stdout",
     "output_type": "stream",
     "text": [
      "Optimization restart 5/5, f = -951.3925307576022\n",
      "Optimization restart 1/5, f = -760.2595892233783\n",
      "Optimization restart 2/5, f = -760.2918742523734\n",
      "Optimization restart 3/5, f = -760.3995669325241\n",
      "Optimization restart 4/5, f = -760.9709495246032\n",
      "Optimization restart 5/5, f = -760.2010829353995\n",
      "(97, 1)\n",
      "r2 score for multifidelity linear 0.9834980086779491\n",
      "mse for multifidelity linear 5.963120847883871e-05\n",
      "(97, 1)\n",
      "r2 score for multifidelity nonlinear 0.974233543334652\n",
      "mse for multifidelity nonlinear 9.310906297224887e-05\n",
      "(97, 1)\n",
      "r2 score for standard GP 0.9707115197982413\n",
      "mse for standard GP 0.00010583616454855558\n",
      "Optimization restart 1/5, f = -2586.507556489557\n",
      "Optimization restart 2/5, f = -2270.9613819102624\n",
      "Optimization restart 3/5, f = -2278.887042530003\n",
      "Optimization restart 4/5, f = -2279.3481135840843\n",
      "Optimization restart 5/5, f = -2577.2878078194035\n",
      "Optimization restart 1/5, f = -1095.820975796832\n",
      "Optimization restart 2/5, f = -1096.1262872421662\n",
      "Optimization restart 3/5, f = -1096.1122422254816\n",
      "Optimization restart 4/5, f = -1095.7839854854824\n",
      "Optimization restart 5/5, f = -1095.9156172074718\n",
      "Optimization restart 1/5, f = -818.829254232124\n",
      "Optimization restart 2/5, f = -838.7684183328256\n",
      "Optimization restart 3/5, f = -890.612050365117\n",
      "Optimization restart 4/5, f = -956.2375966477531\n",
      "Optimization restart 5/5, f = -955.8555243146938\n",
      "Optimization restart 1/5, f = -818.8320863110713\n",
      "Optimization restart 2/5, f = -818.9664943157541\n",
      "Optimization restart 3/5, f = -818.9065695280601\n",
      "Optimization restart 4/5, f = -818.7835013985024\n",
      "Optimization restart 5/5, f = -818.8133634363647\n",
      "(97, 1)\n",
      "r2 score for multifidelity linear 0.9850879066824045\n",
      "mse for multifidelity linear 5.3885990370701636e-05\n",
      "(97, 1)\n",
      "r2 score for multifidelity nonlinear 0.9738183726320754\n",
      "mse for multifidelity nonlinear 9.460931407749382e-05\n",
      "(97, 1)\n",
      "r2 score for standard GP 0.9730011005195344\n",
      "mse for standard GP 9.756258939898471e-05\n",
      "Optimization restart 1/5, f = -2692.9002566898416\n",
      "Optimization restart 2/5, f = -2695.69801569164\n",
      "Optimization restart 3/5, f = -2314.293935217949\n",
      "Optimization restart 4/5, f = -2290.201756366443\n"
     ]
    },
    {
     "name": "stderr",
     "output_type": "stream",
     "text": [
      " /Users/dananjayaliyanage/miniconda3/envs/parton_loss/lib/python3.6/site-packages/GPy/kern/src/stationary.py:243: RuntimeWarning:invalid value encountered in true_divide\n"
     ]
    },
    {
     "name": "stdout",
     "output_type": "stream",
     "text": [
      "Optimization restart 5/5, f = -2217.2887607622706\n",
      "Optimization restart 1/5, f = -1095.820975796832\n"
     ]
    },
    {
     "name": "stderr",
     "output_type": "stream",
     "text": [
      " /Users/dananjayaliyanage/miniconda3/envs/parton_loss/lib/python3.6/site-packages/GPy/kern/src/stationary.py:137: RuntimeWarning:overflow encountered in square\n",
      " /Users/dananjayaliyanage/miniconda3/envs/parton_loss/lib/python3.6/site-packages/GPy/kern/src/stationary.py:138: RuntimeWarning:invalid value encountered in add\n",
      " /Users/dananjayaliyanage/miniconda3/envs/parton_loss/lib/python3.6/site-packages/GPy/kern/src/rbf.py:76: RuntimeWarning:invalid value encountered in multiply\n",
      " /Users/dananjayaliyanage/miniconda3/envs/parton_loss/lib/python3.6/site-packages/GPy/kern/src/stationary.py:166: RuntimeWarning:overflow encountered in true_divide\n"
     ]
    },
    {
     "name": "stdout",
     "output_type": "stream",
     "text": [
      "Optimization restart 2/5, f = -1096.148296889713\n",
      "Optimization restart 3/5, f = -1095.7699811574944\n",
      "Optimization restart 4/5, f = -1095.9584959369183\n",
      "Optimization restart 5/5, f = -1095.9782766394944\n",
      "Optimization restart 1/5, f = -872.0916211323707\n",
      "Optimization restart 2/5, f = -1022.2121771684397\n",
      "Optimization restart 3/5, f = -1002.3121175943597\n",
      "Optimization restart 4/5, f = -872.0892037803967\n"
     ]
    },
    {
     "name": "stderr",
     "output_type": "stream",
     "text": [
      " /Users/dananjayaliyanage/miniconda3/envs/parton_loss/lib/python3.6/site-packages/GPy/kern/src/rbf.py:52: RuntimeWarning:overflow encountered in square\n"
     ]
    },
    {
     "name": "stdout",
     "output_type": "stream",
     "text": [
      "Optimization restart 5/5, f = -1088.7957918006293\n",
      "Optimization restart 1/5, f = -872.1608714014537\n",
      "Optimization restart 2/5, f = -872.016658943475\n",
      "Optimization restart 3/5, f = -872.0586037762732\n",
      "Optimization restart 4/5, f = -871.9232071361533\n",
      "Optimization restart 5/5, f = -871.7928774821787\n",
      "(97, 1)\n",
      "r2 score for multifidelity linear 0.983807411148873\n",
      "mse for multifidelity linear 5.8513158972723996e-05\n",
      "(97, 1)\n",
      "r2 score for multifidelity nonlinear 0.9745177774296803\n",
      "mse for multifidelity nonlinear 9.208196131847582e-05\n",
      "(97, 1)\n",
      "r2 score for standard GP 0.9757180313116561\n",
      "mse for standard GP 8.77447520649477e-05\n"
     ]
    },
    {
     "name": "stderr",
     "output_type": "stream",
     "text": [
      " /Users/dananjayaliyanage/miniconda3/envs/parton_loss/lib/python3.6/site-packages/GPy/kern/src/stationary.py:165: RuntimeWarning:overflow encountered in true_divide\n",
      " /Users/dananjayaliyanage/miniconda3/envs/parton_loss/lib/python3.6/site-packages/GPy/kern/src/stationary.py:166: RuntimeWarning:overflow encountered in true_divide\n",
      " /Users/dananjayaliyanage/miniconda3/envs/parton_loss/lib/python3.6/site-packages/GPy/kern/src/stationary.py:144: RuntimeWarning:overflow encountered in square\n",
      " /Users/dananjayaliyanage/miniconda3/envs/parton_loss/lib/python3.6/site-packages/GPy/kern/src/stationary.py:145: RuntimeWarning:overflow encountered in square\n",
      " /Users/dananjayaliyanage/miniconda3/envs/parton_loss/lib/python3.6/site-packages/GPy/kern/src/stationary.py:146: RuntimeWarning:invalid value encountered in add\n"
     ]
    },
    {
     "name": "stdout",
     "output_type": "stream",
     "text": [
      "Optimization restart 1/5, f = -2800.007194421337\n",
      "Optimization restart 2/5, f = -2430.6269788344352\n",
      "Optimization restart 3/5, f = -671.5823194242339\n",
      "Optimization restart 4/5, f = -2276.7279826359018\n",
      "Optimization restart 5/5, f = -2646.059922051926\n",
      "Optimization restart 1/5, f = -1095.820975796832\n",
      "Optimization restart 2/5, f = -1095.6432965858824\n",
      "Optimization restart 3/5, f = -1095.905298158959\n",
      "Optimization restart 4/5, f = -1095.8427488421282\n",
      "Optimization restart 5/5, f = -1095.8475991891082\n",
      "Optimization restart 1/5, f = -921.2683760843485\n",
      "Optimization restart 2/5, f = -997.2383920685336\n",
      "Optimization restart 3/5, f = -1011.8060530179737\n"
     ]
    },
    {
     "name": "stderr",
     "output_type": "stream",
     "text": [
      " /Users/dananjayaliyanage/miniconda3/envs/parton_loss/lib/python3.6/site-packages/GPy/kern/src/stationary.py:137: RuntimeWarning:overflow encountered in square\n",
      " /Users/dananjayaliyanage/miniconda3/envs/parton_loss/lib/python3.6/site-packages/GPy/kern/src/stationary.py:138: RuntimeWarning:invalid value encountered in add\n",
      " /Users/dananjayaliyanage/miniconda3/envs/parton_loss/lib/python3.6/site-packages/GPy/kern/src/rbf.py:76: RuntimeWarning:invalid value encountered in multiply\n",
      " /Users/dananjayaliyanage/miniconda3/envs/parton_loss/lib/python3.6/site-packages/GPy/kern/src/rbf.py:52: RuntimeWarning:overflow encountered in square\n"
     ]
    },
    {
     "name": "stdout",
     "output_type": "stream",
     "text": [
      "Optimization restart 4/5, f = -1149.374554790857\n",
      "Optimization restart 5/5, f = -944.5152699794796\n",
      "Optimization restart 1/5, f = -945.1392416239187\n",
      "Optimization restart 2/5, f = -945.1172629802389\n",
      "Optimization restart 3/5, f = -921.1598082438011\n",
      "Optimization restart 4/5, f = -945.2692704055547\n",
      "Optimization restart 5/5, f = -921.2391023863895\n",
      "(97, 1)\n",
      "r2 score for multifidelity linear 0.9861899985590781\n",
      "mse for multifidelity linear 4.99034970353103e-05\n",
      "(97, 1)\n",
      "r2 score for multifidelity nonlinear 0.975938321333702\n",
      "mse for multifidelity nonlinear 8.694871721230099e-05\n",
      "(97, 1)\n",
      "r2 score for standard GP 0.9801606309604078\n",
      "mse for standard GP 7.169107825839702e-05\n",
      "Optimization restart 1/5, f = -2887.2175644529916\n"
     ]
    },
    {
     "name": "stderr",
     "output_type": "stream",
     "text": [
      " /Users/dananjayaliyanage/miniconda3/envs/parton_loss/lib/python3.6/site-packages/GPy/kern/src/stationary.py:243: RuntimeWarning:invalid value encountered in true_divide\n"
     ]
    },
    {
     "name": "stdout",
     "output_type": "stream",
     "text": [
      "Optimization restart 2/5, f = -2215.9147149693877\n"
     ]
    },
    {
     "name": "stderr",
     "output_type": "stream",
     "text": [
      " /Users/dananjayaliyanage/miniconda3/envs/parton_loss/lib/python3.6/site-packages/GPy/kern/src/stationary.py:144: RuntimeWarning:overflow encountered in square\n",
      " /Users/dananjayaliyanage/miniconda3/envs/parton_loss/lib/python3.6/site-packages/GPy/kern/src/stationary.py:145: RuntimeWarning:overflow encountered in square\n",
      " /Users/dananjayaliyanage/miniconda3/envs/parton_loss/lib/python3.6/site-packages/GPy/kern/src/stationary.py:146: RuntimeWarning:invalid value encountered in add\n",
      " /Users/dananjayaliyanage/miniconda3/envs/parton_loss/lib/python3.6/site-packages/GPy/kern/src/stationary.py:165: RuntimeWarning:overflow encountered in true_divide\n",
      " /Users/dananjayaliyanage/miniconda3/envs/parton_loss/lib/python3.6/site-packages/GPy/kern/src/stationary.py:166: RuntimeWarning:overflow encountered in true_divide\n"
     ]
    },
    {
     "name": "stdout",
     "output_type": "stream",
     "text": [
      "Optimization restart 3/5, f = -2457.293683753363\n",
      "Optimization restart 4/5, f = -2205.848785577745\n",
      "Optimization restart 5/5, f = -2405.9475938775754\n",
      "Optimization restart 1/5, f = -1095.820975796832\n",
      "Optimization restart 2/5, f = -1096.0877729682616\n"
     ]
    },
    {
     "name": "stderr",
     "output_type": "stream",
     "text": [
      " /Users/dananjayaliyanage/miniconda3/envs/parton_loss/lib/python3.6/site-packages/GPy/kern/src/stationary.py:137: RuntimeWarning:overflow encountered in square\n",
      " /Users/dananjayaliyanage/miniconda3/envs/parton_loss/lib/python3.6/site-packages/GPy/kern/src/stationary.py:138: RuntimeWarning:invalid value encountered in add\n"
     ]
    },
    {
     "name": "stdout",
     "output_type": "stream",
     "text": [
      "Optimization restart 3/5, f = -1096.0154469590404\n",
      "Optimization restart 4/5, f = -1095.8453271716369\n",
      "Optimization restart 5/5, f = -1096.3517072493842\n",
      "Optimization restart 1/5, f = -968.4755490818243\n",
      "Optimization restart 2/5, f = -988.6422539820232\n",
      "Optimization restart 3/5, f = -1129.3367955941612\n",
      "Optimization restart 4/5, f = -968.4829298321322\n",
      "Optimization restart 5/5, f = -1073.8826108823343\n",
      "Optimization restart 1/5, f = -1000.085684311943\n",
      "Optimization restart 2/5, f = -1000.0737443482994\n",
      "Optimization restart 3/5, f = -968.4829048913032\n",
      "Optimization restart 4/5, f = -968.4757276240814\n",
      "Optimization restart 5/5, f = -968.4831205509881\n",
      "(97, 1)\n",
      "r2 score for multifidelity linear 0.9839902282815626\n",
      "mse for multifidelity linear 5.785253527342873e-05\n",
      "(97, 1)\n",
      "r2 score for multifidelity nonlinear 0.975783503816103\n",
      "mse for multifidelity nonlinear 8.750816215975926e-05\n",
      "(97, 1)\n",
      "r2 score for standard GP 0.9809744318304411\n",
      "mse for standard GP 6.875034653734938e-05\n",
      "Optimization restart 1/5, f = -2983.840472702919\n",
      "Optimization restart 2/5, f = -2463.4035928019603\n"
     ]
    },
    {
     "name": "stderr",
     "output_type": "stream",
     "text": [
      " /Users/dananjayaliyanage/miniconda3/envs/parton_loss/lib/python3.6/site-packages/GPy/kern/src/stationary.py:144: RuntimeWarning:overflow encountered in square\n",
      " /Users/dananjayaliyanage/miniconda3/envs/parton_loss/lib/python3.6/site-packages/GPy/kern/src/stationary.py:145: RuntimeWarning:overflow encountered in square\n",
      " /Users/dananjayaliyanage/miniconda3/envs/parton_loss/lib/python3.6/site-packages/GPy/kern/src/stationary.py:146: RuntimeWarning:invalid value encountered in add\n",
      " /Users/dananjayaliyanage/miniconda3/envs/parton_loss/lib/python3.6/site-packages/GPy/kern/src/stationary.py:165: RuntimeWarning:overflow encountered in true_divide\n",
      " /Users/dananjayaliyanage/miniconda3/envs/parton_loss/lib/python3.6/site-packages/GPy/kern/src/stationary.py:166: RuntimeWarning:overflow encountered in true_divide\n"
     ]
    },
    {
     "name": "stdout",
     "output_type": "stream",
     "text": [
      "Optimization restart 3/5, f = -2579.7479853825917\n"
     ]
    },
    {
     "name": "stderr",
     "output_type": "stream",
     "text": [
      " /Users/dananjayaliyanage/miniconda3/envs/parton_loss/lib/python3.6/site-packages/GPy/kern/src/rbf.py:76: RuntimeWarning:invalid value encountered in multiply\n"
     ]
    },
    {
     "name": "stdout",
     "output_type": "stream",
     "text": [
      "Optimization restart 4/5, f = -2573.1765212876758\n",
      "Optimization restart 5/5, f = -2590.7541290228105\n",
      "Optimization restart 1/5, f = -1095.820975796832\n"
     ]
    },
    {
     "name": "stderr",
     "output_type": "stream",
     "text": [
      " /Users/dananjayaliyanage/miniconda3/envs/parton_loss/lib/python3.6/site-packages/GPy/kern/src/stationary.py:137: RuntimeWarning:overflow encountered in square\n",
      " /Users/dananjayaliyanage/miniconda3/envs/parton_loss/lib/python3.6/site-packages/GPy/kern/src/stationary.py:138: RuntimeWarning:invalid value encountered in add\n"
     ]
    },
    {
     "name": "stdout",
     "output_type": "stream",
     "text": [
      "Optimization restart 2/5, f = -1096.1322941583282\n",
      "Optimization restart 3/5, f = -1095.8394930766378\n",
      "Optimization restart 4/5, f = -1095.8136549296576\n"
     ]
    },
    {
     "name": "stderr",
     "output_type": "stream",
     "text": [
      " /Users/dananjayaliyanage/miniconda3/envs/parton_loss/lib/python3.6/site-packages/GPy/kern/src/stationary.py:243: RuntimeWarning:invalid value encountered in true_divide\n"
     ]
    },
    {
     "name": "stdout",
     "output_type": "stream",
     "text": [
      "Optimization restart 5/5, f = -1042.9568736150195\n",
      "Optimization restart 1/5, f = -1025.0364573826876\n",
      "Optimization restart 2/5, f = -1024.9731232270399\n",
      "Optimization restart 3/5, f = -1196.4079940494055\n"
     ]
    },
    {
     "name": "stderr",
     "output_type": "stream",
     "text": [
      " /Users/dananjayaliyanage/miniconda3/envs/parton_loss/lib/python3.6/site-packages/GPy/kern/src/rbf.py:52: RuntimeWarning:overflow encountered in square\n"
     ]
    },
    {
     "name": "stdout",
     "output_type": "stream",
     "text": [
      "Optimization restart 4/5, f = -1251.5397217639465\n",
      "Optimization restart 5/5, f = -1094.31673432487\n",
      "Optimization restart 1/5, f = -1057.3995281817527\n",
      "Optimization restart 2/5, f = -1025.048559849051\n",
      "Optimization restart 3/5, f = -1057.0171793035984\n",
      "Optimization restart 4/5, f = -1025.0372734006341\n",
      "Optimization restart 5/5, f = -1025.046599084262\n",
      "(97, 1)\n",
      "r2 score for multifidelity linear 0.98237648794147\n",
      "mse for multifidelity linear 6.368390948595674e-05\n",
      "(97, 1)\n",
      "r2 score for multifidelity nonlinear 0.9771676957791758\n",
      "mse for multifidelity nonlinear 8.250627857408365e-05\n",
      "(97, 1)\n",
      "r2 score for standard GP 0.9834570474575257\n",
      "mse for standard GP 5.9779224983450054e-05\n",
      "Optimization restart 1/5, f = -3105.623903507053\n"
     ]
    },
    {
     "name": "stderr",
     "output_type": "stream",
     "text": [
      " /Users/dananjayaliyanage/miniconda3/envs/parton_loss/lib/python3.6/site-packages/GPy/kern/src/stationary.py:144: RuntimeWarning:overflow encountered in square\n",
      " /Users/dananjayaliyanage/miniconda3/envs/parton_loss/lib/python3.6/site-packages/GPy/kern/src/stationary.py:145: RuntimeWarning:overflow encountered in square\n",
      " /Users/dananjayaliyanage/miniconda3/envs/parton_loss/lib/python3.6/site-packages/GPy/kern/src/stationary.py:146: RuntimeWarning:invalid value encountered in add\n",
      " /Users/dananjayaliyanage/miniconda3/envs/parton_loss/lib/python3.6/site-packages/GPy/kern/src/stationary.py:165: RuntimeWarning:overflow encountered in true_divide\n",
      " /Users/dananjayaliyanage/miniconda3/envs/parton_loss/lib/python3.6/site-packages/GPy/kern/src/stationary.py:166: RuntimeWarning:overflow encountered in true_divide\n",
      " /Users/dananjayaliyanage/miniconda3/envs/parton_loss/lib/python3.6/site-packages/GPy/kern/src/rbf.py:76: RuntimeWarning:invalid value encountered in multiply\n",
      " /Users/dananjayaliyanage/miniconda3/envs/parton_loss/lib/python3.6/site-packages/GPy/kern/src/stationary.py:243: RuntimeWarning:invalid value encountered in true_divide\n"
     ]
    },
    {
     "name": "stdout",
     "output_type": "stream",
     "text": [
      "Optimization restart 2/5, f = -2690.011542452912\n",
      "Optimization restart 3/5, f = -785.1970061613047\n",
      "Optimization restart 4/5, f = -2702.03421254642\n",
      "Optimization restart 5/5, f = -2511.8393629505235\n",
      "Optimization restart 1/5, f = -1095.820975796832\n",
      "Optimization restart 2/5, f = -1095.9851131194469\n",
      "Optimization restart 3/5, f = -1096.1591129846126\n",
      "Optimization restart 4/5, f = -1095.854556205134\n",
      "Optimization restart 5/5, f = -1095.834872106171\n",
      "Optimization restart 1/5, f = -1091.480513407556\n"
     ]
    },
    {
     "name": "stderr",
     "output_type": "stream",
     "text": [
      " /Users/dananjayaliyanage/miniconda3/envs/parton_loss/lib/python3.6/site-packages/GPy/kern/src/stationary.py:137: RuntimeWarning:overflow encountered in square\n",
      " /Users/dananjayaliyanage/miniconda3/envs/parton_loss/lib/python3.6/site-packages/GPy/kern/src/stationary.py:138: RuntimeWarning:invalid value encountered in add\n"
     ]
    },
    {
     "name": "stdout",
     "output_type": "stream",
     "text": [
      "Optimization restart 2/5, f = -1355.6707969737447\n",
      "Optimization restart 3/5, f = -1257.4907313408903\n",
      "Optimization restart 4/5, f = -1091.4119464760927\n",
      "Optimization restart 5/5, f = -1194.7684586366702\n",
      "Optimization restart 1/5, f = -1091.4333788299036\n",
      "Optimization restart 2/5, f = -1091.3957959644754\n",
      "Optimization restart 3/5, f = -1127.6775993682759\n",
      "Optimization restart 4/5, f = -1127.6367680494184\n",
      "Optimization restart 5/5, f = -1091.4573308024274\n",
      "(97, 1)\n",
      "r2 score for multifidelity linear 0.98436509780259\n",
      "mse for multifidelity linear 5.649791557181239e-05\n",
      "(97, 1)\n",
      "r2 score for multifidelity nonlinear 0.9790948570428131\n",
      "mse for multifidelity nonlinear 7.55423338693778e-05\n",
      "(97, 1)\n",
      "r2 score for standard GP 0.9861155928744552\n",
      "mse for standard GP 5.017236767068807e-05\n",
      "Optimization restart 1/5, f = -1215.2000183517232\n",
      "Optimization restart 2/5, f = -1216.5891973968455\n"
     ]
    },
    {
     "name": "stderr",
     "output_type": "stream",
     "text": [
      " /Users/dananjayaliyanage/miniconda3/envs/parton_loss/lib/python3.6/site-packages/GPy/kern/src/stationary.py:243: RuntimeWarning:invalid value encountered in true_divide\n"
     ]
    },
    {
     "name": "stdout",
     "output_type": "stream",
     "text": [
      "Optimization restart 3/5, f = -1199.626781804041\n",
      "Optimization restart 4/5, f = -1236.1050531943583\n",
      "Optimization restart 5/5, f = -1215.5595895934475\n",
      "Optimization restart 1/5, f = -1103.1222015762223\n",
      "Optimization restart 2/5, f = -1102.8944259101913\n"
     ]
    },
    {
     "name": "stderr",
     "output_type": "stream",
     "text": [
      " /Users/dananjayaliyanage/miniconda3/envs/parton_loss/lib/python3.6/site-packages/GPy/kern/src/stationary.py:137: RuntimeWarning:overflow encountered in square\n",
      " /Users/dananjayaliyanage/miniconda3/envs/parton_loss/lib/python3.6/site-packages/GPy/kern/src/stationary.py:138: RuntimeWarning:invalid value encountered in add\n",
      " /Users/dananjayaliyanage/miniconda3/envs/parton_loss/lib/python3.6/site-packages/GPy/kern/src/stationary.py:166: RuntimeWarning:overflow encountered in true_divide\n"
     ]
    },
    {
     "name": "stdout",
     "output_type": "stream",
     "text": [
      "Optimization restart 3/5, f = -1103.275325448573\n",
      "Optimization restart 4/5, f = -1103.6317469000726\n",
      "Optimization restart 5/5, f = -1103.07456892051\n",
      "Optimization restart 1/5, f = -57.025852901685624\n",
      "Optimization restart 2/5, f = -71.39008263468875\n"
     ]
    },
    {
     "name": "stderr",
     "output_type": "stream",
     "text": [
      " /Users/dananjayaliyanage/miniconda3/envs/parton_loss/lib/python3.6/site-packages/GPy/kern/src/rbf.py:52: RuntimeWarning:overflow encountered in square\n"
     ]
    },
    {
     "name": "stdout",
     "output_type": "stream",
     "text": [
      "Optimization restart 3/5, f = -71.71446714511728\n",
      "Optimization restart 4/5, f = -71.58191614275816\n",
      "Optimization restart 5/5, f = -54.79837451466119\n"
     ]
    },
    {
     "name": "stderr",
     "output_type": "stream",
     "text": [
      " /Users/dananjayaliyanage/miniconda3/envs/parton_loss/lib/python3.6/site-packages/GPy/kern/src/rbf.py:76: RuntimeWarning:invalid value encountered in multiply\n"
     ]
    },
    {
     "name": "stdout",
     "output_type": "stream",
     "text": [
      "Optimization restart 1/5, f = -54.45210469990425\n",
      "Optimization restart 2/5, f = -56.82683219105061\n",
      "Optimization restart 3/5, f = -54.79946923992399\n",
      "Optimization restart 4/5, f = -54.56753790909309\n",
      "Optimization restart 5/5, f = -56.385875920886676\n",
      "(97, 1)\n",
      "r2 score for multifidelity linear 0.9807417568100667\n",
      "mse for multifidelity linear 8.088036414235692e-05\n",
      "(97, 1)\n",
      "r2 score for multifidelity nonlinear 0.4050894648630168\n",
      "mse for multifidelity nonlinear 0.0024984927357836646\n",
      "(97, 1)\n",
      "r2 score for standard GP -0.960226360207971\n",
      "mse for standard GP 0.008232517382371709\n",
      "Optimization restart 1/5, f = -1291.0765091256053\n"
     ]
    },
    {
     "name": "stderr",
     "output_type": "stream",
     "text": [
      " /Users/dananjayaliyanage/miniconda3/envs/parton_loss/lib/python3.6/site-packages/GPy/kern/src/stationary.py:165: RuntimeWarning:overflow encountered in true_divide\n",
      " /Users/dananjayaliyanage/miniconda3/envs/parton_loss/lib/python3.6/site-packages/GPy/kern/src/stationary.py:166: RuntimeWarning:overflow encountered in true_divide\n",
      " /Users/dananjayaliyanage/miniconda3/envs/parton_loss/lib/python3.6/site-packages/GPy/kern/src/stationary.py:144: RuntimeWarning:overflow encountered in square\n",
      " /Users/dananjayaliyanage/miniconda3/envs/parton_loss/lib/python3.6/site-packages/GPy/kern/src/stationary.py:145: RuntimeWarning:overflow encountered in square\n",
      " /Users/dananjayaliyanage/miniconda3/envs/parton_loss/lib/python3.6/site-packages/GPy/kern/src/stationary.py:146: RuntimeWarning:invalid value encountered in add\n"
     ]
    },
    {
     "name": "stdout",
     "output_type": "stream",
     "text": [
      "Optimization restart 2/5, f = -1315.5154475419117\n",
      "Optimization restart 3/5, f = -1290.3550885529787\n"
     ]
    },
    {
     "name": "stderr",
     "output_type": "stream",
     "text": [
      " /Users/dananjayaliyanage/miniconda3/envs/parton_loss/lib/python3.6/site-packages/GPy/kern/src/stationary.py:243: RuntimeWarning:invalid value encountered in true_divide\n"
     ]
    },
    {
     "name": "stdout",
     "output_type": "stream",
     "text": [
      "Optimization restart 4/5, f = -1093.3885112913745\n",
      "Optimization restart 5/5, f = -1315.5104422657105\n",
      "Optimization restart 1/5, f = -1103.1222015762223\n",
      "Optimization restart 2/5, f = -1102.7439245238506\n",
      "Optimization restart 3/5, f = -1103.5749180871221\n",
      "Optimization restart 4/5, f = -1103.2351878911697\n",
      "Optimization restart 5/5, f = -1103.5573346480007\n",
      "Optimization restart 1/5, f = -112.78013048906149\n",
      "Optimization restart 2/5, f = -113.152842621064\n",
      "Optimization restart 3/5, f = -113.23417719126086\n",
      "Optimization restart 4/5, f = -112.98410403430266\n",
      "Optimization restart 5/5, f = -135.5798051065\n",
      "Optimization restart 1/5, f = -113.36446676093982\n",
      "Optimization restart 2/5, f = -113.30049761759535\n",
      "Optimization restart 3/5, f = -113.48210752948914\n",
      "Optimization restart 4/5, f = -113.52777169898329\n",
      "Optimization restart 5/5, f = -113.33422792253381\n",
      "(97, 1)\n",
      "r2 score for multifidelity linear 0.9797848703375766\n",
      "mse for multifidelity linear 8.489907579609464e-05\n",
      "(97, 1)\n",
      "r2 score for multifidelity nonlinear 0.8990829393636439\n",
      "mse for multifidelity nonlinear 0.0004238293457998986\n",
      "(97, 1)\n",
      "r2 score for standard GP 0.6224163159037301\n",
      "mse for standard GP 0.0015857680040037292\n",
      "Optimization restart 1/5, f = -1374.5233847910054\n",
      "Optimization restart 2/5, f = -1052.4700105658053\n",
      "Optimization restart 3/5, f = -1371.305001889744\n"
     ]
    },
    {
     "name": "stderr",
     "output_type": "stream",
     "text": [
      " /Users/dananjayaliyanage/miniconda3/envs/parton_loss/lib/python3.6/site-packages/GPy/kern/src/stationary.py:144: RuntimeWarning:overflow encountered in square\n",
      " /Users/dananjayaliyanage/miniconda3/envs/parton_loss/lib/python3.6/site-packages/GPy/kern/src/stationary.py:145: RuntimeWarning:overflow encountered in square\n",
      " /Users/dananjayaliyanage/miniconda3/envs/parton_loss/lib/python3.6/site-packages/GPy/kern/src/stationary.py:146: RuntimeWarning:invalid value encountered in add\n",
      " /Users/dananjayaliyanage/miniconda3/envs/parton_loss/lib/python3.6/site-packages/GPy/kern/src/stationary.py:165: RuntimeWarning:overflow encountered in true_divide\n",
      " /Users/dananjayaliyanage/miniconda3/envs/parton_loss/lib/python3.6/site-packages/GPy/kern/src/stationary.py:166: RuntimeWarning:overflow encountered in true_divide\n"
     ]
    },
    {
     "name": "stdout",
     "output_type": "stream",
     "text": [
      "Optimization restart 4/5, f = -1366.7599729643812\n",
      "Optimization restart 5/5, f = -1380.0761246520951\n",
      "Optimization restart 1/5, f = -1103.1222015762223\n",
      "Optimization restart 2/5, f = -1103.5733338510418\n",
      "Optimization restart 3/5, f = -1103.5941147503645\n",
      "Optimization restart 4/5, f = -1103.3224053254166\n",
      "Optimization restart 5/5, f = -1103.2286543034475\n",
      "Optimization restart 1/5, f = -164.7434033800455\n",
      "Optimization restart 2/5, f = -164.66571098668027\n",
      "Optimization restart 3/5, f = -164.66113857109195\n",
      "Optimization restart 4/5, f = -217.75071273387664\n",
      "Optimization restart 5/5, f = -219.44081780765467\n",
      "Optimization restart 1/5, f = -164.67322913248924\n",
      "Optimization restart 2/5, f = -167.58056075658945\n",
      "Optimization restart 3/5, f = -164.77146558638304\n",
      "Optimization restart 4/5, f = -164.82195746519696\n",
      "Optimization restart 5/5, f = -164.6929446106514\n",
      "(97, 1)\n",
      "r2 score for multifidelity linear 0.9777497508076167\n",
      "mse for multifidelity linear 9.344612793543044e-05\n",
      "(97, 1)\n",
      "r2 score for multifidelity nonlinear 0.8410874285458328\n",
      "mse for multifidelity nonlinear 0.0006673976706623912\n",
      "(97, 1)\n",
      "r2 score for standard GP 0.7986631168870612\n",
      "mse for standard GP 0.0008455704012489435\n"
     ]
    },
    {
     "name": "stderr",
     "output_type": "stream",
     "text": [
      " /Users/dananjayaliyanage/miniconda3/envs/parton_loss/lib/python3.6/site-packages/GPy/kern/src/stationary.py:144: RuntimeWarning:overflow encountered in square\n",
      " /Users/dananjayaliyanage/miniconda3/envs/parton_loss/lib/python3.6/site-packages/GPy/kern/src/stationary.py:145: RuntimeWarning:overflow encountered in square\n",
      " /Users/dananjayaliyanage/miniconda3/envs/parton_loss/lib/python3.6/site-packages/GPy/kern/src/stationary.py:146: RuntimeWarning:invalid value encountered in add\n",
      " /Users/dananjayaliyanage/miniconda3/envs/parton_loss/lib/python3.6/site-packages/GPy/kern/src/stationary.py:165: RuntimeWarning:overflow encountered in true_divide\n",
      " /Users/dananjayaliyanage/miniconda3/envs/parton_loss/lib/python3.6/site-packages/GPy/kern/src/stationary.py:166: RuntimeWarning:overflow encountered in true_divide\n",
      " /Users/dananjayaliyanage/miniconda3/envs/parton_loss/lib/python3.6/site-packages/GPy/kern/src/rbf.py:76: RuntimeWarning:invalid value encountered in multiply\n"
     ]
    },
    {
     "name": "stdout",
     "output_type": "stream",
     "text": [
      "Optimization restart 1/5, f = -1448.5678825950665\n",
      "Optimization restart 2/5, f = -1454.558197614524\n",
      "Optimization restart 3/5, f = -1450.053709830978\n",
      "Optimization restart 4/5, f = -1444.5160675150019\n",
      "Optimization restart 5/5, f = -1546.4560393553033\n",
      "Optimization restart 1/5, f = -1103.1222015762223\n",
      "Optimization restart 2/5, f = -1102.8754181848403\n",
      "Optimization restart 3/5, f = -1103.2185855145767\n",
      "Optimization restart 4/5, f = -1103.3905601870722\n",
      "Optimization restart 5/5, f = -1103.3994697753055\n",
      "Optimization restart 1/5, f = -226.23215314429333\n"
     ]
    },
    {
     "name": "stderr",
     "output_type": "stream",
     "text": [
      " /Users/dananjayaliyanage/miniconda3/envs/parton_loss/lib/python3.6/site-packages/GPy/kern/src/stationary.py:137: RuntimeWarning:overflow encountered in square\n",
      " /Users/dananjayaliyanage/miniconda3/envs/parton_loss/lib/python3.6/site-packages/GPy/kern/src/stationary.py:138: RuntimeWarning:invalid value encountered in add\n"
     ]
    },
    {
     "name": "stdout",
     "output_type": "stream",
     "text": [
      "Optimization restart 2/5, f = -286.31850799612045\n",
      "Optimization restart 3/5, f = -249.8411630122544\n",
      "Optimization restart 4/5, f = -223.6390398317057\n",
      "Optimization restart 5/5, f = -224.60215444663652\n",
      "Optimization restart 1/5, f = -224.66517163072388\n",
      "Optimization restart 2/5, f = -225.78978612329217\n",
      "Optimization restart 3/5, f = -224.8267353355189\n",
      "Optimization restart 4/5, f = -224.67790239628766\n",
      "Optimization restart 5/5, f = -224.57310194226875\n",
      "(97, 1)\n",
      "r2 score for multifidelity linear 0.9778161380109411\n",
      "mse for multifidelity linear 9.31673163571201e-05\n",
      "(97, 1)\n",
      "r2 score for multifidelity nonlinear 0.9540294299793308\n",
      "mse for multifidelity nonlinear 0.00019306623176546962\n",
      "(97, 1)\n",
      "r2 score for standard GP 0.7339404345968527\n",
      "mse for standard GP 0.0011173913591771554\n",
      "Optimization restart 1/5, f = -1638.6629273992053\n",
      "Optimization restart 2/5, f = -1630.1437812805882\n",
      "Optimization restart 3/5, f = -1531.439927001638\n",
      "Optimization restart 4/5, f = -1540.3328710122382\n",
      "Optimization restart 5/5, f = -1556.638550272783\n",
      "Optimization restart 1/5, f = -1103.1222015762223\n",
      "Optimization restart 2/5, f = -1103.110886429588\n",
      "Optimization restart 3/5, f = -1102.9842973271552\n"
     ]
    },
    {
     "name": "stderr",
     "output_type": "stream",
     "text": [
      " /Users/dananjayaliyanage/miniconda3/envs/parton_loss/lib/python3.6/site-packages/GPy/kern/src/stationary.py:166: RuntimeWarning:overflow encountered in true_divide\n",
      " /Users/dananjayaliyanage/miniconda3/envs/parton_loss/lib/python3.6/site-packages/GPy/kern/src/stationary.py:137: RuntimeWarning:overflow encountered in square\n",
      " /Users/dananjayaliyanage/miniconda3/envs/parton_loss/lib/python3.6/site-packages/GPy/kern/src/stationary.py:138: RuntimeWarning:invalid value encountered in add\n"
     ]
    },
    {
     "name": "stdout",
     "output_type": "stream",
     "text": [
      "Optimization restart 4/5, f = -1103.2112553388934\n",
      "Optimization restart 5/5, f = -1103.1046013333269\n",
      "Optimization restart 1/5, f = -288.7346422308631\n",
      "Optimization restart 2/5, f = -286.0428129051327\n",
      "Optimization restart 3/5, f = -348.4819266867685\n",
      "Optimization restart 4/5, f = -345.1943445677555\n",
      "Optimization restart 5/5, f = -345.20695101381347\n",
      "Optimization restart 1/5, f = -286.0163605252915\n",
      "Optimization restart 2/5, f = -286.02974186056247\n",
      "Optimization restart 3/5, f = -286.02491228533086\n",
      "Optimization restart 4/5, f = -244.8283309754342\n",
      "Optimization restart 5/5, f = -286.02858353852184\n",
      "(97, 1)\n",
      "r2 score for multifidelity linear 0.9787698665372715\n",
      "mse for multifidelity linear 8.91618673791536e-05\n",
      "(97, 1)\n",
      "r2 score for multifidelity nonlinear 0.6754401906150909\n",
      "mse for multifidelity nonlinear 0.0013630794517511902\n",
      "(97, 1)\n",
      "r2 score for standard GP 0.8741955973279555\n",
      "mse for standard GP 0.0005283506807176159\n",
      "Optimization restart 1/5, f = -1741.7065497149729\n",
      "Optimization restart 2/5, f = -1619.047379275036\n"
     ]
    },
    {
     "name": "stderr",
     "output_type": "stream",
     "text": [
      " /Users/dananjayaliyanage/miniconda3/envs/parton_loss/lib/python3.6/site-packages/GPy/kern/src/stationary.py:165: RuntimeWarning:overflow encountered in true_divide\n",
      " /Users/dananjayaliyanage/miniconda3/envs/parton_loss/lib/python3.6/site-packages/GPy/kern/src/stationary.py:166: RuntimeWarning:overflow encountered in true_divide\n",
      " /Users/dananjayaliyanage/miniconda3/envs/parton_loss/lib/python3.6/site-packages/GPy/kern/src/stationary.py:144: RuntimeWarning:overflow encountered in square\n",
      " /Users/dananjayaliyanage/miniconda3/envs/parton_loss/lib/python3.6/site-packages/GPy/kern/src/stationary.py:145: RuntimeWarning:overflow encountered in square\n",
      " /Users/dananjayaliyanage/miniconda3/envs/parton_loss/lib/python3.6/site-packages/GPy/kern/src/stationary.py:146: RuntimeWarning:invalid value encountered in add\n"
     ]
    },
    {
     "name": "stdout",
     "output_type": "stream",
     "text": [
      "Optimization restart 3/5, f = -1605.888352963099\n",
      "Optimization restart 4/5, f = -1553.9149484744382\n"
     ]
    },
    {
     "name": "stderr",
     "output_type": "stream",
     "text": [
      " /Users/dananjayaliyanage/miniconda3/envs/parton_loss/lib/python3.6/site-packages/GPy/kern/src/stationary.py:243: RuntimeWarning:invalid value encountered in true_divide\n"
     ]
    },
    {
     "name": "stdout",
     "output_type": "stream",
     "text": [
      "Optimization restart 5/5, f = -1364.998732719669\n",
      "Optimization restart 1/5, f = -1103.1222015762223\n",
      "Optimization restart 2/5, f = -1103.156899531185\n",
      "Optimization restart 3/5, f = -1103.1371201209004\n",
      "Optimization restart 4/5, f = -1103.5102784936853\n",
      "Optimization restart 5/5, f = -1102.9988490571495\n",
      "Optimization restart 1/5, f = -348.6878280513344\n",
      "Optimization restart 2/5, f = -348.4592647640529\n",
      "Optimization restart 3/5, f = -351.80651083603453\n",
      "Optimization restart 4/5, f = -352.20720374565025\n",
      "Optimization restart 5/5, f = -319.70756997616206\n",
      "Optimization restart 1/5, f = -351.65983754625915\n",
      "Optimization restart 2/5, f = -348.8049829519348\n",
      "Optimization restart 3/5, f = -253.24458370175316\n",
      "Optimization restart 4/5, f = -351.37527535679027\n",
      "Optimization restart 5/5, f = -348.6380660967599\n",
      "(97, 1)\n",
      "r2 score for multifidelity linear 0.9790995850153462\n",
      "mse for multifidelity linear 8.777712265928786e-05\n",
      "(97, 1)\n",
      "r2 score for multifidelity nonlinear 0.9004693168620445\n",
      "mse for multifidelity nonlinear 0.0004180068667812509\n",
      "(97, 1)\n",
      "r2 score for standard GP 0.9045623024513751\n",
      "mse for standard GP 0.00040081723210743357\n",
      "Optimization restart 1/5, f = -1840.0094767836467\n",
      "Optimization restart 2/5, f = -92.1836501107885\n"
     ]
    },
    {
     "name": "stderr",
     "output_type": "stream",
     "text": [
      " /Users/dananjayaliyanage/miniconda3/envs/parton_loss/lib/python3.6/site-packages/GPy/kern/src/stationary.py:165: RuntimeWarning:overflow encountered in true_divide\n",
      " /Users/dananjayaliyanage/miniconda3/envs/parton_loss/lib/python3.6/site-packages/GPy/kern/src/stationary.py:166: RuntimeWarning:overflow encountered in true_divide\n",
      " /Users/dananjayaliyanage/miniconda3/envs/parton_loss/lib/python3.6/site-packages/GPy/kern/src/stationary.py:144: RuntimeWarning:overflow encountered in square\n",
      " /Users/dananjayaliyanage/miniconda3/envs/parton_loss/lib/python3.6/site-packages/GPy/kern/src/stationary.py:145: RuntimeWarning:overflow encountered in square\n",
      " /Users/dananjayaliyanage/miniconda3/envs/parton_loss/lib/python3.6/site-packages/GPy/kern/src/stationary.py:146: RuntimeWarning:invalid value encountered in add\n"
     ]
    },
    {
     "name": "stdout",
     "output_type": "stream",
     "text": [
      "Optimization restart 3/5, f = -1603.457963512134\n",
      "Optimization restart 4/5, f = -1839.1138914064159\n"
     ]
    },
    {
     "name": "stderr",
     "output_type": "stream",
     "text": [
      " /Users/dananjayaliyanage/miniconda3/envs/parton_loss/lib/python3.6/site-packages/GPy/kern/src/stationary.py:243: RuntimeWarning:invalid value encountered in true_divide\n"
     ]
    },
    {
     "name": "stdout",
     "output_type": "stream",
     "text": [
      "Optimization restart 5/5, f = -1604.5336268774176\n",
      "Optimization restart 1/5, f = -1103.1222015762223\n",
      "Optimization restart 2/5, f = -1102.9717652170525\n",
      "Optimization restart 3/5, f = -1103.131715326837\n",
      "Optimization restart 4/5, f = -1103.1271171236156\n",
      "Optimization restart 5/5, f = -1103.225525268178\n",
      "Optimization restart 1/5, f = -390.00723096320144\n",
      "Optimization restart 2/5, f = -442.72459447879874\n",
      "Optimization restart 3/5, f = -481.1156200235562\n",
      "Optimization restart 4/5, f = -442.6600065278936\n"
     ]
    },
    {
     "name": "stderr",
     "output_type": "stream",
     "text": [
      " /Users/dananjayaliyanage/miniconda3/envs/parton_loss/lib/python3.6/site-packages/GPy/kern/src/stationary.py:137: RuntimeWarning:overflow encountered in square\n",
      " /Users/dananjayaliyanage/miniconda3/envs/parton_loss/lib/python3.6/site-packages/GPy/kern/src/stationary.py:138: RuntimeWarning:invalid value encountered in add\n"
     ]
    },
    {
     "name": "stdout",
     "output_type": "stream",
     "text": [
      "Optimization restart 5/5, f = -397.50872893175693\n",
      "Optimization restart 1/5, f = -389.88818190533317\n",
      "Optimization restart 2/5, f = -322.39612947028564\n",
      "Optimization restart 3/5, f = -390.06022613112896\n",
      "Optimization restart 4/5, f = -390.0989259149731\n",
      "Optimization restart 5/5, f = -390.0810795794281\n",
      "(97, 1)\n",
      "r2 score for multifidelity linear 0.9788791330218988\n",
      "mse for multifidelity linear 8.870297229832733e-05\n",
      "(97, 1)\n",
      "r2 score for multifidelity nonlinear 0.9083902922567982\n",
      "mse for multifidelity nonlinear 0.0003847405211456731\n",
      "(97, 1)\n",
      "r2 score for standard GP 0.8738222541101436\n",
      "mse for standard GP 0.000529918639700629\n",
      "Optimization restart 1/5, f = -1895.8234690148647\n",
      "Optimization restart 2/5, f = -1922.9548060074023\n",
      "Optimization restart 3/5, f = -1924.3429005036612\n",
      "Optimization restart 4/5, f = -1765.8831063848547\n",
      "Optimization restart 5/5, f = -1947.0592049046804\n",
      "Optimization restart 1/5, f = -1103.1222015762223\n",
      "Optimization restart 2/5, f = -1103.1814617169102\n",
      "Optimization restart 3/5, f = -1103.2647315245106\n",
      "Optimization restart 4/5, f = -1103.029710148007\n",
      "Optimization restart 5/5, f = -1103.4757709728317\n",
      "Optimization restart 1/5, f = -453.66772473001646\n",
      "Optimization restart 2/5, f = -521.8990859854225\n",
      "Optimization restart 3/5, f = -453.6307790088286\n",
      "Optimization restart 4/5, f = -498.98690257989597\n",
      "Optimization restart 5/5, f = -451.9717489023707\n",
      "Optimization restart 1/5, f = -453.66285940223736\n",
      "Optimization restart 2/5, f = -453.5962299926449\n",
      "Optimization restart 3/5, f = -452.26053464376906\n",
      "Optimization restart 4/5, f = -453.9460600126\n",
      "Optimization restart 5/5, f = -453.65767100900075\n",
      "(97, 1)\n",
      "r2 score for multifidelity linear 0.9790521971914261\n",
      "mse for multifidelity linear 8.797614104413069e-05\n",
      "(97, 1)\n",
      "r2 score for multifidelity nonlinear 0.9355987825875179\n",
      "mse for multifidelity nonlinear 0.0002704708765052561\n",
      "(97, 1)\n",
      "r2 score for standard GP 0.9603269028816848\n",
      "mse for standard GP 0.00016661823770413914\n",
      "Optimization restart 1/5, f = -2050.1535384130107\n"
     ]
    },
    {
     "name": "stderr",
     "output_type": "stream",
     "text": [
      " /Users/dananjayaliyanage/miniconda3/envs/parton_loss/lib/python3.6/site-packages/GPy/kern/src/stationary.py:243: RuntimeWarning:invalid value encountered in true_divide\n"
     ]
    },
    {
     "name": "stdout",
     "output_type": "stream",
     "text": [
      "Optimization restart 2/5, f = -1499.0590095504217\n",
      "Optimization restart 3/5, f = -1252.4952942072623\n"
     ]
    },
    {
     "name": "stderr",
     "output_type": "stream",
     "text": [
      " /Users/dananjayaliyanage/miniconda3/envs/parton_loss/lib/python3.6/site-packages/GPy/kern/src/stationary.py:144: RuntimeWarning:overflow encountered in square\n",
      " /Users/dananjayaliyanage/miniconda3/envs/parton_loss/lib/python3.6/site-packages/GPy/kern/src/stationary.py:145: RuntimeWarning:overflow encountered in square\n",
      " /Users/dananjayaliyanage/miniconda3/envs/parton_loss/lib/python3.6/site-packages/GPy/kern/src/stationary.py:146: RuntimeWarning:invalid value encountered in add\n",
      " /Users/dananjayaliyanage/miniconda3/envs/parton_loss/lib/python3.6/site-packages/GPy/kern/src/stationary.py:165: RuntimeWarning:overflow encountered in true_divide\n",
      " /Users/dananjayaliyanage/miniconda3/envs/parton_loss/lib/python3.6/site-packages/GPy/kern/src/stationary.py:166: RuntimeWarning:overflow encountered in true_divide\n"
     ]
    },
    {
     "name": "stdout",
     "output_type": "stream",
     "text": [
      "Optimization restart 4/5, f = -1852.4624965018575\n",
      "Optimization restart 5/5, f = -1832.260271656748\n",
      "Optimization restart 1/5, f = -1103.1222015762223\n",
      "Optimization restart 2/5, f = -1103.6109586246582\n",
      "Optimization restart 3/5, f = -1103.209575051147\n",
      "Optimization restart 4/5, f = -1103.4213813649644\n",
      "Optimization restart 5/5, f = -1103.070327654174\n",
      "Optimization restart 1/5, f = -512.4034518820993\n",
      "Optimization restart 2/5, f = -565.0030950248633\n",
      "Optimization restart 3/5, f = -605.455837351206\n",
      "Optimization restart 4/5, f = -512.4354111224679\n",
      "Optimization restart 5/5, f = -512.5239838086858\n",
      "Optimization restart 1/5, f = -512.3380834758491\n",
      "Optimization restart 2/5, f = -512.5213768864166\n",
      "Optimization restart 3/5, f = -512.3036304337088\n",
      "Optimization restart 4/5, f = -512.3506858028577\n",
      "Optimization restart 5/5, f = -512.2191985017301\n",
      "(97, 1)\n",
      "r2 score for multifidelity linear 0.978178604323596\n",
      "mse for multifidelity linear 9.164503797130177e-05\n",
      "(97, 1)\n",
      "r2 score for multifidelity nonlinear 0.9666638856726868\n",
      "mse for multifidelity nonlinear 0.00014000431084460052\n",
      "(97, 1)\n",
      "r2 score for standard GP 0.9510421870067066\n",
      "mse for standard GP 0.00020561199188619728\n",
      "Optimization restart 1/5, f = -2148.42570559602\n"
     ]
    },
    {
     "name": "stderr",
     "output_type": "stream",
     "text": [
      " /Users/dananjayaliyanage/miniconda3/envs/parton_loss/lib/python3.6/site-packages/GPy/kern/src/stationary.py:243: RuntimeWarning:invalid value encountered in true_divide\n"
     ]
    },
    {
     "name": "stdout",
     "output_type": "stream",
     "text": [
      "Optimization restart 2/5, f = -1884.5134742596333\n",
      "Optimization restart 3/5, f = -1921.934429121076\n",
      "Optimization restart 4/5, f = -1876.7871697879814\n",
      "Optimization restart 5/5, f = -1941.8246044976167\n",
      "Optimization restart 1/5, f = -1103.1222015762223\n",
      "Optimization restart 2/5, f = -1103.067286243138\n",
      "Optimization restart 3/5, f = -1103.624785920512\n",
      "Optimization restart 4/5, f = -1103.660999286412\n",
      "Optimization restart 5/5, f = -1103.084656641262\n",
      "Optimization restart 1/5, f = -561.5610615050705\n"
     ]
    },
    {
     "name": "stderr",
     "output_type": "stream",
     "text": [
      " /Users/dananjayaliyanage/miniconda3/envs/parton_loss/lib/python3.6/site-packages/GPy/kern/src/stationary.py:137: RuntimeWarning:overflow encountered in square\n",
      " /Users/dananjayaliyanage/miniconda3/envs/parton_loss/lib/python3.6/site-packages/GPy/kern/src/stationary.py:138: RuntimeWarning:invalid value encountered in add\n",
      " /Users/dananjayaliyanage/miniconda3/envs/parton_loss/lib/python3.6/site-packages/GPy/kern/src/stationary.py:166: RuntimeWarning:overflow encountered in true_divide\n",
      " /Users/dananjayaliyanage/miniconda3/envs/parton_loss/lib/python3.6/site-packages/GPy/kern/src/rbf.py:52: RuntimeWarning:overflow encountered in square\n"
     ]
    },
    {
     "name": "stdout",
     "output_type": "stream",
     "text": [
      "Optimization restart 2/5, f = -681.5810334876473\n",
      "Optimization restart 3/5, f = -561.4717384167433\n",
      "Optimization restart 4/5, f = -630.9057345362188\n",
      "Optimization restart 5/5, f = -630.4372425906997\n",
      "Optimization restart 1/5, f = -558.5928977707769\n",
      "Optimization restart 2/5, f = -561.6197886358169\n",
      "Optimization restart 3/5, f = -561.6767580544162\n",
      "Optimization restart 4/5, f = -561.641134986538\n",
      "Optimization restart 5/5, f = -561.6254494133373\n",
      "(97, 1)\n",
      "r2 score for multifidelity linear 0.9780355329777034\n",
      "mse for multifidelity linear 9.224590599649012e-05\n",
      "(97, 1)\n",
      "r2 score for multifidelity nonlinear 0.9712314669605737\n",
      "mse for multifidelity nonlinear 0.00012082147915166511\n",
      "(97, 1)\n",
      "r2 score for standard GP 0.9391210207813063\n",
      "mse for standard GP 0.0002556782547224638\n",
      "Optimization restart 1/5, f = -2150.387578823101\n"
     ]
    },
    {
     "name": "stderr",
     "output_type": "stream",
     "text": [
      " /Users/dananjayaliyanage/miniconda3/envs/parton_loss/lib/python3.6/site-packages/GPy/kern/src/stationary.py:243: RuntimeWarning:invalid value encountered in true_divide\n"
     ]
    },
    {
     "name": "stdout",
     "output_type": "stream",
     "text": [
      "Optimization restart 2/5, f = -1817.973702003529\n"
     ]
    },
    {
     "name": "stderr",
     "output_type": "stream",
     "text": [
      " /Users/dananjayaliyanage/miniconda3/envs/parton_loss/lib/python3.6/site-packages/GPy/kern/src/stationary.py:144: RuntimeWarning:overflow encountered in square\n",
      " /Users/dananjayaliyanage/miniconda3/envs/parton_loss/lib/python3.6/site-packages/GPy/kern/src/stationary.py:145: RuntimeWarning:overflow encountered in square\n",
      " /Users/dananjayaliyanage/miniconda3/envs/parton_loss/lib/python3.6/site-packages/GPy/kern/src/stationary.py:146: RuntimeWarning:invalid value encountered in add\n",
      " /Users/dananjayaliyanage/miniconda3/envs/parton_loss/lib/python3.6/site-packages/GPy/kern/src/stationary.py:165: RuntimeWarning:overflow encountered in true_divide\n",
      " /Users/dananjayaliyanage/miniconda3/envs/parton_loss/lib/python3.6/site-packages/GPy/kern/src/stationary.py:166: RuntimeWarning:overflow encountered in true_divide\n"
     ]
    },
    {
     "name": "stdout",
     "output_type": "stream",
     "text": [
      "Optimization restart 3/5, f = -2002.8210772644816\n",
      "Optimization restart 4/5, f = -2011.8725851172653\n",
      "Optimization restart 5/5, f = -2208.945083227898\n",
      "Optimization restart 1/5, f = -1103.1222015762223\n",
      "Optimization restart 2/5, f = -1103.3945221735958\n",
      "Optimization restart 3/5, f = -1103.338760382921\n",
      "Optimization restart 4/5, f = -1103.5834443750568\n",
      "Optimization restart 5/5, f = -1068.5318923685854\n",
      "Optimization restart 1/5, f = -617.8911272434121\n",
      "Optimization restart 2/5, f = -750.275887816136\n",
      "Optimization restart 3/5, f = -679.579125081981\n",
      "Optimization restart 4/5, f = -726.0302800259205\n",
      "Optimization restart 5/5, f = -617.7025875779312\n",
      "Optimization restart 1/5, f = -617.8168843670405\n",
      "Optimization restart 2/5, f = -618.0261557166174\n",
      "Optimization restart 3/5, f = -617.8380417989856\n",
      "Optimization restart 4/5, f = -617.8035805490514\n",
      "Optimization restart 5/5, f = -617.8959091415853\n",
      "(97, 1)\n",
      "r2 score for multifidelity linear 0.9777728074078892\n",
      "mse for multifidelity linear 9.334929531121188e-05\n",
      "(97, 1)\n",
      "r2 score for multifidelity nonlinear 0.9722140692074659\n",
      "mse for multifidelity nonlinear 0.00011669476693020553\n",
      "(97, 1)\n",
      "r2 score for standard GP 0.9600013820364555\n",
      "mse for standard GP 0.0001679853532939888\n",
      "Optimization restart 1/5, f = -2343.6052551023104\n",
      "Optimization restart 2/5, f = -2079.0133051759394\n",
      "Optimization restart 3/5, f = -365.421566341159\n"
     ]
    },
    {
     "name": "stderr",
     "output_type": "stream",
     "text": [
      " /Users/dananjayaliyanage/miniconda3/envs/parton_loss/lib/python3.6/site-packages/GPy/kern/src/stationary.py:144: RuntimeWarning:overflow encountered in square\n",
      " /Users/dananjayaliyanage/miniconda3/envs/parton_loss/lib/python3.6/site-packages/GPy/kern/src/stationary.py:145: RuntimeWarning:overflow encountered in square\n",
      " /Users/dananjayaliyanage/miniconda3/envs/parton_loss/lib/python3.6/site-packages/GPy/kern/src/stationary.py:146: RuntimeWarning:invalid value encountered in add\n",
      " /Users/dananjayaliyanage/miniconda3/envs/parton_loss/lib/python3.6/site-packages/GPy/kern/src/stationary.py:165: RuntimeWarning:overflow encountered in true_divide\n",
      " /Users/dananjayaliyanage/miniconda3/envs/parton_loss/lib/python3.6/site-packages/GPy/kern/src/stationary.py:166: RuntimeWarning:overflow encountered in true_divide\n"
     ]
    },
    {
     "name": "stdout",
     "output_type": "stream",
     "text": [
      "Optimization restart 4/5, f = -2077.650482997026\n",
      "Optimization restart 5/5, f = -2050.627728781619\n",
      "Optimization restart 1/5, f = -1103.1222015762223\n",
      "Optimization restart 2/5, f = -1103.4726411395718\n",
      "Optimization restart 3/5, f = -1103.1063851636436\n",
      "Optimization restart 4/5, f = -1103.2774881895482\n",
      "Optimization restart 5/5, f = -1103.1239612484326\n",
      "Optimization restart 1/5, f = -782.9634435344792\n"
     ]
    },
    {
     "name": "stderr",
     "output_type": "stream",
     "text": [
      " /Users/dananjayaliyanage/miniconda3/envs/parton_loss/lib/python3.6/site-packages/GPy/kern/src/stationary.py:243: RuntimeWarning:invalid value encountered in true_divide\n"
     ]
    },
    {
     "name": "stdout",
     "output_type": "stream",
     "text": [
      "Optimization restart 2/5, f = -667.0631661701303\n",
      "Optimization restart 3/5, f = -838.758363205709\n",
      "Optimization restart 4/5, f = -817.6743631491737\n",
      "Optimization restart 5/5, f = -734.0243158985649\n",
      "Optimization restart 1/5, f = -665.1110507184285\n",
      "Optimization restart 2/5, f = -666.2769747349123\n",
      "Optimization restart 3/5, f = -664.6773153213405\n",
      "Optimization restart 4/5, f = -664.8040832721192\n",
      "Optimization restart 5/5, f = -664.855270061608\n",
      "(97, 1)\n",
      "r2 score for multifidelity linear 0.978462754467945\n",
      "mse for multifidelity linear 9.045167017968249e-05\n",
      "(97, 1)\n",
      "r2 score for multifidelity nonlinear 0.9775675630744795\n",
      "mse for multifidelity nonlinear 9.421127613992081e-05\n",
      "(97, 1)\n",
      "r2 score for standard GP 0.9648546333177865\n",
      "mse for standard GP 0.00014760277077921388\n",
      "Optimization restart 1/5, f = -2441.1553067700743\n",
      "Optimization restart 2/5, f = -2166.6675729768253\n",
      "Optimization restart 3/5, f = -2182.735734141862\n"
     ]
    },
    {
     "name": "stderr",
     "output_type": "stream",
     "text": [
      " /Users/dananjayaliyanage/miniconda3/envs/parton_loss/lib/python3.6/site-packages/GPy/kern/src/stationary.py:243: RuntimeWarning:invalid value encountered in true_divide\n"
     ]
    },
    {
     "name": "stdout",
     "output_type": "stream",
     "text": [
      "Optimization restart 4/5, f = -2069.1412089137866\n",
      "Optimization restart 5/5, f = -2155.7315230718687\n",
      "Optimization restart 1/5, f = -1103.1222015762223\n",
      "Optimization restart 2/5, f = -1103.3960442690134\n",
      "Optimization restart 3/5, f = -1103.2300626307028\n",
      "Optimization restart 4/5, f = -1103.3591991775372\n",
      "Optimization restart 5/5, f = -1103.5806947061756\n",
      "Optimization restart 1/5, f = -726.9679843141298\n",
      "Optimization restart 2/5, f = -797.1284797269278\n",
      "Optimization restart 3/5, f = -727.1690091500619\n",
      "Optimization restart 4/5, f = -794.8251601115496\n",
      "Optimization restart 5/5, f = -788.2874127862074\n",
      "Optimization restart 1/5, f = -727.1413318259076\n",
      "Optimization restart 2/5, f = -727.0185691835779\n",
      "Optimization restart 3/5, f = -726.9774372610855\n",
      "Optimization restart 4/5, f = -641.7521544506639\n",
      "Optimization restart 5/5, f = -727.5030300790779\n",
      "(97, 1)\n",
      "r2 score for multifidelity linear 0.9793528852323176\n",
      "mse for multifidelity linear 8.671331774292391e-05\n",
      "(97, 1)\n",
      "r2 score for multifidelity nonlinear 0.9655610129398251\n",
      "mse for multifidelity nonlinear 0.00014463613251996247\n",
      "(97, 1)\n",
      "r2 score for standard GP 0.9657144534135943\n",
      "mse for standard GP 0.00014399171644990745\n",
      "Optimization restart 1/5, f = -2534.1796115280995\n"
     ]
    },
    {
     "name": "stderr",
     "output_type": "stream",
     "text": [
      " /Users/dananjayaliyanage/miniconda3/envs/parton_loss/lib/python3.6/site-packages/GPy/kern/src/stationary.py:165: RuntimeWarning:overflow encountered in true_divide\n",
      " /Users/dananjayaliyanage/miniconda3/envs/parton_loss/lib/python3.6/site-packages/GPy/kern/src/stationary.py:166: RuntimeWarning:overflow encountered in true_divide\n",
      " /Users/dananjayaliyanage/miniconda3/envs/parton_loss/lib/python3.6/site-packages/GPy/kern/src/stationary.py:144: RuntimeWarning:overflow encountered in square\n",
      " /Users/dananjayaliyanage/miniconda3/envs/parton_loss/lib/python3.6/site-packages/GPy/kern/src/stationary.py:145: RuntimeWarning:overflow encountered in square\n",
      " /Users/dananjayaliyanage/miniconda3/envs/parton_loss/lib/python3.6/site-packages/GPy/kern/src/stationary.py:146: RuntimeWarning:invalid value encountered in add\n"
     ]
    },
    {
     "name": "stdout",
     "output_type": "stream",
     "text": [
      "Optimization restart 2/5, f = -2249.8574692185784\n",
      "Optimization restart 3/5, f = -1974.9202123680657\n"
     ]
    },
    {
     "name": "stderr",
     "output_type": "stream",
     "text": [
      " /Users/dananjayaliyanage/miniconda3/envs/parton_loss/lib/python3.6/site-packages/GPy/kern/src/stationary.py:243: RuntimeWarning:invalid value encountered in true_divide\n"
     ]
    },
    {
     "name": "stdout",
     "output_type": "stream",
     "text": [
      "Optimization restart 4/5, f = -2131.8702076723494\n",
      "Optimization restart 5/5, f = -2084.2683711489644\n",
      "Optimization restart 1/5, f = -1103.1222015762223\n",
      "Optimization restart 2/5, f = -1103.2662332660557\n"
     ]
    },
    {
     "name": "stderr",
     "output_type": "stream",
     "text": [
      " /Users/dananjayaliyanage/miniconda3/envs/parton_loss/lib/python3.6/site-packages/GPy/kern/src/stationary.py:137: RuntimeWarning:overflow encountered in square\n",
      " /Users/dananjayaliyanage/miniconda3/envs/parton_loss/lib/python3.6/site-packages/GPy/kern/src/stationary.py:138: RuntimeWarning:invalid value encountered in add\n"
     ]
    },
    {
     "name": "stdout",
     "output_type": "stream",
     "text": [
      "Optimization restart 3/5, f = -1103.5503442573718\n",
      "Optimization restart 4/5, f = -1103.391102189927\n",
      "Optimization restart 5/5, f = -1103.5597954586756\n",
      "Optimization restart 1/5, f = -774.8481435772694\n",
      "Optimization restart 2/5, f = -933.6397349941521\n",
      "Optimization restart 3/5, f = -843.8464932611002\n",
      "Optimization restart 4/5, f = -789.0492648166141\n",
      "Optimization restart 5/5, f = -943.342161315421\n",
      "Optimization restart 1/5, f = -789.1591735225629\n",
      "Optimization restart 2/5, f = -789.2010026533544\n",
      "Optimization restart 3/5, f = -774.8608474951276\n",
      "Optimization restart 4/5, f = -789.1495257628285\n",
      "Optimization restart 5/5, f = -774.8441914947384\n",
      "(97, 1)\n",
      "r2 score for multifidelity linear 0.9777934200767354\n",
      "mse for multifidelity linear 9.326272665872449e-05\n",
      "(97, 1)\n",
      "r2 score for multifidelity nonlinear 0.9668032111437971\n",
      "mse for multifidelity nonlinear 0.00013941917466542942\n",
      "(97, 1)\n",
      "r2 score for standard GP 0.9680385263768642\n",
      "mse for standard GP 0.00013423112376713715\n",
      "Optimization restart 1/5, f = -2631.7841705558117\n",
      "Optimization restart 2/5, f = -2324.144147820417\n"
     ]
    },
    {
     "name": "stderr",
     "output_type": "stream",
     "text": [
      " /Users/dananjayaliyanage/miniconda3/envs/parton_loss/lib/python3.6/site-packages/GPy/kern/src/stationary.py:144: RuntimeWarning:overflow encountered in square\n",
      " /Users/dananjayaliyanage/miniconda3/envs/parton_loss/lib/python3.6/site-packages/GPy/kern/src/stationary.py:145: RuntimeWarning:overflow encountered in square\n",
      " /Users/dananjayaliyanage/miniconda3/envs/parton_loss/lib/python3.6/site-packages/GPy/kern/src/stationary.py:146: RuntimeWarning:invalid value encountered in add\n",
      " /Users/dananjayaliyanage/miniconda3/envs/parton_loss/lib/python3.6/site-packages/GPy/kern/src/stationary.py:165: RuntimeWarning:overflow encountered in true_divide\n",
      " /Users/dananjayaliyanage/miniconda3/envs/parton_loss/lib/python3.6/site-packages/GPy/kern/src/stationary.py:166: RuntimeWarning:overflow encountered in true_divide\n"
     ]
    },
    {
     "name": "stdout",
     "output_type": "stream",
     "text": [
      "Optimization restart 3/5, f = -2546.4033771404575\n",
      "Optimization restart 4/5, f = -2322.1162746005543\n",
      "Optimization restart 5/5, f = -2592.206911718595\n",
      "Optimization restart 1/5, f = -1103.1222015762223\n",
      "Optimization restart 2/5, f = -1103.220984849616\n",
      "Optimization restart 3/5, f = -1103.544917972435\n",
      "Optimization restart 4/5, f = -1103.2470834082371\n"
     ]
    },
    {
     "name": "stderr",
     "output_type": "stream",
     "text": [
      " /Users/dananjayaliyanage/miniconda3/envs/parton_loss/lib/python3.6/site-packages/GPy/kern/src/stationary.py:137: RuntimeWarning:overflow encountered in square\n",
      " /Users/dananjayaliyanage/miniconda3/envs/parton_loss/lib/python3.6/site-packages/GPy/kern/src/stationary.py:138: RuntimeWarning:invalid value encountered in add\n"
     ]
    },
    {
     "name": "stdout",
     "output_type": "stream",
     "text": [
      "Optimization restart 5/5, f = -1103.4452287530073\n",
      "Optimization restart 1/5, f = -827.1908523478493\n",
      "Optimization restart 2/5, f = -901.0398543565318\n",
      "Optimization restart 3/5, f = -968.5386510592323\n",
      "Optimization restart 4/5, f = -828.3561351018839\n",
      "Optimization restart 5/5, f = -963.4809009364701\n",
      "Optimization restart 1/5, f = -827.7980336342911\n",
      "Optimization restart 2/5, f = -827.1100196266724\n",
      "Optimization restart 3/5, f = -827.8684927213664\n",
      "Optimization restart 4/5, f = -827.221235250247\n",
      "Optimization restart 5/5, f = -826.8985860376705\n",
      "(97, 1)\n",
      "r2 score for multifidelity linear 0.9786812805999545\n",
      "mse for multifidelity linear 8.95339087329481e-05\n",
      "(97, 1)\n",
      "r2 score for multifidelity nonlinear 0.9685367427090247\n",
      "mse for multifidelity nonlinear 0.00013213872530849278\n",
      "(97, 1)\n",
      "r2 score for standard GP 0.9763680780481959\n",
      "mse for standard GP 9.924884809039985e-05\n",
      "Optimization restart 1/5, f = -2733.702938841157\n",
      "Optimization restart 2/5, f = -2388.3745256643138\n"
     ]
    },
    {
     "name": "stderr",
     "output_type": "stream",
     "text": [
      " /Users/dananjayaliyanage/miniconda3/envs/parton_loss/lib/python3.6/site-packages/GPy/kern/src/stationary.py:144: RuntimeWarning:overflow encountered in square\n",
      " /Users/dananjayaliyanage/miniconda3/envs/parton_loss/lib/python3.6/site-packages/GPy/kern/src/stationary.py:145: RuntimeWarning:overflow encountered in square\n",
      " /Users/dananjayaliyanage/miniconda3/envs/parton_loss/lib/python3.6/site-packages/GPy/kern/src/stationary.py:146: RuntimeWarning:invalid value encountered in add\n",
      " /Users/dananjayaliyanage/miniconda3/envs/parton_loss/lib/python3.6/site-packages/GPy/kern/src/rbf.py:76: RuntimeWarning:invalid value encountered in multiply\n",
      " /Users/dananjayaliyanage/miniconda3/envs/parton_loss/lib/python3.6/site-packages/GPy/kern/src/stationary.py:165: RuntimeWarning:overflow encountered in true_divide\n",
      " /Users/dananjayaliyanage/miniconda3/envs/parton_loss/lib/python3.6/site-packages/GPy/kern/src/stationary.py:166: RuntimeWarning:overflow encountered in true_divide\n"
     ]
    },
    {
     "name": "stdout",
     "output_type": "stream",
     "text": [
      "Optimization restart 3/5, f = -2380.235138369549\n",
      "Optimization restart 4/5, f = -2285.7835156749707\n",
      "Optimization restart 5/5, f = -2079.676531761349\n",
      "Optimization restart 1/5, f = -1103.1222015762223\n",
      "Optimization restart 2/5, f = -1103.5606844313118\n",
      "Optimization restart 3/5, f = -1103.3541792055078\n",
      "Optimization restart 4/5, f = -1103.635015113656\n",
      "Optimization restart 5/5, f = -1103.6344747221917\n",
      "Optimization restart 1/5, f = -886.9254767782263\n",
      "Optimization restart 2/5, f = -887.1588945206494\n"
     ]
    },
    {
     "name": "stderr",
     "output_type": "stream",
     "text": [
      " /Users/dananjayaliyanage/miniconda3/envs/parton_loss/lib/python3.6/site-packages/GPy/kern/src/stationary.py:137: RuntimeWarning:overflow encountered in square\n",
      " /Users/dananjayaliyanage/miniconda3/envs/parton_loss/lib/python3.6/site-packages/GPy/kern/src/stationary.py:138: RuntimeWarning:invalid value encountered in add\n"
     ]
    },
    {
     "name": "stdout",
     "output_type": "stream",
     "text": [
      "Optimization restart 3/5, f = -894.3765340387733\n",
      "Optimization restart 4/5, f = -1072.3204106074006\n",
      "Optimization restart 5/5, f = -887.0677991565192\n",
      "Optimization restart 1/5, f = -899.4740671478982\n",
      "Optimization restart 2/5, f = -887.3930376590494\n",
      "Optimization restart 3/5, f = -887.5632169289568\n",
      "Optimization restart 4/5, f = -887.0871763595237\n",
      "Optimization restart 5/5, f = -887.1180369355452\n",
      "(97, 1)\n",
      "r2 score for multifidelity linear 0.9774259181954889\n",
      "mse for multifidelity linear 9.480615331945765e-05\n",
      "(97, 1)\n",
      "r2 score for multifidelity nonlinear 0.9673180851797986\n",
      "mse for multifidelity nonlinear 0.00013725681753302946\n",
      "(97, 1)\n",
      "r2 score for standard GP 0.9772970167737121\n",
      "mse for standard GP 9.534751079578344e-05\n",
      "Optimization restart 1/5, f = -2836.723063852697\n",
      "Optimization restart 2/5, f = -2413.3215855970025\n"
     ]
    },
    {
     "name": "stderr",
     "output_type": "stream",
     "text": [
      " /Users/dananjayaliyanage/miniconda3/envs/parton_loss/lib/python3.6/site-packages/GPy/kern/src/stationary.py:144: RuntimeWarning:overflow encountered in square\n",
      " /Users/dananjayaliyanage/miniconda3/envs/parton_loss/lib/python3.6/site-packages/GPy/kern/src/stationary.py:145: RuntimeWarning:overflow encountered in square\n",
      " /Users/dananjayaliyanage/miniconda3/envs/parton_loss/lib/python3.6/site-packages/GPy/kern/src/stationary.py:146: RuntimeWarning:invalid value encountered in add\n",
      " /Users/dananjayaliyanage/miniconda3/envs/parton_loss/lib/python3.6/site-packages/GPy/kern/src/stationary.py:165: RuntimeWarning:overflow encountered in true_divide\n",
      " /Users/dananjayaliyanage/miniconda3/envs/parton_loss/lib/python3.6/site-packages/GPy/kern/src/stationary.py:166: RuntimeWarning:overflow encountered in true_divide\n"
     ]
    },
    {
     "name": "stdout",
     "output_type": "stream",
     "text": [
      "Optimization restart 3/5, f = -2456.2505578588607\n"
     ]
    },
    {
     "name": "stderr",
     "output_type": "stream",
     "text": [
      " /Users/dananjayaliyanage/miniconda3/envs/parton_loss/lib/python3.6/site-packages/GPy/kern/src/stationary.py:243: RuntimeWarning:invalid value encountered in true_divide\n"
     ]
    },
    {
     "name": "stdout",
     "output_type": "stream",
     "text": [
      "Optimization restart 4/5, f = -2303.6158639096834\n",
      "Optimization restart 5/5, f = -2347.4060582281013\n",
      "Optimization restart 1/5, f = -1103.1222015762223\n",
      "Optimization restart 2/5, f = -1103.1519783164547\n",
      "Optimization restart 3/5, f = -1103.5601847760167\n",
      "Optimization restart 4/5, f = -1103.3989319480934\n",
      "Optimization restart 5/5, f = -1103.5122937584724\n",
      "Optimization restart 1/5, f = -941.390401352528\n",
      "Optimization restart 2/5, f = -1019.9090760964477\n",
      "Optimization restart 3/5, f = -1068.852288139705\n",
      "Optimization restart 4/5, f = -1076.59612900403\n",
      "Optimization restart 5/5, f = -1019.9131217757433\n"
     ]
    },
    {
     "name": "stderr",
     "output_type": "stream",
     "text": [
      " /Users/dananjayaliyanage/miniconda3/envs/parton_loss/lib/python3.6/site-packages/GPy/kern/src/stationary.py:137: RuntimeWarning:overflow encountered in square\n",
      " /Users/dananjayaliyanage/miniconda3/envs/parton_loss/lib/python3.6/site-packages/GPy/kern/src/stationary.py:138: RuntimeWarning:invalid value encountered in add\n",
      " /Users/dananjayaliyanage/miniconda3/envs/parton_loss/lib/python3.6/site-packages/GPy/kern/src/rbf.py:76: RuntimeWarning:invalid value encountered in multiply\n"
     ]
    },
    {
     "name": "stdout",
     "output_type": "stream",
     "text": [
      "Optimization restart 1/5, f = -941.4568161088113\n",
      "Optimization restart 2/5, f = -942.1632828010822\n",
      "Optimization restart 3/5, f = -959.1109397162937\n",
      "Optimization restart 4/5, f = -957.7119853517648\n",
      "Optimization restart 5/5, f = -941.5108876206235\n",
      "(97, 1)\n",
      "r2 score for multifidelity linear 0.9767147917012468\n",
      "mse for multifidelity linear 9.77927273926131e-05\n",
      "(97, 1)\n",
      "r2 score for multifidelity nonlinear 0.9736523401370147\n",
      "mse for multifidelity nonlinear 0.00011065434697237263\n",
      "(97, 1)\n",
      "r2 score for standard GP 0.9764594815431131\n",
      "mse for standard GP 9.886497361753766e-05\n",
      "Optimization restart 1/5, f = -2939.604956468457\n",
      "Optimization restart 2/5, f = -2394.588369450525\n",
      "Optimization restart 3/5, f = -2935.8719632394614\n"
     ]
    },
    {
     "name": "stderr",
     "output_type": "stream",
     "text": [
      " /Users/dananjayaliyanage/miniconda3/envs/parton_loss/lib/python3.6/site-packages/GPy/kern/src/stationary.py:144: RuntimeWarning:overflow encountered in square\n",
      " /Users/dananjayaliyanage/miniconda3/envs/parton_loss/lib/python3.6/site-packages/GPy/kern/src/stationary.py:145: RuntimeWarning:overflow encountered in square\n",
      " /Users/dananjayaliyanage/miniconda3/envs/parton_loss/lib/python3.6/site-packages/GPy/kern/src/stationary.py:146: RuntimeWarning:invalid value encountered in add\n",
      " /Users/dananjayaliyanage/miniconda3/envs/parton_loss/lib/python3.6/site-packages/GPy/kern/src/stationary.py:165: RuntimeWarning:overflow encountered in true_divide\n",
      " /Users/dananjayaliyanage/miniconda3/envs/parton_loss/lib/python3.6/site-packages/GPy/kern/src/stationary.py:166: RuntimeWarning:overflow encountered in true_divide\n"
     ]
    },
    {
     "name": "stdout",
     "output_type": "stream",
     "text": [
      "Optimization restart 4/5, f = -2380.7556695046364\n"
     ]
    },
    {
     "name": "stderr",
     "output_type": "stream",
     "text": [
      " /Users/dananjayaliyanage/miniconda3/envs/parton_loss/lib/python3.6/site-packages/GPy/kern/src/stationary.py:243: RuntimeWarning:invalid value encountered in true_divide\n"
     ]
    },
    {
     "name": "stdout",
     "output_type": "stream",
     "text": [
      "Optimization restart 5/5, f = -2412.555057216381\n",
      "Optimization restart 1/5, f = -1103.1222015762223\n",
      "Optimization restart 2/5, f = -1103.3399194048823\n",
      "Optimization restart 3/5, f = -1103.2457478294243\n",
      "Optimization restart 4/5, f = -1103.2880704561005\n",
      "Optimization restart 5/5, f = -1103.0149825738322\n",
      "Optimization restart 1/5, f = -996.2376309068688\n"
     ]
    },
    {
     "name": "stderr",
     "output_type": "stream",
     "text": [
      " /Users/dananjayaliyanage/miniconda3/envs/parton_loss/lib/python3.6/site-packages/GPy/kern/src/stationary.py:137: RuntimeWarning:overflow encountered in square\n",
      " /Users/dananjayaliyanage/miniconda3/envs/parton_loss/lib/python3.6/site-packages/GPy/kern/src/stationary.py:138: RuntimeWarning:invalid value encountered in add\n"
     ]
    },
    {
     "name": "stdout",
     "output_type": "stream",
     "text": [
      "Optimization restart 2/5, f = -1200.8487522624569\n",
      "Optimization restart 3/5, f = -1232.2286098348186\n",
      "Optimization restart 4/5, f = -1069.2484877359254\n",
      "Optimization restart 5/5, f = -1069.2294864775251\n",
      "Optimization restart 1/5, f = -1010.6611881336306\n",
      "Optimization restart 2/5, f = -996.1107462521063\n",
      "Optimization restart 3/5, f = -996.5233521077002\n",
      "Optimization restart 4/5, f = -996.1634546476429\n",
      "Optimization restart 5/5, f = -996.1551251069\n",
      "(97, 1)\n",
      "r2 score for multifidelity linear 0.9782064372806529\n",
      "mse for multifidelity linear 9.152814570445719e-05\n",
      "(97, 1)\n",
      "r2 score for multifidelity nonlinear 0.9684456808325206\n",
      "mse for multifidelity nonlinear 0.00013252116505953863\n",
      "(97, 1)\n",
      "r2 score for standard GP 0.9825240846330958\n",
      "mse for standard GP 7.339498128962571e-05\n",
      "Optimization restart 1/5, f = -3034.4750857443514\n"
     ]
    },
    {
     "name": "stderr",
     "output_type": "stream",
     "text": [
      " /Users/dananjayaliyanage/miniconda3/envs/parton_loss/lib/python3.6/site-packages/GPy/kern/src/stationary.py:165: RuntimeWarning:overflow encountered in true_divide\n",
      " /Users/dananjayaliyanage/miniconda3/envs/parton_loss/lib/python3.6/site-packages/GPy/kern/src/stationary.py:166: RuntimeWarning:overflow encountered in true_divide\n",
      " /Users/dananjayaliyanage/miniconda3/envs/parton_loss/lib/python3.6/site-packages/GPy/kern/src/stationary.py:144: RuntimeWarning:overflow encountered in square\n",
      " /Users/dananjayaliyanage/miniconda3/envs/parton_loss/lib/python3.6/site-packages/GPy/kern/src/stationary.py:145: RuntimeWarning:overflow encountered in square\n",
      " /Users/dananjayaliyanage/miniconda3/envs/parton_loss/lib/python3.6/site-packages/GPy/kern/src/stationary.py:146: RuntimeWarning:invalid value encountered in add\n"
     ]
    },
    {
     "name": "stdout",
     "output_type": "stream",
     "text": [
      "Optimization restart 2/5, f = -2538.8745965958315\n",
      "Optimization restart 3/5, f = -3017.5759695688403\n",
      "Optimization restart 4/5, f = -2989.383394161224\n",
      "Optimization restart 5/5, f = -2453.6268774808022\n",
      "Optimization restart 1/5, f = -1103.1222015762223\n",
      "Optimization restart 2/5, f = -1103.2134105832747\n",
      "Optimization restart 3/5, f = -1103.0633929895837\n",
      "Optimization restart 4/5, f = -1103.278659956825\n",
      "Optimization restart 5/5, f = -1103.521979427618\n",
      "Optimization restart 1/5, f = -1052.4779048224714\n",
      "Optimization restart 2/5, f = -1191.4255684002458\n",
      "Optimization restart 3/5, f = -1132.482414257685\n",
      "Optimization restart 4/5, f = -1208.3383874010033\n"
     ]
    },
    {
     "name": "stderr",
     "output_type": "stream",
     "text": [
      " /Users/dananjayaliyanage/miniconda3/envs/parton_loss/lib/python3.6/site-packages/GPy/kern/src/stationary.py:137: RuntimeWarning:overflow encountered in square\n",
      " /Users/dananjayaliyanage/miniconda3/envs/parton_loss/lib/python3.6/site-packages/GPy/kern/src/stationary.py:138: RuntimeWarning:invalid value encountered in add\n",
      " /Users/dananjayaliyanage/miniconda3/envs/parton_loss/lib/python3.6/site-packages/GPy/kern/src/rbf.py:52: RuntimeWarning:overflow encountered in square\n"
     ]
    },
    {
     "name": "stdout",
     "output_type": "stream",
     "text": [
      "Optimization restart 5/5, f = -1269.4236550191392\n",
      "Optimization restart 1/5, f = -1052.4861002039381\n",
      "Optimization restart 2/5, f = -869.0621880645763\n",
      "Optimization restart 3/5, f = -1052.434112996983\n",
      "Optimization restart 4/5, f = -1052.422145346022\n",
      "Optimization restart 5/5, f = -1052.415940946331\n",
      "(97, 1)\n",
      "r2 score for multifidelity linear 0.9777507985132777\n",
      "mse for multifidelity linear 9.344172780326172e-05\n",
      "(97, 1)\n",
      "r2 score for multifidelity nonlinear 0.9716245593647362\n",
      "mse for multifidelity nonlinear 0.00011917057795176357\n",
      "(97, 1)\n",
      "r2 score for standard GP 0.981112228662819\n",
      "mse for standard GP 7.932446425784583e-05\n",
      "Optimization restart 1/5, f = -3135.04322629143\n",
      "Optimization restart 2/5, f = -3160.7504166466515\n"
     ]
    },
    {
     "name": "stderr",
     "output_type": "stream",
     "text": [
      " /Users/dananjayaliyanage/miniconda3/envs/parton_loss/lib/python3.6/site-packages/GPy/kern/src/stationary.py:165: RuntimeWarning:overflow encountered in true_divide\n",
      " /Users/dananjayaliyanage/miniconda3/envs/parton_loss/lib/python3.6/site-packages/GPy/kern/src/stationary.py:166: RuntimeWarning:overflow encountered in true_divide\n",
      " /Users/dananjayaliyanage/miniconda3/envs/parton_loss/lib/python3.6/site-packages/GPy/kern/src/stationary.py:144: RuntimeWarning:overflow encountered in square\n",
      " /Users/dananjayaliyanage/miniconda3/envs/parton_loss/lib/python3.6/site-packages/GPy/kern/src/stationary.py:145: RuntimeWarning:overflow encountered in square\n",
      " /Users/dananjayaliyanage/miniconda3/envs/parton_loss/lib/python3.6/site-packages/GPy/kern/src/stationary.py:146: RuntimeWarning:invalid value encountered in add\n"
     ]
    },
    {
     "name": "stdout",
     "output_type": "stream",
     "text": [
      "Optimization restart 3/5, f = -2741.8494239853867\n",
      "Optimization restart 4/5, f = -2704.8147003669674\n",
      "Optimization restart 5/5, f = -2532.474423111322\n",
      "Optimization restart 1/5, f = -1103.1222015762223\n",
      "Optimization restart 2/5, f = -1103.2964864638257\n",
      "Optimization restart 3/5, f = -1103.102361090586\n",
      "Optimization restart 4/5, f = -1103.4570611578217\n",
      "Optimization restart 5/5, f = -1103.5425960375358\n",
      "Optimization restart 1/5, f = -1127.0221979193557\n",
      "Optimization restart 2/5, f = -1209.572710090401\n"
     ]
    },
    {
     "name": "stderr",
     "output_type": "stream",
     "text": [
      " /Users/dananjayaliyanage/miniconda3/envs/parton_loss/lib/python3.6/site-packages/GPy/kern/src/stationary.py:243: RuntimeWarning:invalid value encountered in true_divide\n",
      " /Users/dananjayaliyanage/miniconda3/envs/parton_loss/lib/python3.6/site-packages/GPy/kern/src/stationary.py:137: RuntimeWarning:overflow encountered in square\n",
      " /Users/dananjayaliyanage/miniconda3/envs/parton_loss/lib/python3.6/site-packages/GPy/kern/src/stationary.py:138: RuntimeWarning:invalid value encountered in add\n",
      " /Users/dananjayaliyanage/miniconda3/envs/parton_loss/lib/python3.6/site-packages/GPy/kern/src/rbf.py:76: RuntimeWarning:invalid value encountered in multiply\n",
      " /Users/dananjayaliyanage/miniconda3/envs/parton_loss/lib/python3.6/site-packages/GPy/kern/src/rbf.py:52: RuntimeWarning:overflow encountered in square\n"
     ]
    },
    {
     "name": "stdout",
     "output_type": "stream",
     "text": [
      "Optimization restart 3/5, f = -1357.6820577220587\n",
      "Optimization restart 4/5, f = -1148.8575855681\n",
      "Optimization restart 5/5, f = -1209.353355646291\n",
      "Optimization restart 1/5, f = -1126.9948200975268\n",
      "Optimization restart 2/5, f = -1127.0090335875675\n",
      "Optimization restart 3/5, f = -1126.9852451897004\n",
      "Optimization restart 4/5, f = -1148.7679897457501\n",
      "Optimization restart 5/5, f = -1127.009024974201\n",
      "(97, 1)\n",
      "r2 score for multifidelity linear 0.9784602021068127\n",
      "mse for multifidelity linear 9.046238953220891e-05\n",
      "(97, 1)\n",
      "r2 score for multifidelity nonlinear 0.9698359805221057\n",
      "mse for multifidelity nonlinear 0.00012668221370496044\n",
      "(97, 1)\n",
      "r2 score for standard GP 0.9839134578254554\n",
      "mse for standard GP 6.755992101858262e-05\n",
      "Optimization restart 1/5, f = -1211.2103703999057\n",
      "Optimization restart 2/5, f = -1214.1554688693748\n",
      "Optimization restart 3/5, f = -1241.5408612808792\n",
      "Optimization restart 4/5, f = -1216.022159105708\n"
     ]
    },
    {
     "name": "stderr",
     "output_type": "stream",
     "text": [
      " /Users/dananjayaliyanage/miniconda3/envs/parton_loss/lib/python3.6/site-packages/GPy/kern/src/stationary.py:144: RuntimeWarning:overflow encountered in square\n",
      " /Users/dananjayaliyanage/miniconda3/envs/parton_loss/lib/python3.6/site-packages/GPy/kern/src/stationary.py:145: RuntimeWarning:overflow encountered in square\n",
      " /Users/dananjayaliyanage/miniconda3/envs/parton_loss/lib/python3.6/site-packages/GPy/kern/src/stationary.py:146: RuntimeWarning:invalid value encountered in add\n",
      " /Users/dananjayaliyanage/miniconda3/envs/parton_loss/lib/python3.6/site-packages/GPy/kern/src/stationary.py:165: RuntimeWarning:overflow encountered in true_divide\n",
      " /Users/dananjayaliyanage/miniconda3/envs/parton_loss/lib/python3.6/site-packages/GPy/kern/src/stationary.py:166: RuntimeWarning:overflow encountered in true_divide\n",
      " /Users/dananjayaliyanage/miniconda3/envs/parton_loss/lib/python3.6/site-packages/GPy/kern/src/rbf.py:76: RuntimeWarning:invalid value encountered in multiply\n"
     ]
    },
    {
     "name": "stdout",
     "output_type": "stream",
     "text": [
      "Optimization restart 5/5, f = -1148.7531334532275\n",
      "Optimization restart 1/5, f = -1124.2898443377699\n",
      "Optimization restart 2/5, f = -1124.1538787837\n",
      "Optimization restart 3/5, f = -1124.3989933031628\n",
      "Optimization restart 4/5, f = -1124.0669591675646\n",
      "Optimization restart 5/5, f = -1124.004845246881\n",
      "Optimization restart 1/5, f = -57.00703263429554\n",
      "Optimization restart 2/5, f = -73.66142930241563\n",
      "Optimization restart 3/5, f = -72.87565054087169\n",
      "Optimization restart 4/5, f = -51.76312110817631\n",
      "Optimization restart 5/5, f = -53.009290179838295\n"
     ]
    },
    {
     "name": "stderr",
     "output_type": "stream",
     "text": [
      " /Users/dananjayaliyanage/miniconda3/envs/parton_loss/lib/python3.6/site-packages/GPy/kern/src/stationary.py:137: RuntimeWarning:overflow encountered in square\n",
      " /Users/dananjayaliyanage/miniconda3/envs/parton_loss/lib/python3.6/site-packages/GPy/kern/src/stationary.py:138: RuntimeWarning:invalid value encountered in add\n"
     ]
    },
    {
     "name": "stdout",
     "output_type": "stream",
     "text": [
      "Optimization restart 1/5, f = -54.76093919111741\n",
      "Optimization restart 2/5, f = -59.15318394967986\n",
      "Optimization restart 3/5, f = -55.31756133385949\n",
      "Optimization restart 4/5, f = -54.79909921243098\n",
      "Optimization restart 5/5, f = -56.385875920886676\n",
      "(97, 1)\n",
      "r2 score for multifidelity linear 0.9545321673415827\n",
      "mse for multifidelity linear 0.00017465384070216049\n",
      "(97, 1)\n",
      "r2 score for multifidelity nonlinear -0.010514890226586582\n",
      "mse for multifidelity nonlinear 0.0038816520679729937\n",
      "(97, 1)\n",
      "r2 score for standard GP -1.209527077069846\n",
      "mse for standard GP 0.008487371567604875\n",
      "Optimization restart 1/5, f = -1294.1718967739926\n"
     ]
    },
    {
     "name": "stderr",
     "output_type": "stream",
     "text": [
      " /Users/dananjayaliyanage/miniconda3/envs/parton_loss/lib/python3.6/site-packages/GPy/kern/src/stationary.py:144: RuntimeWarning:overflow encountered in square\n",
      " /Users/dananjayaliyanage/miniconda3/envs/parton_loss/lib/python3.6/site-packages/GPy/kern/src/stationary.py:145: RuntimeWarning:overflow encountered in square\n",
      " /Users/dananjayaliyanage/miniconda3/envs/parton_loss/lib/python3.6/site-packages/GPy/kern/src/stationary.py:146: RuntimeWarning:invalid value encountered in add\n",
      " /Users/dananjayaliyanage/miniconda3/envs/parton_loss/lib/python3.6/site-packages/GPy/kern/src/stationary.py:165: RuntimeWarning:overflow encountered in true_divide\n",
      " /Users/dananjayaliyanage/miniconda3/envs/parton_loss/lib/python3.6/site-packages/GPy/kern/src/stationary.py:166: RuntimeWarning:overflow encountered in true_divide\n"
     ]
    },
    {
     "name": "stdout",
     "output_type": "stream",
     "text": [
      "Optimization restart 2/5, f = -1339.925359179461\n",
      "Optimization restart 3/5, f = -1256.487128731415\n",
      "Optimization restart 4/5, f = -1291.0858578432328\n"
     ]
    },
    {
     "name": "stderr",
     "output_type": "stream",
     "text": [
      " /Users/dananjayaliyanage/miniconda3/envs/parton_loss/lib/python3.6/site-packages/GPy/kern/src/stationary.py:243: RuntimeWarning:invalid value encountered in true_divide\n"
     ]
    },
    {
     "name": "stdout",
     "output_type": "stream",
     "text": [
      "Optimization restart 5/5, f = -1249.0870883479238\n",
      "Optimization restart 1/5, f = -1124.2898443377699\n"
     ]
    },
    {
     "name": "stderr",
     "output_type": "stream",
     "text": [
      " /Users/dananjayaliyanage/miniconda3/envs/parton_loss/lib/python3.6/site-packages/GPy/kern/src/stationary.py:137: RuntimeWarning:overflow encountered in square\n",
      " /Users/dananjayaliyanage/miniconda3/envs/parton_loss/lib/python3.6/site-packages/GPy/kern/src/stationary.py:138: RuntimeWarning:invalid value encountered in add\n"
     ]
    },
    {
     "name": "stdout",
     "output_type": "stream",
     "text": [
      "Optimization restart 2/5, f = -1123.3274008414403\n",
      "Optimization restart 3/5, f = -1124.2192198848688\n",
      "Optimization restart 4/5, f = -1124.331691464746\n",
      "Optimization restart 5/5, f = -1124.1119858027505\n",
      "Optimization restart 1/5, f = -113.04761242981621\n",
      "Optimization restart 2/5, f = -113.24454334397335\n",
      "Optimization restart 3/5, f = -148.6698055688006\n",
      "Optimization restart 4/5, f = -131.86636466189037\n",
      "Optimization restart 5/5, f = -113.63252492985625\n",
      "Optimization restart 1/5, f = -113.6345589895305\n",
      "Optimization restart 2/5, f = -113.58620908270471\n",
      "Optimization restart 3/5, f = -113.66638043272047\n",
      "Optimization restart 4/5, f = -113.03589701669259\n",
      "Optimization restart 5/5, f = -113.33422792253381\n",
      "(97, 1)\n",
      "r2 score for multifidelity linear 0.9582683921545448\n",
      "mse for multifidelity linear 0.00016030202371073102\n",
      "(97, 1)\n",
      "r2 score for multifidelity nonlinear 0.874949713267929\n",
      "mse for multifidelity nonlinear 0.00048035086745264877\n",
      "(97, 1)\n",
      "r2 score for standard GP 0.5468246353621606\n",
      "mse for standard GP 0.00174076513697532\n",
      "Optimization restart 1/5, f = -1428.2542648402632\n",
      "Optimization restart 2/5, f = -1376.92160286223\n",
      "Optimization restart 3/5, f = -1383.8384398686246\n",
      "Optimization restart 4/5, f = -1222.6428347289598\n",
      "Optimization restart 5/5, f = -1354.9763876008433\n",
      "Optimization restart 1/5, f = -1124.2898443377699\n",
      "Optimization restart 2/5, f = -1123.9837623486922\n",
      "Optimization restart 3/5, f = -1123.0630497160137\n",
      "Optimization restart 4/5, f = -1124.1479915511118\n"
     ]
    },
    {
     "name": "stderr",
     "output_type": "stream",
     "text": [
      " /Users/dananjayaliyanage/miniconda3/envs/parton_loss/lib/python3.6/site-packages/GPy/kern/src/stationary.py:166: RuntimeWarning:overflow encountered in true_divide\n",
      " /Users/dananjayaliyanage/miniconda3/envs/parton_loss/lib/python3.6/site-packages/GPy/kern/src/stationary.py:137: RuntimeWarning:overflow encountered in square\n",
      " /Users/dananjayaliyanage/miniconda3/envs/parton_loss/lib/python3.6/site-packages/GPy/kern/src/stationary.py:138: RuntimeWarning:invalid value encountered in add\n",
      " /Users/dananjayaliyanage/miniconda3/envs/parton_loss/lib/python3.6/site-packages/GPy/kern/src/rbf.py:76: RuntimeWarning:invalid value encountered in multiply\n"
     ]
    },
    {
     "name": "stdout",
     "output_type": "stream",
     "text": [
      "Optimization restart 5/5, f = -1123.9140181678713\n",
      "Optimization restart 1/5, f = -164.71232580226155\n",
      "Optimization restart 2/5, f = -164.6784224305715\n",
      "Optimization restart 3/5, f = -212.29842635472306\n",
      "Optimization restart 4/5, f = -167.9629791083649\n",
      "Optimization restart 5/5, f = -213.38900481845855\n",
      "Optimization restart 1/5, f = -166.6885968211506\n",
      "Optimization restart 2/5, f = -167.5235823596937\n",
      "Optimization restart 3/5, f = -164.69185127702616\n",
      "Optimization restart 4/5, f = -164.70439165179465\n",
      "Optimization restart 5/5, f = -164.6929446106514\n",
      "(97, 1)\n",
      "r2 score for multifidelity linear 0.9615960587106711\n",
      "mse for multifidelity linear 0.00014751958587231817\n",
      "(97, 1)\n",
      "r2 score for multifidelity nonlinear 0.8620041042616562\n",
      "mse for multifidelity nonlinear 0.000530078338523462\n",
      "(97, 1)\n",
      "r2 score for standard GP 0.7289058318920898\n",
      "mse for standard GP 0.0010413436243532576\n",
      "Optimization restart 1/5, f = -1532.9167785700647\n",
      "Optimization restart 2/5, f = -1456.7306738911025\n",
      "Optimization restart 3/5, f = -1537.971095109322\n",
      "Optimization restart 4/5, f = 109.36794388177373\n",
      "Optimization restart 5/5, f = -1534.726971985926\n",
      "Optimization restart 1/5, f = -1124.2898443377699\n",
      "Optimization restart 2/5, f = -1123.9591404534087\n",
      "Optimization restart 3/5, f = -1124.118796794708\n"
     ]
    },
    {
     "name": "stderr",
     "output_type": "stream",
     "text": [
      " /Users/dananjayaliyanage/miniconda3/envs/parton_loss/lib/python3.6/site-packages/GPy/kern/src/stationary.py:166: RuntimeWarning:overflow encountered in true_divide\n",
      " /Users/dananjayaliyanage/miniconda3/envs/parton_loss/lib/python3.6/site-packages/GPy/kern/src/stationary.py:137: RuntimeWarning:overflow encountered in square\n",
      " /Users/dananjayaliyanage/miniconda3/envs/parton_loss/lib/python3.6/site-packages/GPy/kern/src/stationary.py:138: RuntimeWarning:invalid value encountered in add\n"
     ]
    },
    {
     "name": "stdout",
     "output_type": "stream",
     "text": [
      "Optimization restart 4/5, f = -1124.2810996548992\n",
      "Optimization restart 5/5, f = -1123.9830148367766\n",
      "Optimization restart 1/5, f = -224.49193609977192\n",
      "Optimization restart 2/5, f = -224.62853891346805\n",
      "Optimization restart 3/5, f = -224.96127808299798\n",
      "Optimization restart 4/5, f = -285.9583307223599\n",
      "Optimization restart 5/5, f = -275.5995386062286\n",
      "Optimization restart 1/5, f = -224.32206492790982\n",
      "Optimization restart 2/5, f = -224.86950120683497\n",
      "Optimization restart 3/5, f = -224.56585362154303\n",
      "Optimization restart 4/5, f = -224.14850441689828\n",
      "Optimization restart 5/5, f = -224.57310194226875\n",
      "(97, 1)\n",
      "r2 score for multifidelity linear 0.9640687502981535\n",
      "mse for multifidelity linear 0.00013802133057015393\n",
      "(97, 1)\n",
      "r2 score for multifidelity nonlinear 0.87993679019279\n",
      "mse for multifidelity nonlinear 0.0004611942002468974\n",
      "(97, 1)\n",
      "r2 score for standard GP 0.8377665558224454\n",
      "mse for standard GP 0.0006231811031948097\n",
      "Optimization restart 1/5, f = -1638.2200315125922\n",
      "Optimization restart 2/5, f = -1456.955260396592\n"
     ]
    },
    {
     "name": "stderr",
     "output_type": "stream",
     "text": [
      " /Users/dananjayaliyanage/miniconda3/envs/parton_loss/lib/python3.6/site-packages/GPy/kern/src/stationary.py:165: RuntimeWarning:overflow encountered in true_divide\n",
      " /Users/dananjayaliyanage/miniconda3/envs/parton_loss/lib/python3.6/site-packages/GPy/kern/src/stationary.py:166: RuntimeWarning:overflow encountered in true_divide\n",
      " /Users/dananjayaliyanage/miniconda3/envs/parton_loss/lib/python3.6/site-packages/GPy/kern/src/stationary.py:144: RuntimeWarning:overflow encountered in square\n",
      " /Users/dananjayaliyanage/miniconda3/envs/parton_loss/lib/python3.6/site-packages/GPy/kern/src/stationary.py:145: RuntimeWarning:overflow encountered in square\n",
      " /Users/dananjayaliyanage/miniconda3/envs/parton_loss/lib/python3.6/site-packages/GPy/kern/src/stationary.py:146: RuntimeWarning:invalid value encountered in add\n"
     ]
    },
    {
     "name": "stdout",
     "output_type": "stream",
     "text": [
      "Optimization restart 3/5, f = -1538.8099874930663\n",
      "Optimization restart 4/5, f = -1482.944922654316\n"
     ]
    },
    {
     "name": "stderr",
     "output_type": "stream",
     "text": [
      " /Users/dananjayaliyanage/miniconda3/envs/parton_loss/lib/python3.6/site-packages/GPy/kern/src/stationary.py:243: RuntimeWarning:invalid value encountered in true_divide\n"
     ]
    },
    {
     "name": "stdout",
     "output_type": "stream",
     "text": [
      "Optimization restart 5/5, f = -1515.5082357744727\n",
      "Optimization restart 1/5, f = -1124.2898443377699\n"
     ]
    },
    {
     "name": "stderr",
     "output_type": "stream",
     "text": [
      " /Users/dananjayaliyanage/miniconda3/envs/parton_loss/lib/python3.6/site-packages/GPy/kern/src/stationary.py:137: RuntimeWarning:overflow encountered in square\n",
      " /Users/dananjayaliyanage/miniconda3/envs/parton_loss/lib/python3.6/site-packages/GPy/kern/src/stationary.py:138: RuntimeWarning:invalid value encountered in add\n"
     ]
    },
    {
     "name": "stdout",
     "output_type": "stream",
     "text": [
      "Optimization restart 2/5, f = -1121.4448351563349\n",
      "Optimization restart 3/5, f = -1124.257122718655\n",
      "Optimization restart 4/5, f = -1124.3355296759157\n",
      "Optimization restart 5/5, f = -1124.410769527939\n",
      "Optimization restart 1/5, f = -288.2963389803255\n",
      "Optimization restart 2/5, f = -286.09865152191975\n",
      "Optimization restart 3/5, f = -334.3561119432016\n"
     ]
    },
    {
     "name": "stderr",
     "output_type": "stream",
     "text": [
      " /Users/dananjayaliyanage/miniconda3/envs/parton_loss/lib/python3.6/site-packages/GPy/kern/src/rbf.py:76: RuntimeWarning:invalid value encountered in multiply\n",
      " /Users/dananjayaliyanage/miniconda3/envs/parton_loss/lib/python3.6/site-packages/GPy/kern/src/rbf.py:52: RuntimeWarning:overflow encountered in square\n"
     ]
    },
    {
     "name": "stdout",
     "output_type": "stream",
     "text": [
      "Optimization restart 4/5, f = -286.4571787694589\n",
      "Optimization restart 5/5, f = -286.0269644171363\n",
      "Optimization restart 1/5, f = -286.04523221170916\n",
      "Optimization restart 2/5, f = -285.8812633204305\n",
      "Optimization restart 3/5, f = -286.08613588346776\n",
      "Optimization restart 4/5, f = -286.09846408516523\n",
      "Optimization restart 5/5, f = -286.02858353852184\n",
      "(97, 1)\n",
      "r2 score for multifidelity linear 0.9611531850528763\n",
      "mse for multifidelity linear 0.00014922077945813883\n",
      "(97, 1)\n",
      "r2 score for multifidelity nonlinear 0.8521573126163505\n",
      "mse for multifidelity nonlinear 0.0005679024413868349\n",
      "(97, 1)\n",
      "r2 score for standard GP 0.8251962831377787\n",
      "mse for standard GP 0.0006714668092574684\n",
      "Optimization restart 1/5, f = -1742.2021689996882\n",
      "Optimization restart 2/5, f = -1565.3783296969912\n",
      "Optimization restart 3/5, f = -1556.6155118907145\n"
     ]
    },
    {
     "name": "stderr",
     "output_type": "stream",
     "text": [
      " /Users/dananjayaliyanage/miniconda3/envs/parton_loss/lib/python3.6/site-packages/GPy/kern/src/stationary.py:144: RuntimeWarning:overflow encountered in square\n",
      " /Users/dananjayaliyanage/miniconda3/envs/parton_loss/lib/python3.6/site-packages/GPy/kern/src/stationary.py:145: RuntimeWarning:overflow encountered in square\n",
      " /Users/dananjayaliyanage/miniconda3/envs/parton_loss/lib/python3.6/site-packages/GPy/kern/src/stationary.py:146: RuntimeWarning:invalid value encountered in add\n",
      " /Users/dananjayaliyanage/miniconda3/envs/parton_loss/lib/python3.6/site-packages/GPy/kern/src/stationary.py:165: RuntimeWarning:overflow encountered in true_divide\n",
      " /Users/dananjayaliyanage/miniconda3/envs/parton_loss/lib/python3.6/site-packages/GPy/kern/src/stationary.py:166: RuntimeWarning:overflow encountered in true_divide\n",
      " /Users/dananjayaliyanage/miniconda3/envs/parton_loss/lib/python3.6/site-packages/GPy/kern/src/rbf.py:76: RuntimeWarning:invalid value encountered in multiply\n"
     ]
    },
    {
     "name": "stdout",
     "output_type": "stream",
     "text": [
      "Optimization restart 4/5, f = -1612.9361600749367\n",
      "Optimization restart 5/5, f = -1595.1234631182292\n",
      "Optimization restart 1/5, f = -1124.2898443377699\n",
      "Optimization restart 2/5, f = -1124.1829889659407\n",
      "Optimization restart 3/5, f = -1124.0831635102415\n",
      "Optimization restart 4/5, f = -1124.124004285266\n",
      "Optimization restart 5/5, f = -1124.042789890323\n",
      "Optimization restart 1/5, f = -348.2433728451852\n",
      "Optimization restart 2/5, f = -397.8280814064136\n",
      "Optimization restart 3/5, f = -348.280421728849\n",
      "Optimization restart 4/5, f = -361.20308932339196\n",
      "Optimization restart 5/5, f = -326.92042380601816\n"
     ]
    },
    {
     "name": "stderr",
     "output_type": "stream",
     "text": [
      " /Users/dananjayaliyanage/miniconda3/envs/parton_loss/lib/python3.6/site-packages/GPy/kern/src/stationary.py:243: RuntimeWarning:invalid value encountered in true_divide\n",
      " /Users/dananjayaliyanage/miniconda3/envs/parton_loss/lib/python3.6/site-packages/GPy/kern/src/stationary.py:137: RuntimeWarning:overflow encountered in square\n",
      " /Users/dananjayaliyanage/miniconda3/envs/parton_loss/lib/python3.6/site-packages/GPy/kern/src/stationary.py:138: RuntimeWarning:invalid value encountered in add\n"
     ]
    },
    {
     "name": "stdout",
     "output_type": "stream",
     "text": [
      "Optimization restart 1/5, f = -348.3746110657633\n",
      "Optimization restart 2/5, f = -348.43380344319235\n",
      "Optimization restart 3/5, f = -348.39417235555874\n",
      "Optimization restart 4/5, f = -348.2238132560289\n",
      "Optimization restart 5/5, f = -348.6380660967599\n",
      "(97, 1)\n",
      "r2 score for multifidelity linear 0.9610506545412729\n",
      "mse for multifidelity linear 0.00014961462597761597\n",
      "(97, 1)\n",
      "r2 score for multifidelity nonlinear 0.9006381925085237\n",
      "mse for multifidelity nonlinear 0.000381674697975347\n",
      "(97, 1)\n",
      "r2 score for standard GP 0.7759206304188787\n",
      "mse for standard GP 0.0008607474830277962\n",
      "Optimization restart 1/5, f = -1838.4929795889343\n",
      "Optimization restart 2/5, f = -1622.1492568718577\n"
     ]
    },
    {
     "name": "stderr",
     "output_type": "stream",
     "text": [
      " /Users/dananjayaliyanage/miniconda3/envs/parton_loss/lib/python3.6/site-packages/GPy/kern/src/stationary.py:165: RuntimeWarning:overflow encountered in true_divide\n",
      " /Users/dananjayaliyanage/miniconda3/envs/parton_loss/lib/python3.6/site-packages/GPy/kern/src/stationary.py:166: RuntimeWarning:overflow encountered in true_divide\n",
      " /Users/dananjayaliyanage/miniconda3/envs/parton_loss/lib/python3.6/site-packages/GPy/kern/src/stationary.py:144: RuntimeWarning:overflow encountered in square\n",
      " /Users/dananjayaliyanage/miniconda3/envs/parton_loss/lib/python3.6/site-packages/GPy/kern/src/stationary.py:145: RuntimeWarning:overflow encountered in square\n",
      " /Users/dananjayaliyanage/miniconda3/envs/parton_loss/lib/python3.6/site-packages/GPy/kern/src/stationary.py:146: RuntimeWarning:invalid value encountered in add\n"
     ]
    },
    {
     "name": "stdout",
     "output_type": "stream",
     "text": [
      "Optimization restart 3/5, f = -1688.3762800016884\n",
      "Optimization restart 4/5, f = -1837.8864965064502\n",
      "Optimization restart 5/5, f = -1586.674072584699\n",
      "Optimization restart 1/5, f = -1124.2898443377699\n",
      "Optimization restart 2/5, f = -1124.2157338422417\n",
      "Optimization restart 3/5, f = -1123.9976251910384\n",
      "Optimization restart 4/5, f = -1124.1161267680486\n",
      "Optimization restart 5/5, f = -1124.0790227096595\n",
      "Optimization restart 1/5, f = -390.0266066150847\n",
      "Optimization restart 2/5, f = -433.4941785270113\n",
      "Optimization restart 3/5, f = -451.45314653188797\n",
      "Optimization restart 4/5, f = -389.9049373411581\n",
      "Optimization restart 5/5, f = -469.773655012345\n",
      "Optimization restart 1/5, f = -389.9548699366203\n",
      "Optimization restart 2/5, f = -390.0053844489597\n",
      "Optimization restart 3/5, f = -390.05193141214795\n",
      "Optimization restart 4/5, f = -395.11778495342594\n",
      "Optimization restart 5/5, f = -390.0810795794281\n",
      "(97, 1)\n",
      "r2 score for multifidelity linear 0.9610958448789726\n",
      "mse for multifidelity linear 0.00014944103806764948\n",
      "(97, 1)\n",
      "r2 score for multifidelity nonlinear 0.9144071248978051\n",
      "mse for multifidelity nonlinear 0.000328784626389514\n",
      "(97, 1)\n",
      "r2 score for standard GP 0.8431583187511873\n",
      "mse for standard GP 0.0006024699311727146\n",
      "Optimization restart 1/5, f = -1945.0789310055109\n"
     ]
    },
    {
     "name": "stderr",
     "output_type": "stream",
     "text": [
      " /Users/dananjayaliyanage/miniconda3/envs/parton_loss/lib/python3.6/site-packages/GPy/kern/src/stationary.py:144: RuntimeWarning:overflow encountered in square\n",
      " /Users/dananjayaliyanage/miniconda3/envs/parton_loss/lib/python3.6/site-packages/GPy/kern/src/stationary.py:145: RuntimeWarning:overflow encountered in square\n",
      " /Users/dananjayaliyanage/miniconda3/envs/parton_loss/lib/python3.6/site-packages/GPy/kern/src/stationary.py:146: RuntimeWarning:invalid value encountered in add\n",
      " /Users/dananjayaliyanage/miniconda3/envs/parton_loss/lib/python3.6/site-packages/GPy/kern/src/rbf.py:76: RuntimeWarning:invalid value encountered in multiply\n",
      " /Users/dananjayaliyanage/miniconda3/envs/parton_loss/lib/python3.6/site-packages/GPy/kern/src/stationary.py:165: RuntimeWarning:overflow encountered in true_divide\n",
      " /Users/dananjayaliyanage/miniconda3/envs/parton_loss/lib/python3.6/site-packages/GPy/kern/src/stationary.py:166: RuntimeWarning:overflow encountered in true_divide\n"
     ]
    },
    {
     "name": "stdout",
     "output_type": "stream",
     "text": [
      "Optimization restart 2/5, f = -1795.976624009973\n",
      "Optimization restart 3/5, f = -1100.3106125629395\n"
     ]
    },
    {
     "name": "stderr",
     "output_type": "stream",
     "text": [
      " /Users/dananjayaliyanage/miniconda3/envs/parton_loss/lib/python3.6/site-packages/GPy/kern/src/stationary.py:243: RuntimeWarning:invalid value encountered in true_divide\n"
     ]
    },
    {
     "name": "stdout",
     "output_type": "stream",
     "text": [
      "Optimization restart 4/5, f = -1697.8578153523977\n",
      "Optimization restart 5/5, f = -1720.4612782672948\n",
      "Optimization restart 1/5, f = -1124.2898443377699\n",
      "Optimization restart 2/5, f = -1124.0909930678706\n",
      "Optimization restart 3/5, f = -1124.049830397671\n",
      "Optimization restart 4/5, f = -1124.1020668568885\n",
      "Optimization restart 5/5, f = -1124.1207046138495\n",
      "Optimization restart 1/5, f = -453.54856155056405\n",
      "Optimization restart 2/5, f = -453.6549688618736\n",
      "Optimization restart 3/5, f = -453.62340066039957\n",
      "Optimization restart 4/5, f = -453.56929081606904\n"
     ]
    },
    {
     "name": "stderr",
     "output_type": "stream",
     "text": [
      " /Users/dananjayaliyanage/miniconda3/envs/parton_loss/lib/python3.6/site-packages/GPy/kern/src/stationary.py:137: RuntimeWarning:overflow encountered in square\n",
      " /Users/dananjayaliyanage/miniconda3/envs/parton_loss/lib/python3.6/site-packages/GPy/kern/src/stationary.py:138: RuntimeWarning:invalid value encountered in add\n",
      " /Users/dananjayaliyanage/miniconda3/envs/parton_loss/lib/python3.6/site-packages/GPy/kern/src/rbf.py:52: RuntimeWarning:overflow encountered in square\n"
     ]
    },
    {
     "name": "stdout",
     "output_type": "stream",
     "text": [
      "Optimization restart 5/5, f = -429.56174357642305\n",
      "Optimization restart 1/5, f = -453.604916313745\n",
      "Optimization restart 2/5, f = -452.1700267947604\n",
      "Optimization restart 3/5, f = -453.6358974935209\n",
      "Optimization restart 4/5, f = -453.5401298161551\n",
      "Optimization restart 5/5, f = -453.65767100900075\n",
      "(97, 1)\n",
      "r2 score for multifidelity linear 0.9605899029967017\n",
      "mse for multifidelity linear 0.00015138449320382371\n",
      "(97, 1)\n",
      "r2 score for multifidelity nonlinear 0.8881521407366357\n",
      "mse for multifidelity nonlinear 0.00042963688947783883\n",
      "(97, 1)\n",
      "r2 score for standard GP 0.8885417628527468\n",
      "mse for standard GP 0.00042814024899548886\n",
      "Optimization restart 1/5, f = -1995.0899216498406\n",
      "Optimization restart 2/5, f = -2042.738163461539\n"
     ]
    },
    {
     "name": "stderr",
     "output_type": "stream",
     "text": [
      " /Users/dananjayaliyanage/miniconda3/envs/parton_loss/lib/python3.6/site-packages/GPy/kern/src/stationary.py:144: RuntimeWarning:overflow encountered in square\n",
      " /Users/dananjayaliyanage/miniconda3/envs/parton_loss/lib/python3.6/site-packages/GPy/kern/src/stationary.py:145: RuntimeWarning:overflow encountered in square\n",
      " /Users/dananjayaliyanage/miniconda3/envs/parton_loss/lib/python3.6/site-packages/GPy/kern/src/stationary.py:146: RuntimeWarning:invalid value encountered in add\n",
      " /Users/dananjayaliyanage/miniconda3/envs/parton_loss/lib/python3.6/site-packages/GPy/kern/src/rbf.py:76: RuntimeWarning:invalid value encountered in multiply\n",
      " /Users/dananjayaliyanage/miniconda3/envs/parton_loss/lib/python3.6/site-packages/GPy/kern/src/stationary.py:165: RuntimeWarning:overflow encountered in true_divide\n",
      " /Users/dananjayaliyanage/miniconda3/envs/parton_loss/lib/python3.6/site-packages/GPy/kern/src/stationary.py:166: RuntimeWarning:overflow encountered in true_divide\n"
     ]
    },
    {
     "name": "stdout",
     "output_type": "stream",
     "text": [
      "Optimization restart 3/5, f = -1946.2761110051958\n",
      "Optimization restart 4/5, f = -2013.0079977391465\n",
      "Optimization restart 5/5, f = -1697.7114988016708\n",
      "Optimization restart 1/5, f = -1124.2898443377699\n",
      "Optimization restart 2/5, f = -1124.0425693987772\n",
      "Optimization restart 3/5, f = -1124.0801336431366\n",
      "Optimization restart 4/5, f = -1124.2319269112536\n",
      "Optimization restart 5/5, f = -1124.0947933566308\n",
      "Optimization restart 1/5, f = -512.6006804724733\n",
      "Optimization restart 2/5, f = -556.1770442269617\n"
     ]
    },
    {
     "name": "stderr",
     "output_type": "stream",
     "text": [
      " /Users/dananjayaliyanage/miniconda3/envs/parton_loss/lib/python3.6/site-packages/GPy/kern/src/stationary.py:243: RuntimeWarning:invalid value encountered in true_divide\n"
     ]
    },
    {
     "name": "stdout",
     "output_type": "stream",
     "text": [
      "Optimization restart 3/5, f = -508.0898007927644\n",
      "Optimization restart 4/5, f = -561.8674458231251\n",
      "Optimization restart 5/5, f = -512.1500881224713\n",
      "Optimization restart 1/5, f = -512.4534572772361\n",
      "Optimization restart 2/5, f = -512.4535003568928\n",
      "Optimization restart 3/5, f = -512.5111110020825\n",
      "Optimization restart 4/5, f = -512.5288968220837\n",
      "Optimization restart 5/5, f = -512.2191985017301\n",
      "(97, 1)\n",
      "r2 score for multifidelity linear 0.9616957913959662\n",
      "mse for multifidelity linear 0.0001471364865356688\n",
      "(97, 1)\n",
      "r2 score for multifidelity nonlinear 0.918056501424487\n",
      "mse for multifidelity nonlinear 0.00031476641638725385\n",
      "(97, 1)\n",
      "r2 score for standard GP 0.902551864452651\n",
      "mse for standard GP 0.0003743237833760799\n",
      "Optimization restart 1/5, f = -2148.806114537089\n"
     ]
    },
    {
     "name": "stderr",
     "output_type": "stream",
     "text": [
      " /Users/dananjayaliyanage/miniconda3/envs/parton_loss/lib/python3.6/site-packages/GPy/kern/src/stationary.py:144: RuntimeWarning:overflow encountered in square\n",
      " /Users/dananjayaliyanage/miniconda3/envs/parton_loss/lib/python3.6/site-packages/GPy/kern/src/stationary.py:145: RuntimeWarning:overflow encountered in square\n",
      " /Users/dananjayaliyanage/miniconda3/envs/parton_loss/lib/python3.6/site-packages/GPy/kern/src/stationary.py:146: RuntimeWarning:invalid value encountered in add\n",
      " /Users/dananjayaliyanage/miniconda3/envs/parton_loss/lib/python3.6/site-packages/GPy/kern/src/stationary.py:165: RuntimeWarning:overflow encountered in true_divide\n",
      " /Users/dananjayaliyanage/miniconda3/envs/parton_loss/lib/python3.6/site-packages/GPy/kern/src/stationary.py:166: RuntimeWarning:overflow encountered in true_divide\n"
     ]
    },
    {
     "name": "stdout",
     "output_type": "stream",
     "text": [
      "Optimization restart 2/5, f = -1940.918256252991\n",
      "Optimization restart 3/5, f = -1918.569531427659\n",
      "Optimization restart 4/5, f = -1529.4667163583083\n",
      "Optimization restart 5/5, f = -1915.0331064067027\n",
      "Optimization restart 1/5, f = -1124.2898443377699\n",
      "Optimization restart 2/5, f = -1124.2279676995831\n",
      "Optimization restart 3/5, f = -1124.0282388424687\n",
      "Optimization restart 4/5, f = -1124.3669081267885\n",
      "Optimization restart 5/5, f = -1124.32984306687\n",
      "Optimization restart 1/5, f = -561.5959449932568\n"
     ]
    },
    {
     "name": "stderr",
     "output_type": "stream",
     "text": [
      " /Users/dananjayaliyanage/miniconda3/envs/parton_loss/lib/python3.6/site-packages/GPy/kern/src/stationary.py:137: RuntimeWarning:overflow encountered in square\n",
      " /Users/dananjayaliyanage/miniconda3/envs/parton_loss/lib/python3.6/site-packages/GPy/kern/src/stationary.py:138: RuntimeWarning:invalid value encountered in add\n",
      " /Users/dananjayaliyanage/miniconda3/envs/parton_loss/lib/python3.6/site-packages/GPy/kern/src/rbf.py:52: RuntimeWarning:overflow encountered in square\n"
     ]
    },
    {
     "name": "stdout",
     "output_type": "stream",
     "text": [
      "Optimization restart 2/5, f = -558.3432493026622\n"
     ]
    },
    {
     "name": "stderr",
     "output_type": "stream",
     "text": [
      " /Users/dananjayaliyanage/miniconda3/envs/parton_loss/lib/python3.6/site-packages/GPy/kern/src/stationary.py:243: RuntimeWarning:invalid value encountered in true_divide\n"
     ]
    },
    {
     "name": "stdout",
     "output_type": "stream",
     "text": [
      "Optimization restart 3/5, f = -620.2769935273751\n",
      "Optimization restart 4/5, f = -561.5604044770328\n",
      "Optimization restart 5/5, f = -575.7770957413904\n"
     ]
    },
    {
     "name": "stderr",
     "output_type": "stream",
     "text": [
      " /Users/dananjayaliyanage/miniconda3/envs/parton_loss/lib/python3.6/site-packages/GPy/kern/src/rbf.py:76: RuntimeWarning:invalid value encountered in multiply\n",
      " /Users/dananjayaliyanage/miniconda3/envs/parton_loss/lib/python3.6/site-packages/GPy/kern/src/rbf.py:76: RuntimeWarning:invalid value encountered in multiply\n"
     ]
    },
    {
     "name": "stdout",
     "output_type": "stream",
     "text": [
      "Optimization restart 1/5, f = -561.4071707014884\n",
      "Optimization restart 2/5, f = -558.8046118554693\n",
      "Optimization restart 3/5, f = -558.6609466368353\n",
      "Optimization restart 4/5, f = -561.8301880759498\n",
      "Optimization restart 5/5, f = -561.6254494133373\n",
      "(97, 1)\n",
      "r2 score for multifidelity linear 0.9616351175349487\n",
      "mse for multifidelity linear 0.00014736955070955495\n",
      "(97, 1)\n",
      "r2 score for multifidelity nonlinear 0.8720098262414535\n",
      "mse for multifidelity nonlinear 0.0004916437426653701\n",
      "(97, 1)\n",
      "r2 score for standard GP 0.880291644247911\n",
      "mse for standard GP 0.0004598311129829583\n",
      "Optimization restart 1/5, f = -2248.2598526968814\n",
      "Optimization restart 2/5, f = -1964.3836265592377\n"
     ]
    },
    {
     "name": "stderr",
     "output_type": "stream",
     "text": [
      " /Users/dananjayaliyanage/miniconda3/envs/parton_loss/lib/python3.6/site-packages/GPy/kern/src/stationary.py:243: RuntimeWarning:invalid value encountered in true_divide\n"
     ]
    },
    {
     "name": "stdout",
     "output_type": "stream",
     "text": [
      "Optimization restart 3/5, f = -2003.736135162332\n"
     ]
    },
    {
     "name": "stderr",
     "output_type": "stream",
     "text": [
      " /Users/dananjayaliyanage/miniconda3/envs/parton_loss/lib/python3.6/site-packages/GPy/kern/src/stationary.py:165: RuntimeWarning:overflow encountered in true_divide\n",
      " /Users/dananjayaliyanage/miniconda3/envs/parton_loss/lib/python3.6/site-packages/GPy/kern/src/stationary.py:166: RuntimeWarning:overflow encountered in true_divide\n",
      " /Users/dananjayaliyanage/miniconda3/envs/parton_loss/lib/python3.6/site-packages/GPy/kern/src/stationary.py:144: RuntimeWarning:overflow encountered in square\n",
      " /Users/dananjayaliyanage/miniconda3/envs/parton_loss/lib/python3.6/site-packages/GPy/kern/src/stationary.py:145: RuntimeWarning:overflow encountered in square\n",
      " /Users/dananjayaliyanage/miniconda3/envs/parton_loss/lib/python3.6/site-packages/GPy/kern/src/stationary.py:146: RuntimeWarning:invalid value encountered in add\n"
     ]
    },
    {
     "name": "stdout",
     "output_type": "stream",
     "text": [
      "Optimization restart 4/5, f = -2000.1752640098425\n",
      "Optimization restart 5/5, f = -1981.8700244083384\n",
      "Optimization restart 1/5, f = -1124.2898443377699\n",
      "Optimization restart 2/5, f = -1124.160050910055\n",
      "Optimization restart 3/5, f = -1124.0028149592963\n",
      "Optimization restart 4/5, f = -1124.0834832211526\n",
      "Optimization restart 5/5, f = -1124.0649853137713\n",
      "Optimization restart 1/5, f = -624.0400601763662\n"
     ]
    },
    {
     "name": "stderr",
     "output_type": "stream",
     "text": [
      " /Users/dananjayaliyanage/miniconda3/envs/parton_loss/lib/python3.6/site-packages/GPy/kern/src/stationary.py:137: RuntimeWarning:overflow encountered in square\n",
      " /Users/dananjayaliyanage/miniconda3/envs/parton_loss/lib/python3.6/site-packages/GPy/kern/src/stationary.py:138: RuntimeWarning:invalid value encountered in add\n",
      " /Users/dananjayaliyanage/miniconda3/envs/parton_loss/lib/python3.6/site-packages/GPy/kern/src/rbf.py:52: RuntimeWarning:overflow encountered in square\n"
     ]
    },
    {
     "name": "stdout",
     "output_type": "stream",
     "text": [
      "Optimization restart 2/5, f = -623.5467929530416\n",
      "Optimization restart 3/5, f = -725.5713576093656\n",
      "Optimization restart 4/5, f = -624.0794026500913\n",
      "Optimization restart 5/5, f = -706.2014671392053\n",
      "Optimization restart 1/5, f = -623.7814319684062\n",
      "Optimization restart 2/5, f = -623.9585522087607\n",
      "Optimization restart 3/5, f = -623.7849303219631\n",
      "Optimization restart 4/5, f = -624.1778129701779\n",
      "Optimization restart 5/5, f = -623.9868607854005\n",
      "(97, 1)\n",
      "r2 score for multifidelity linear 0.9593924541565795\n",
      "mse for multifidelity linear 0.00015598420747969119\n",
      "(97, 1)\n",
      "r2 score for multifidelity nonlinear 0.9517960805519259\n",
      "mse for multifidelity nonlinear 0.00018516386588629587\n",
      "(97, 1)\n",
      "r2 score for standard GP 0.9130488791477003\n",
      "mse for standard GP 0.00033400200366490233\n",
      "Optimization restart 1/5, f = -2351.371710548575\n",
      "Optimization restart 2/5, f = -2085.068623702079\n",
      "Optimization restart 3/5, f = -1941.9611511479102\n"
     ]
    },
    {
     "name": "stderr",
     "output_type": "stream",
     "text": [
      " /Users/dananjayaliyanage/miniconda3/envs/parton_loss/lib/python3.6/site-packages/GPy/kern/src/stationary.py:243: RuntimeWarning:invalid value encountered in true_divide\n"
     ]
    },
    {
     "name": "stdout",
     "output_type": "stream",
     "text": [
      "Optimization restart 4/5, f = -2101.302771180068\n",
      "Optimization restart 5/5, f = -2043.2698350575158\n",
      "Optimization restart 1/5, f = -1124.2898443377699\n",
      "Optimization restart 2/5, f = -1124.468723424488\n"
     ]
    },
    {
     "name": "stderr",
     "output_type": "stream",
     "text": [
      " /Users/dananjayaliyanage/miniconda3/envs/parton_loss/lib/python3.6/site-packages/GPy/kern/src/stationary.py:166: RuntimeWarning:overflow encountered in true_divide\n",
      " /Users/dananjayaliyanage/miniconda3/envs/parton_loss/lib/python3.6/site-packages/GPy/kern/src/stationary.py:137: RuntimeWarning:overflow encountered in square\n",
      " /Users/dananjayaliyanage/miniconda3/envs/parton_loss/lib/python3.6/site-packages/GPy/kern/src/stationary.py:138: RuntimeWarning:invalid value encountered in add\n"
     ]
    },
    {
     "name": "stdout",
     "output_type": "stream",
     "text": [
      "Optimization restart 3/5, f = -1124.2388359166328\n",
      "Optimization restart 4/5, f = -1124.015460584535\n",
      "Optimization restart 5/5, f = -1124.2104597317116\n",
      "Optimization restart 1/5, f = -683.4897231377785\n",
      "Optimization restart 2/5, f = -811.3304869106086\n",
      "Optimization restart 3/5, f = -685.5096953383564\n",
      "Optimization restart 4/5, f = -738.8060166060051\n",
      "Optimization restart 5/5, f = -854.0938628876836\n",
      "Optimization restart 1/5, f = -683.8694535224599\n",
      "Optimization restart 2/5, f = -683.5727890832791\n",
      "Optimization restart 3/5, f = -683.8162621126716\n",
      "Optimization restart 4/5, f = -683.4877323326998\n",
      "Optimization restart 5/5, f = -683.6865006073806\n",
      "(97, 1)\n",
      "r2 score for multifidelity linear 0.9614246948516916\n",
      "mse for multifidelity linear 0.00014817783928749965\n",
      "(97, 1)\n",
      "r2 score for multifidelity nonlinear 0.9581223405556432\n",
      "mse for multifidelity nonlinear 0.00016086304611266763\n",
      "(97, 1)\n",
      "r2 score for standard GP 0.9332195311270938\n",
      "mse for standard GP 0.0002565212522920848\n"
     ]
    },
    {
     "name": "stderr",
     "output_type": "stream",
     "text": [
      " /Users/dananjayaliyanage/miniconda3/envs/parton_loss/lib/python3.6/site-packages/GPy/kern/src/stationary.py:243: RuntimeWarning:invalid value encountered in true_divide\n"
     ]
    },
    {
     "name": "stdout",
     "output_type": "stream",
     "text": [
      "Optimization restart 1/5, f = -2408.770048824038\n",
      "Optimization restart 2/5, f = -1918.3889172489348\n",
      "Optimization restart 3/5, f = -2158.9091678350737\n"
     ]
    },
    {
     "name": "stderr",
     "output_type": "stream",
     "text": [
      " /Users/dananjayaliyanage/miniconda3/envs/parton_loss/lib/python3.6/site-packages/GPy/kern/src/stationary.py:144: RuntimeWarning:overflow encountered in square\n",
      " /Users/dananjayaliyanage/miniconda3/envs/parton_loss/lib/python3.6/site-packages/GPy/kern/src/stationary.py:145: RuntimeWarning:overflow encountered in square\n",
      " /Users/dananjayaliyanage/miniconda3/envs/parton_loss/lib/python3.6/site-packages/GPy/kern/src/stationary.py:146: RuntimeWarning:invalid value encountered in add\n",
      " /Users/dananjayaliyanage/miniconda3/envs/parton_loss/lib/python3.6/site-packages/GPy/kern/src/stationary.py:165: RuntimeWarning:overflow encountered in true_divide\n",
      " /Users/dananjayaliyanage/miniconda3/envs/parton_loss/lib/python3.6/site-packages/GPy/kern/src/stationary.py:166: RuntimeWarning:overflow encountered in true_divide\n"
     ]
    },
    {
     "name": "stdout",
     "output_type": "stream",
     "text": [
      "Optimization restart 4/5, f = -2174.251805692272\n",
      "Optimization restart 5/5, f = -2097.5894926229143\n",
      "Optimization restart 1/5, f = -1124.2898443377699\n"
     ]
    },
    {
     "name": "stderr",
     "output_type": "stream",
     "text": [
      " /Users/dananjayaliyanage/miniconda3/envs/parton_loss/lib/python3.6/site-packages/GPy/kern/src/stationary.py:137: RuntimeWarning:overflow encountered in square\n",
      " /Users/dananjayaliyanage/miniconda3/envs/parton_loss/lib/python3.6/site-packages/GPy/kern/src/stationary.py:138: RuntimeWarning:invalid value encountered in add\n"
     ]
    },
    {
     "name": "stdout",
     "output_type": "stream",
     "text": [
      "Optimization restart 2/5, f = -1124.173266386169\n",
      "Optimization restart 3/5, f = -1124.3659288586966\n",
      "Optimization restart 4/5, f = -1124.0439607929698\n",
      "Optimization restart 5/5, f = -1124.2106204413894\n",
      "Optimization restart 1/5, f = -734.4255310504723\n",
      "Optimization restart 2/5, f = -856.9566715874563\n",
      "Optimization restart 3/5, f = -872.2309159174488\n",
      "Optimization restart 4/5, f = -744.8742633721573\n",
      "Optimization restart 5/5, f = -853.2544076368863\n",
      "Optimization restart 1/5, f = -734.3941217364351\n",
      "Optimization restart 2/5, f = -742.799189573158\n",
      "Optimization restart 3/5, f = -734.3538961991774\n",
      "Optimization restart 4/5, f = -734.5189307703322\n",
      "Optimization restart 5/5, f = -735.9252955561678\n",
      "(97, 1)\n",
      "r2 score for multifidelity linear 0.9510210275344595\n",
      "mse for multifidelity linear 0.00018814104729859789\n",
      "(97, 1)\n",
      "r2 score for multifidelity nonlinear 0.9513275351685104\n",
      "mse for multifidelity nonlinear 0.0001869636712865565\n",
      "(97, 1)\n",
      "r2 score for standard GP 0.9420708562601621\n",
      "mse for standard GP 0.00022252099673981675\n",
      "Optimization restart 1/5, f = -2550.393168560254\n"
     ]
    },
    {
     "name": "stderr",
     "output_type": "stream",
     "text": [
      " /Users/dananjayaliyanage/miniconda3/envs/parton_loss/lib/python3.6/site-packages/GPy/kern/src/stationary.py:144: RuntimeWarning:overflow encountered in square\n",
      " /Users/dananjayaliyanage/miniconda3/envs/parton_loss/lib/python3.6/site-packages/GPy/kern/src/stationary.py:145: RuntimeWarning:overflow encountered in square\n",
      " /Users/dananjayaliyanage/miniconda3/envs/parton_loss/lib/python3.6/site-packages/GPy/kern/src/stationary.py:146: RuntimeWarning:invalid value encountered in add\n",
      " /Users/dananjayaliyanage/miniconda3/envs/parton_loss/lib/python3.6/site-packages/GPy/kern/src/stationary.py:165: RuntimeWarning:overflow encountered in true_divide\n",
      " /Users/dananjayaliyanage/miniconda3/envs/parton_loss/lib/python3.6/site-packages/GPy/kern/src/stationary.py:166: RuntimeWarning:overflow encountered in true_divide\n",
      " /Users/dananjayaliyanage/miniconda3/envs/parton_loss/lib/python3.6/site-packages/GPy/kern/src/rbf.py:76: RuntimeWarning:invalid value encountered in multiply\n"
     ]
    },
    {
     "name": "stdout",
     "output_type": "stream",
     "text": [
      "Optimization restart 2/5, f = -2248.526336728117\n",
      "Optimization restart 3/5, f = -2262.955283974008\n"
     ]
    },
    {
     "name": "stderr",
     "output_type": "stream",
     "text": [
      " /Users/dananjayaliyanage/miniconda3/envs/parton_loss/lib/python3.6/site-packages/GPy/kern/src/stationary.py:243: RuntimeWarning:invalid value encountered in true_divide\n"
     ]
    },
    {
     "name": "stdout",
     "output_type": "stream",
     "text": [
      "Optimization restart 4/5, f = -2149.017681575371\n",
      "Optimization restart 5/5, f = -2246.5605236855513\n",
      "Optimization restart 1/5, f = -1124.2898443377699\n",
      "Optimization restart 2/5, f = -1124.1924240438348\n",
      "Optimization restart 3/5, f = -1124.0552627140157\n",
      "Optimization restart 4/5, f = -1124.0747531575935\n",
      "Optimization restart 5/5, f = -1124.017614867211\n",
      "Optimization restart 1/5, f = -918.8403686516261\n"
     ]
    },
    {
     "name": "stderr",
     "output_type": "stream",
     "text": [
      " /Users/dananjayaliyanage/miniconda3/envs/parton_loss/lib/python3.6/site-packages/GPy/kern/src/stationary.py:137: RuntimeWarning:overflow encountered in square\n",
      " /Users/dananjayaliyanage/miniconda3/envs/parton_loss/lib/python3.6/site-packages/GPy/kern/src/stationary.py:138: RuntimeWarning:invalid value encountered in add\n"
     ]
    },
    {
     "name": "stdout",
     "output_type": "stream",
     "text": [
      "Optimization restart 2/5, f = -946.8738974292041\n",
      "Optimization restart 3/5, f = -788.0422409490125\n",
      "Optimization restart 4/5, f = -895.1867078516791\n",
      "Optimization restart 5/5, f = -788.0342109807186\n",
      "Optimization restart 1/5, f = -788.0730101570313\n",
      "Optimization restart 2/5, f = -801.5048158422765\n",
      "Optimization restart 3/5, f = -788.0652122325175\n",
      "Optimization restart 4/5, f = -788.0677487285739\n",
      "Optimization restart 5/5, f = -788.221154784689\n",
      "(97, 1)\n",
      "r2 score for multifidelity linear 0.9614865276052427\n",
      "mse for multifidelity linear 0.00014794032350419844\n",
      "(97, 1)\n",
      "r2 score for multifidelity nonlinear 0.9484687763118913\n",
      "mse for multifidelity nonlinear 0.0001979449119738102\n",
      "(97, 1)\n",
      "r2 score for standard GP 0.945028031503692\n",
      "mse for standard GP 0.00021116171296238308\n",
      "Optimization restart 1/5, f = -2646.590380008104\n",
      "Optimization restart 2/5, f = -2317.5380880543116\n",
      "Optimization restart 3/5, f = -918.2662503982187\n"
     ]
    },
    {
     "name": "stderr",
     "output_type": "stream",
     "text": [
      " /Users/dananjayaliyanage/miniconda3/envs/parton_loss/lib/python3.6/site-packages/GPy/kern/src/stationary.py:165: RuntimeWarning:overflow encountered in true_divide\n",
      " /Users/dananjayaliyanage/miniconda3/envs/parton_loss/lib/python3.6/site-packages/GPy/kern/src/stationary.py:166: RuntimeWarning:overflow encountered in true_divide\n",
      " /Users/dananjayaliyanage/miniconda3/envs/parton_loss/lib/python3.6/site-packages/GPy/kern/src/stationary.py:144: RuntimeWarning:overflow encountered in square\n",
      " /Users/dananjayaliyanage/miniconda3/envs/parton_loss/lib/python3.6/site-packages/GPy/kern/src/stationary.py:145: RuntimeWarning:overflow encountered in square\n",
      " /Users/dananjayaliyanage/miniconda3/envs/parton_loss/lib/python3.6/site-packages/GPy/kern/src/stationary.py:146: RuntimeWarning:invalid value encountered in add\n"
     ]
    },
    {
     "name": "stdout",
     "output_type": "stream",
     "text": [
      "Optimization restart 4/5, f = -2318.4623067129523\n",
      "Optimization restart 5/5, f = -2635.4598651133874\n",
      "Optimization restart 1/5, f = -1124.2898443377699\n",
      "Optimization restart 2/5, f = -1124.0843566167023\n",
      "Optimization restart 3/5, f = -1124.0663389913407\n",
      "Optimization restart 4/5, f = -1124.1473671919762\n",
      "Optimization restart 5/5, f = -1124.0483008569186\n",
      "Optimization restart 1/5, f = -973.6828854701664\n",
      "Optimization restart 2/5, f = -1037.2270706099353\n",
      "Optimization restart 3/5, f = -842.4874360151118\n",
      "Optimization restart 4/5, f = -842.9887396234556\n",
      "Optimization restart 5/5, f = -863.4453881496279\n",
      "Optimization restart 1/5, f = -842.9615640097645\n",
      "Optimization restart 2/5, f = -863.5722412453858\n",
      "Optimization restart 3/5, f = -843.0689141975568\n",
      "Optimization restart 4/5, f = -843.29734495553\n",
      "Optimization restart 5/5, f = -843.438700398225\n",
      "(97, 1)\n",
      "r2 score for multifidelity linear 0.9617016602124561\n",
      "mse for multifidelity linear 0.00014711394287610967\n",
      "(97, 1)\n",
      "r2 score for multifidelity nonlinear 0.9613084746122118\n",
      "mse for multifidelity nonlinear 0.0001486242716333069\n",
      "(97, 1)\n",
      "r2 score for standard GP 0.9486375638908031\n",
      "mse for standard GP 0.0001972965547243842\n",
      "Optimization restart 1/5, f = -2753.087335519871\n"
     ]
    },
    {
     "name": "stderr",
     "output_type": "stream",
     "text": [
      " /Users/dananjayaliyanage/miniconda3/envs/parton_loss/lib/python3.6/site-packages/GPy/kern/src/stationary.py:165: RuntimeWarning:overflow encountered in true_divide\n",
      " /Users/dananjayaliyanage/miniconda3/envs/parton_loss/lib/python3.6/site-packages/GPy/kern/src/stationary.py:166: RuntimeWarning:overflow encountered in true_divide\n",
      " /Users/dananjayaliyanage/miniconda3/envs/parton_loss/lib/python3.6/site-packages/GPy/kern/src/stationary.py:144: RuntimeWarning:overflow encountered in square\n",
      " /Users/dananjayaliyanage/miniconda3/envs/parton_loss/lib/python3.6/site-packages/GPy/kern/src/stationary.py:145: RuntimeWarning:overflow encountered in square\n",
      " /Users/dananjayaliyanage/miniconda3/envs/parton_loss/lib/python3.6/site-packages/GPy/kern/src/stationary.py:146: RuntimeWarning:invalid value encountered in add\n"
     ]
    },
    {
     "name": "stdout",
     "output_type": "stream",
     "text": [
      "Optimization restart 2/5, f = -2386.0033904233724\n"
     ]
    },
    {
     "name": "stderr",
     "output_type": "stream",
     "text": [
      " /Users/dananjayaliyanage/miniconda3/envs/parton_loss/lib/python3.6/site-packages/GPy/kern/src/stationary.py:243: RuntimeWarning:invalid value encountered in true_divide\n"
     ]
    },
    {
     "name": "stdout",
     "output_type": "stream",
     "text": [
      "Optimization restart 3/5, f = -2379.945328265683\n",
      "Optimization restart 4/5, f = -2501.8053840857688\n",
      "Optimization restart 5/5, f = -2621.76725722037\n",
      "Optimization restart 1/5, f = -1124.2898443377699\n",
      "Optimization restart 2/5, f = -1080.9355066141457\n",
      "Optimization restart 3/5, f = -1124.0354079354838\n",
      "Optimization restart 4/5, f = -983.1371773370078\n"
     ]
    },
    {
     "name": "stderr",
     "output_type": "stream",
     "text": [
      " /Users/dananjayaliyanage/miniconda3/envs/parton_loss/lib/python3.6/site-packages/GPy/kern/src/stationary.py:137: RuntimeWarning:overflow encountered in square\n",
      " /Users/dananjayaliyanage/miniconda3/envs/parton_loss/lib/python3.6/site-packages/GPy/kern/src/stationary.py:138: RuntimeWarning:invalid value encountered in add\n"
     ]
    },
    {
     "name": "stdout",
     "output_type": "stream",
     "text": [
      "Optimization restart 5/5, f = -1124.319540547393\n",
      "Optimization restart 1/5, f = -919.7749050834539\n",
      "Optimization restart 2/5, f = -901.8144420139349\n",
      "Optimization restart 3/5, f = -982.798468593533\n",
      "Optimization restart 4/5, f = -901.5414620120628\n",
      "Optimization restart 5/5, f = -1053.2378044530321\n",
      "Optimization restart 1/5, f = -902.0966723528832\n",
      "Optimization restart 2/5, f = -902.3093944600245\n",
      "Optimization restart 3/5, f = -919.8345473906975\n",
      "Optimization restart 4/5, f = -919.9129161651394\n",
      "Optimization restart 5/5, f = -901.9318887242587\n",
      "(97, 1)\n",
      "r2 score for multifidelity linear 0.959422767614186\n",
      "mse for multifidelity linear 0.00015586776555830676\n",
      "(97, 1)\n",
      "r2 score for multifidelity nonlinear 0.9516817607491015\n",
      "mse for multifidelity nonlinear 0.00018560299815771058\n",
      "(97, 1)\n",
      "r2 score for standard GP 0.9455767850994174\n",
      "mse for standard GP 0.0002090538068342725\n",
      "Optimization restart 1/5, f = -2854.1689799065175\n"
     ]
    },
    {
     "name": "stderr",
     "output_type": "stream",
     "text": [
      " /Users/dananjayaliyanage/miniconda3/envs/parton_loss/lib/python3.6/site-packages/GPy/kern/src/stationary.py:165: RuntimeWarning:overflow encountered in true_divide\n",
      " /Users/dananjayaliyanage/miniconda3/envs/parton_loss/lib/python3.6/site-packages/GPy/kern/src/stationary.py:166: RuntimeWarning:overflow encountered in true_divide\n",
      " /Users/dananjayaliyanage/miniconda3/envs/parton_loss/lib/python3.6/site-packages/GPy/kern/src/stationary.py:144: RuntimeWarning:overflow encountered in square\n",
      " /Users/dananjayaliyanage/miniconda3/envs/parton_loss/lib/python3.6/site-packages/GPy/kern/src/stationary.py:145: RuntimeWarning:overflow encountered in square\n",
      " /Users/dananjayaliyanage/miniconda3/envs/parton_loss/lib/python3.6/site-packages/GPy/kern/src/stationary.py:146: RuntimeWarning:invalid value encountered in add\n"
     ]
    },
    {
     "name": "stdout",
     "output_type": "stream",
     "text": [
      "Optimization restart 2/5, f = -2485.256471355654\n",
      "Optimization restart 3/5, f = -2479.6577874753975\n",
      "Optimization restart 4/5, f = -2476.3959914786888\n",
      "Optimization restart 5/5, f = -2337.6446093618792\n",
      "Optimization restart 1/5, f = -1124.2898443377699\n",
      "Optimization restart 2/5, f = -1124.1821896886547\n",
      "Optimization restart 3/5, f = -1124.0595476168137\n",
      "Optimization restart 4/5, f = -1124.094081113191\n",
      "Optimization restart 5/5, f = -1124.1274804765942\n",
      "Optimization restart 1/5, f = -1099.6778559504974\n",
      "Optimization restart 2/5, f = -1053.4592671704904\n",
      "Optimization restart 3/5, f = -1053.9145028338537\n"
     ]
    },
    {
     "name": "stderr",
     "output_type": "stream",
     "text": [
      " /Users/dananjayaliyanage/miniconda3/envs/parton_loss/lib/python3.6/site-packages/GPy/kern/src/stationary.py:137: RuntimeWarning:overflow encountered in square\n",
      " /Users/dananjayaliyanage/miniconda3/envs/parton_loss/lib/python3.6/site-packages/GPy/kern/src/stationary.py:138: RuntimeWarning:invalid value encountered in add\n",
      " /Users/dananjayaliyanage/miniconda3/envs/parton_loss/lib/python3.6/site-packages/GPy/kern/src/rbf.py:52: RuntimeWarning:overflow encountered in square\n"
     ]
    },
    {
     "name": "stdout",
     "output_type": "stream",
     "text": [
      "Optimization restart 4/5, f = -1155.6908687231528\n",
      "Optimization restart 5/5, f = -1116.1420596863215\n",
      "Optimization restart 1/5, f = -955.1894022250995\n",
      "Optimization restart 2/5, f = -978.7046487971177\n",
      "Optimization restart 3/5, f = -955.4868012736322\n",
      "Optimization restart 4/5, f = -955.0977425596969\n",
      "Optimization restart 5/5, f = -954.7973070275441\n",
      "(97, 1)\n",
      "r2 score for multifidelity linear 0.9587947655025841\n",
      "mse for multifidelity linear 0.00015828008596918588\n",
      "(97, 1)\n",
      "r2 score for multifidelity nonlinear 0.9523090594285015\n",
      "mse for multifidelity nonlinear 0.00018319337981395297\n",
      "(97, 1)\n",
      "r2 score for standard GP 0.9444422314743325\n",
      "mse for standard GP 0.0002134119241343054\n",
      "Optimization restart 1/5, f = -2957.432708634526\n",
      "Optimization restart 2/5, f = -2567.758045416275\n"
     ]
    },
    {
     "name": "stderr",
     "output_type": "stream",
     "text": [
      " /Users/dananjayaliyanage/miniconda3/envs/parton_loss/lib/python3.6/site-packages/GPy/kern/src/stationary.py:165: RuntimeWarning:overflow encountered in true_divide\n",
      " /Users/dananjayaliyanage/miniconda3/envs/parton_loss/lib/python3.6/site-packages/GPy/kern/src/stationary.py:166: RuntimeWarning:overflow encountered in true_divide\n",
      " /Users/dananjayaliyanage/miniconda3/envs/parton_loss/lib/python3.6/site-packages/GPy/kern/src/stationary.py:144: RuntimeWarning:overflow encountered in square\n",
      " /Users/dananjayaliyanage/miniconda3/envs/parton_loss/lib/python3.6/site-packages/GPy/kern/src/stationary.py:145: RuntimeWarning:overflow encountered in square\n",
      " /Users/dananjayaliyanage/miniconda3/envs/parton_loss/lib/python3.6/site-packages/GPy/kern/src/stationary.py:146: RuntimeWarning:invalid value encountered in add\n"
     ]
    },
    {
     "name": "stdout",
     "output_type": "stream",
     "text": [
      "Optimization restart 3/5, f = -2582.3326273669113\n"
     ]
    },
    {
     "name": "stderr",
     "output_type": "stream",
     "text": [
      " /Users/dananjayaliyanage/miniconda3/envs/parton_loss/lib/python3.6/site-packages/GPy/kern/src/stationary.py:243: RuntimeWarning:invalid value encountered in true_divide\n"
     ]
    },
    {
     "name": "stdout",
     "output_type": "stream",
     "text": [
      "Optimization restart 4/5, f = -2426.1226265125842\n",
      "Optimization restart 5/5, f = -2577.3523234549816\n",
      "Optimization restart 1/5, f = -1124.2898443377699\n"
     ]
    },
    {
     "name": "stderr",
     "output_type": "stream",
     "text": [
      " /Users/dananjayaliyanage/miniconda3/envs/parton_loss/lib/python3.6/site-packages/GPy/kern/src/stationary.py:137: RuntimeWarning:overflow encountered in square\n",
      " /Users/dananjayaliyanage/miniconda3/envs/parton_loss/lib/python3.6/site-packages/GPy/kern/src/stationary.py:138: RuntimeWarning:invalid value encountered in add\n"
     ]
    },
    {
     "name": "stdout",
     "output_type": "stream",
     "text": [
      "Optimization restart 2/5, f = -1123.1451023480151\n",
      "Optimization restart 3/5, f = -1124.0706644556244\n",
      "Optimization restart 4/5, f = -1124.0322832840034\n",
      "Optimization restart 5/5, f = -1124.33678939614\n",
      "Optimization restart 1/5, f = -1156.9733315821222\n"
     ]
    },
    {
     "name": "stderr",
     "output_type": "stream",
     "text": [
      " /Users/dananjayaliyanage/miniconda3/envs/parton_loss/lib/python3.6/site-packages/GPy/kern/src/rbf.py:76: RuntimeWarning:invalid value encountered in multiply\n"
     ]
    },
    {
     "name": "stdout",
     "output_type": "stream",
     "text": [
      "Optimization restart 2/5, f = -1202.7190343705618\n",
      "Optimization restart 3/5, f = -1198.7813764369396\n",
      "Optimization restart 4/5, f = -1157.03735610459\n",
      "Optimization restart 5/5, f = -1200.2868677424485\n",
      "Optimization restart 1/5, f = -1001.6976003149924\n",
      "Optimization restart 2/5, f = -1026.309393972744\n",
      "Optimization restart 3/5, f = -1001.6436335786477\n",
      "Optimization restart 4/5, f = -1001.6720800430726\n",
      "Optimization restart 5/5, f = -1001.6779522911011\n",
      "(97, 1)\n",
      "r2 score for multifidelity linear 0.9582162770348133\n",
      "mse for multifidelity linear 0.00016050221152016857\n",
      "(97, 1)\n",
      "r2 score for multifidelity nonlinear 0.9446914845003578\n",
      "mse for multifidelity nonlinear 0.0002124544780508511\n",
      "(97, 1)\n",
      "r2 score for standard GP 0.9553050947097618\n",
      "mse for standard GP 0.0001716848244648914\n",
      "Optimization restart 1/5, f = -3056.044792530572\n",
      "Optimization restart 2/5, f = -2506.070642583041\n"
     ]
    },
    {
     "name": "stderr",
     "output_type": "stream",
     "text": [
      " /Users/dananjayaliyanage/miniconda3/envs/parton_loss/lib/python3.6/site-packages/GPy/kern/src/stationary.py:243: RuntimeWarning:invalid value encountered in true_divide\n"
     ]
    },
    {
     "name": "stdout",
     "output_type": "stream",
     "text": [
      "Optimization restart 3/5, f = -2592.862560061607\n",
      "Optimization restart 4/5, f = -2584.666518808407\n"
     ]
    },
    {
     "name": "stderr",
     "output_type": "stream",
     "text": [
      " /Users/dananjayaliyanage/miniconda3/envs/parton_loss/lib/python3.6/site-packages/GPy/kern/src/stationary.py:165: RuntimeWarning:overflow encountered in true_divide\n",
      " /Users/dananjayaliyanage/miniconda3/envs/parton_loss/lib/python3.6/site-packages/GPy/kern/src/stationary.py:166: RuntimeWarning:overflow encountered in true_divide\n",
      " /Users/dananjayaliyanage/miniconda3/envs/parton_loss/lib/python3.6/site-packages/GPy/kern/src/stationary.py:144: RuntimeWarning:overflow encountered in square\n",
      " /Users/dananjayaliyanage/miniconda3/envs/parton_loss/lib/python3.6/site-packages/GPy/kern/src/stationary.py:145: RuntimeWarning:overflow encountered in square\n",
      " /Users/dananjayaliyanage/miniconda3/envs/parton_loss/lib/python3.6/site-packages/GPy/kern/src/stationary.py:146: RuntimeWarning:invalid value encountered in add\n",
      " /Users/dananjayaliyanage/miniconda3/envs/parton_loss/lib/python3.6/site-packages/GPy/kern/src/rbf.py:76: RuntimeWarning:invalid value encountered in multiply\n"
     ]
    },
    {
     "name": "stdout",
     "output_type": "stream",
     "text": [
      "Optimization restart 5/5, f = -2652.977358870744\n",
      "Optimization restart 1/5, f = -1124.2898443377699\n",
      "Optimization restart 2/5, f = -1124.0928480707335\n",
      "Optimization restart 3/5, f = -1124.108129332468\n",
      "Optimization restart 4/5, f = -1123.974862993606\n",
      "Optimization restart 5/5, f = -1124.0203470504168\n",
      "Optimization restart 1/5, f = -1216.4436888546397\n",
      "Optimization restart 2/5, f = -1160.7730332133692\n",
      "Optimization restart 3/5, f = -1162.1035119215003\n"
     ]
    },
    {
     "name": "stderr",
     "output_type": "stream",
     "text": [
      " /Users/dananjayaliyanage/miniconda3/envs/parton_loss/lib/python3.6/site-packages/GPy/kern/src/stationary.py:137: RuntimeWarning:overflow encountered in square\n",
      " /Users/dananjayaliyanage/miniconda3/envs/parton_loss/lib/python3.6/site-packages/GPy/kern/src/stationary.py:138: RuntimeWarning:invalid value encountered in add\n"
     ]
    },
    {
     "name": "stdout",
     "output_type": "stream",
     "text": [
      "Optimization restart 4/5, f = -1272.687719248695\n",
      "Optimization restart 5/5, f = -1233.5226360869824\n",
      "Optimization restart 1/5, f = -1058.5500263199892\n",
      "Optimization restart 2/5, f = -1008.0984246760197\n",
      "Optimization restart 3/5, f = -1058.5144781178738\n",
      "Optimization restart 4/5, f = -1058.4973785773127\n",
      "Optimization restart 5/5, f = -1058.5105800928031\n",
      "(97, 1)\n",
      "r2 score for multifidelity linear 0.957586527083524\n",
      "mse for multifidelity linear 0.0001629212458405633\n",
      "(97, 1)\n",
      "r2 score for multifidelity nonlinear 0.9501579166360268\n",
      "mse for multifidelity nonlinear 0.0001914564820697176\n",
      "(97, 1)\n",
      "r2 score for standard GP 0.9595291644075391\n",
      "mse for standard GP 0.00015545906763911804\n",
      "Optimization restart 1/5, f = -3149.380649471026\n",
      "Optimization restart 2/5, f = -2755.4899027308884\n",
      "Optimization restart 3/5, f = -3198.9929531504285\n",
      "Optimization restart 4/5, f = -2732.0179176363235\n"
     ]
    },
    {
     "name": "stderr",
     "output_type": "stream",
     "text": [
      " /Users/dananjayaliyanage/miniconda3/envs/parton_loss/lib/python3.6/site-packages/GPy/kern/src/stationary.py:243: RuntimeWarning:invalid value encountered in true_divide\n"
     ]
    },
    {
     "name": "stdout",
     "output_type": "stream",
     "text": [
      "Optimization restart 5/5, f = -2681.9309634432593\n",
      "Optimization restart 1/5, f = -1124.2898443377699\n",
      "Optimization restart 2/5, f = -1124.0508689217138\n",
      "Optimization restart 3/5, f = -1124.046249063741\n",
      "Optimization restart 4/5, f = -1124.4436382503986\n",
      "Optimization restart 5/5, f = -1124.1159729513101\n",
      "Optimization restart 1/5, f = -1135.9789292935902\n",
      "Optimization restart 2/5, f = -1293.5050824167897\n",
      "Optimization restart 3/5, f = -1135.8898929082684\n",
      "Optimization restart 4/5, f = -1135.8906579445684\n",
      "Optimization restart 5/5, f = -1164.2098891067476\n",
      "Optimization restart 1/5, f = -1135.864703571986\n",
      "Optimization restart 2/5, f = -1163.8503996040672\n",
      "Optimization restart 3/5, f = -1135.9492188276317\n",
      "Optimization restart 4/5, f = -1164.048590650441\n",
      "Optimization restart 5/5, f = -1135.9111586202769\n",
      "(97, 1)\n",
      "r2 score for multifidelity linear 0.9616569669244058\n",
      "mse for multifidelity linear 0.00014728562148833273\n",
      "(97, 1)\n",
      "r2 score for multifidelity nonlinear 0.963089105241304\n",
      "mse for multifidelity nonlinear 0.0001417844035318464\n",
      "(97, 1)\n",
      "r2 score for standard GP 0.9617147572056937\n",
      "mse for standard GP 0.00014706363389860078\n",
      "Optimization restart 1/5, f = -1232.5282777515379\n",
      "Optimization restart 2/5, f = -1262.0464901705477\n",
      "Optimization restart 3/5, f = -1259.127507732543\n",
      "Optimization restart 4/5, f = -1253.3584247053586\n",
      "Optimization restart 5/5, f = -1215.1269922119\n",
      "Optimization restart 1/5, f = -1132.3331853821935\n",
      "Optimization restart 2/5, f = -1132.490762056474\n",
      "Optimization restart 3/5, f = -1132.4804125937028\n",
      "Optimization restart 4/5, f = -1132.6032413857279\n",
      "Optimization restart 5/5, f = -1132.3524338432273\n",
      "Optimization restart 1/5, f = -57.07068080400386\n",
      "Optimization restart 2/5, f = -54.799903995963305\n",
      "Optimization restart 3/5, f = -71.59409459132837\n",
      "Optimization restart 4/5, f = -56.386964688537155\n",
      "Optimization restart 5/5, f = -70.85119649699193\n"
     ]
    },
    {
     "name": "stderr",
     "output_type": "stream",
     "text": [
      " /Users/dananjayaliyanage/miniconda3/envs/parton_loss/lib/python3.6/site-packages/GPy/kern/src/stationary.py:243: RuntimeWarning:invalid value encountered in true_divide\n"
     ]
    },
    {
     "name": "stdout",
     "output_type": "stream",
     "text": [
      "Optimization restart 1/5, f = -54.92685461946431\n",
      "Optimization restart 2/5, f = -55.65602479254734\n",
      "Optimization restart 3/5, f = -56.824767260890226\n",
      "Optimization restart 4/5, f = -53.688370623218674\n",
      "Optimization restart 5/5, f = -56.385875920886676\n",
      "(97, 1)\n",
      "r2 score for multifidelity linear 0.9676740356019329\n",
      "mse for multifidelity linear 0.00016994522910195354\n",
      "(97, 1)\n",
      "r2 score for multifidelity nonlinear 0.6863373365193661\n",
      "mse for multifidelity nonlinear 0.0016489986980599595\n",
      "(97, 1)\n",
      "r2 score for standard GP -1.4005675576948189\n",
      "mse for standard GP 0.012620350580833918\n",
      "Optimization restart 1/5, f = -1319.5788754160812\n",
      "Optimization restart 2/5, f = -1317.146407744716\n",
      "Optimization restart 3/5, f = -1316.1683038229185\n",
      "Optimization restart 4/5, f = -1296.2000882145808\n",
      "Optimization restart 5/5, f = -1320.0178450318172\n",
      "Optimization restart 1/5, f = -1132.3331853821935\n",
      "Optimization restart 2/5, f = -1132.6627411244322\n",
      "Optimization restart 3/5, f = -1132.8646581721678\n",
      "Optimization restart 4/5, f = -1132.891863938599\n",
      "Optimization restart 5/5, f = -1132.2746151184974\n"
     ]
    },
    {
     "name": "stderr",
     "output_type": "stream",
     "text": [
      " /Users/dananjayaliyanage/miniconda3/envs/parton_loss/lib/python3.6/site-packages/GPy/kern/src/stationary.py:243: RuntimeWarning:invalid value encountered in true_divide\n"
     ]
    },
    {
     "name": "stdout",
     "output_type": "stream",
     "text": [
      "Optimization restart 1/5, f = -109.6759016645503\n",
      "Optimization restart 2/5, f = -113.50422982580267\n",
      "Optimization restart 3/5, f = -139.01471217827213\n",
      "Optimization restart 4/5, f = -127.64777282169281\n",
      "Optimization restart 5/5, f = -113.33816575163846\n"
     ]
    },
    {
     "name": "stderr",
     "output_type": "stream",
     "text": [
      " /Users/dananjayaliyanage/miniconda3/envs/parton_loss/lib/python3.6/site-packages/GPy/kern/src/stationary.py:137: RuntimeWarning:overflow encountered in square\n",
      " /Users/dananjayaliyanage/miniconda3/envs/parton_loss/lib/python3.6/site-packages/GPy/kern/src/stationary.py:138: RuntimeWarning:invalid value encountered in add\n",
      " /Users/dananjayaliyanage/miniconda3/envs/parton_loss/lib/python3.6/site-packages/GPy/kern/src/stationary.py:166: RuntimeWarning:overflow encountered in true_divide\n"
     ]
    },
    {
     "name": "stdout",
     "output_type": "stream",
     "text": [
      "Optimization restart 1/5, f = -113.44575358597194\n",
      "Optimization restart 2/5, f = -113.33967986544017\n",
      "Optimization restart 3/5, f = -113.31833870545617\n",
      "Optimization restart 4/5, f = -82.16148779228934\n",
      "Optimization restart 5/5, f = -113.33422792253381\n",
      "(97, 1)\n",
      "r2 score for multifidelity linear 0.9697551562513664\n",
      "mse for multifidelity linear 0.00015900428636002748\n",
      "(97, 1)\n",
      "r2 score for multifidelity nonlinear -0.037125498544218205\n",
      "mse for multifidelity nonlinear 0.005452413678588157\n",
      "(97, 1)\n",
      "r2 score for standard GP 0.47043404247692566\n",
      "mse for standard GP 0.002784053303642056\n",
      "Optimization restart 1/5, f = -1398.640195596236\n"
     ]
    },
    {
     "name": "stderr",
     "output_type": "stream",
     "text": [
      " /Users/dananjayaliyanage/miniconda3/envs/parton_loss/lib/python3.6/site-packages/GPy/kern/src/stationary.py:144: RuntimeWarning:overflow encountered in square\n",
      " /Users/dananjayaliyanage/miniconda3/envs/parton_loss/lib/python3.6/site-packages/GPy/kern/src/stationary.py:145: RuntimeWarning:overflow encountered in square\n",
      " /Users/dananjayaliyanage/miniconda3/envs/parton_loss/lib/python3.6/site-packages/GPy/kern/src/stationary.py:146: RuntimeWarning:invalid value encountered in add\n",
      " /Users/dananjayaliyanage/miniconda3/envs/parton_loss/lib/python3.6/site-packages/GPy/kern/src/stationary.py:165: RuntimeWarning:overflow encountered in true_divide\n",
      " /Users/dananjayaliyanage/miniconda3/envs/parton_loss/lib/python3.6/site-packages/GPy/kern/src/stationary.py:166: RuntimeWarning:overflow encountered in true_divide\n"
     ]
    },
    {
     "name": "stdout",
     "output_type": "stream",
     "text": [
      "Optimization restart 2/5, f = -1387.7747389245753\n",
      "Optimization restart 3/5, f = -1397.2167415082104\n",
      "Optimization restart 4/5, f = -1445.6048516571545\n",
      "Optimization restart 5/5, f = -1303.1581206246196\n",
      "Optimization restart 1/5, f = -1132.3331853821935\n",
      "Optimization restart 2/5, f = -1132.68701266181\n"
     ]
    },
    {
     "name": "stderr",
     "output_type": "stream",
     "text": [
      " /Users/dananjayaliyanage/miniconda3/envs/parton_loss/lib/python3.6/site-packages/GPy/kern/src/stationary.py:137: RuntimeWarning:overflow encountered in square\n",
      " /Users/dananjayaliyanage/miniconda3/envs/parton_loss/lib/python3.6/site-packages/GPy/kern/src/stationary.py:138: RuntimeWarning:invalid value encountered in add\n",
      " /Users/dananjayaliyanage/miniconda3/envs/parton_loss/lib/python3.6/site-packages/GPy/kern/src/rbf.py:76: RuntimeWarning:invalid value encountered in multiply\n"
     ]
    },
    {
     "name": "stdout",
     "output_type": "stream",
     "text": [
      "Optimization restart 3/5, f = -1133.1435111770352\n",
      "Optimization restart 4/5, f = -1132.6548963730143\n",
      "Optimization restart 5/5, f = -1132.3607887272979\n",
      "Optimization restart 1/5, f = -164.73569641803164\n",
      "Optimization restart 2/5, f = -214.01046801707432\n",
      "Optimization restart 3/5, f = -215.3840402066355\n",
      "Optimization restart 4/5, f = -213.07927728982577\n",
      "Optimization restart 5/5, f = -219.28087478717828\n",
      "Optimization restart 1/5, f = -167.56393595966256\n",
      "Optimization restart 2/5, f = -167.5804502503939\n",
      "Optimization restart 3/5, f = -167.53843926806118\n",
      "Optimization restart 4/5, f = -167.70117871591754\n",
      "Optimization restart 5/5, f = -164.6929446106514\n",
      "(97, 1)\n",
      "r2 score for multifidelity linear 0.9713145830591768\n",
      "mse for multifidelity linear 0.00015080601134933943\n",
      "(97, 1)\n",
      "r2 score for multifidelity nonlinear 0.946800307850494\n",
      "mse for multifidelity nonlinear 0.0002796833455351387\n",
      "(97, 1)\n",
      "r2 score for standard GP 0.7454549102134012\n",
      "mse for standard GP 0.001338203651648749\n",
      "Optimization restart 1/5, f = -1559.6090098739642\n",
      "Optimization restart 2/5, f = -1548.0500151227977\n",
      "Optimization restart 3/5, f = -1563.196379833109\n",
      "Optimization restart 4/5, f = 91.56958797383362\n",
      "Optimization restart 5/5, f = -1468.9394474447656\n",
      "Optimization restart 1/5, f = -1132.3331853821935\n",
      "Optimization restart 2/5, f = -1132.1972770544194\n",
      "Optimization restart 3/5, f = -1132.7703878839136\n",
      "Optimization restart 4/5, f = -1132.7031194030658\n",
      "Optimization restart 5/5, f = -1132.3979302958683\n",
      "Optimization restart 1/5, f = -225.7236949337518\n",
      "Optimization restart 2/5, f = -228.9572492817781\n",
      "Optimization restart 3/5, f = -271.58373187116274\n",
      "Optimization restart 4/5, f = -224.959304272704\n",
      "Optimization restart 5/5, f = -225.1365507512033\n",
      "Optimization restart 1/5, f = -225.0596229060347\n",
      "Optimization restart 2/5, f = -224.84122715938076\n",
      "Optimization restart 3/5, f = -226.06621615532856\n",
      "Optimization restart 4/5, f = -224.69672132997533\n",
      "Optimization restart 5/5, f = -224.57310194226875\n",
      "(97, 1)\n",
      "r2 score for multifidelity linear 0.968483381389156\n",
      "mse for multifidelity linear 0.0001656903071593756\n",
      "(97, 1)\n",
      "r2 score for multifidelity nonlinear 0.708314297165777\n",
      "mse for multifidelity nonlinear 0.0015334606257529117\n",
      "(97, 1)\n",
      "r2 score for standard GP 0.7789318394937261\n",
      "mse for standard GP 0.0011622075283431465\n",
      "Optimization restart 1/5, f = -1661.300607891856\n",
      "Optimization restart 2/5, f = -1558.846041784492\n"
     ]
    },
    {
     "name": "stderr",
     "output_type": "stream",
     "text": [
      " /Users/dananjayaliyanage/miniconda3/envs/parton_loss/lib/python3.6/site-packages/GPy/kern/src/stationary.py:243: RuntimeWarning:invalid value encountered in true_divide\n"
     ]
    },
    {
     "name": "stdout",
     "output_type": "stream",
     "text": [
      "Optimization restart 3/5, f = -1559.7588447844762\n",
      "Optimization restart 4/5, f = -1545.899815356735\n",
      "Optimization restart 5/5, f = -1544.0207642127934\n",
      "Optimization restart 1/5, f = -1132.3331853821935\n",
      "Optimization restart 2/5, f = -1132.594520010223\n",
      "Optimization restart 3/5, f = -1133.0113875298537\n",
      "Optimization restart 4/5, f = -1132.2369899584605\n",
      "Optimization restart 5/5, f = -1132.4694060122765\n",
      "Optimization restart 1/5, f = -288.6744559275945\n",
      "Optimization restart 2/5, f = -288.7118426442163\n",
      "Optimization restart 3/5, f = -295.3800835226353\n",
      "Optimization restart 4/5, f = -326.55943469334215\n",
      "Optimization restart 5/5, f = -286.02950379284704\n",
      "Optimization restart 1/5, f = -286.0281465518817\n",
      "Optimization restart 2/5, f = -286.0259647074\n",
      "Optimization restart 3/5, f = -286.0342089777684\n",
      "Optimization restart 4/5, f = -286.42482433611906\n",
      "Optimization restart 5/5, f = -286.02858353852184\n",
      "(97, 1)\n",
      "r2 score for multifidelity linear 0.9703706654167715\n",
      "mse for multifidelity linear 0.0001557684093157721\n",
      "(97, 1)\n",
      "r2 score for multifidelity nonlinear 0.7662797387333488\n",
      "mse for multifidelity nonlinear 0.0012287226100238002\n",
      "(97, 1)\n",
      "r2 score for standard GP 0.8458813730949857\n",
      "mse for standard GP 0.0008102380190648619\n",
      "Optimization restart 1/5, f = -1766.2704033444188\n"
     ]
    },
    {
     "name": "stderr",
     "output_type": "stream",
     "text": [
      " /Users/dananjayaliyanage/miniconda3/envs/parton_loss/lib/python3.6/site-packages/GPy/kern/src/stationary.py:243: RuntimeWarning:invalid value encountered in true_divide\n"
     ]
    },
    {
     "name": "stdout",
     "output_type": "stream",
     "text": [
      "Optimization restart 2/5, f = -1459.9377096166304\n",
      "Optimization restart 3/5, f = -1765.573330033631\n",
      "Optimization restart 4/5, f = -1750.7073629344811\n",
      "Optimization restart 5/5, f = -1616.9218368018642\n",
      "Optimization restart 1/5, f = -1132.3331853821935\n",
      "Optimization restart 2/5, f = -1132.169748009282\n",
      "Optimization restart 3/5, f = -1132.3297395169632\n",
      "Optimization restart 4/5, f = -1078.7292450009215\n"
     ]
    },
    {
     "name": "stderr",
     "output_type": "stream",
     "text": [
      " /Users/dananjayaliyanage/miniconda3/envs/parton_loss/lib/python3.6/site-packages/GPy/kern/src/stationary.py:137: RuntimeWarning:overflow encountered in square\n",
      " /Users/dananjayaliyanage/miniconda3/envs/parton_loss/lib/python3.6/site-packages/GPy/kern/src/stationary.py:138: RuntimeWarning:invalid value encountered in add\n",
      " /Users/dananjayaliyanage/miniconda3/envs/parton_loss/lib/python3.6/site-packages/GPy/kern/src/stationary.py:166: RuntimeWarning:overflow encountered in true_divide\n"
     ]
    },
    {
     "name": "stdout",
     "output_type": "stream",
     "text": [
      "Optimization restart 5/5, f = -1131.928019847659\n",
      "Optimization restart 1/5, f = -348.3648932972736\n",
      "Optimization restart 2/5, f = -413.65838283983885\n",
      "Optimization restart 3/5, f = -393.2018155427907\n",
      "Optimization restart 4/5, f = -394.38767550225566\n",
      "Optimization restart 5/5, f = -348.4394798190853\n",
      "Optimization restart 1/5, f = -348.30980932922705\n",
      "Optimization restart 2/5, f = -348.66539335172865\n",
      "Optimization restart 3/5, f = -348.66581770637396\n",
      "Optimization restart 4/5, f = -348.583080353086\n",
      "Optimization restart 5/5, f = -348.6380660967599\n",
      "(97, 1)\n",
      "r2 score for multifidelity linear 0.970192834747886\n",
      "mse for multifidelity linear 0.00015670330713948326\n",
      "(97, 1)\n",
      "r2 score for multifidelity nonlinear 0.7779429131866158\n",
      "mse for multifidelity nonlinear 0.0011674065474894053\n",
      "(97, 1)\n",
      "r2 score for standard GP 0.7792561462147023\n",
      "mse for standard GP 0.0011605025713210789\n",
      "Optimization restart 1/5, f = -1863.0688970425751\n"
     ]
    },
    {
     "name": "stderr",
     "output_type": "stream",
     "text": [
      " /Users/dananjayaliyanage/miniconda3/envs/parton_loss/lib/python3.6/site-packages/GPy/kern/src/stationary.py:144: RuntimeWarning:overflow encountered in square\n",
      " /Users/dananjayaliyanage/miniconda3/envs/parton_loss/lib/python3.6/site-packages/GPy/kern/src/stationary.py:145: RuntimeWarning:overflow encountered in square\n",
      " /Users/dananjayaliyanage/miniconda3/envs/parton_loss/lib/python3.6/site-packages/GPy/kern/src/stationary.py:146: RuntimeWarning:invalid value encountered in add\n",
      " /Users/dananjayaliyanage/miniconda3/envs/parton_loss/lib/python3.6/site-packages/GPy/kern/src/stationary.py:165: RuntimeWarning:overflow encountered in true_divide\n",
      " /Users/dananjayaliyanage/miniconda3/envs/parton_loss/lib/python3.6/site-packages/GPy/kern/src/stationary.py:166: RuntimeWarning:overflow encountered in true_divide\n"
     ]
    },
    {
     "name": "stdout",
     "output_type": "stream",
     "text": [
      "Optimization restart 2/5, f = -1723.0835674024022\n",
      "Optimization restart 3/5, f = -1714.300554937583\n",
      "Optimization restart 4/5, f = -1699.439569112948\n",
      "Optimization restart 5/5, f = -1632.5332939043549\n",
      "Optimization restart 1/5, f = -1132.3331853821935\n",
      "Optimization restart 2/5, f = -1131.9625834540493\n",
      "Optimization restart 3/5, f = -1132.4814779835212\n",
      "Optimization restart 4/5, f = -1132.596075799442\n",
      "Optimization restart 5/5, f = -1132.5823171720172\n",
      "Optimization restart 1/5, f = -389.90470795746626\n",
      "Optimization restart 2/5, f = -422.2997267420998\n"
     ]
    },
    {
     "name": "stderr",
     "output_type": "stream",
     "text": [
      " /Users/dananjayaliyanage/miniconda3/envs/parton_loss/lib/python3.6/site-packages/GPy/kern/src/stationary.py:137: RuntimeWarning:overflow encountered in square\n",
      " /Users/dananjayaliyanage/miniconda3/envs/parton_loss/lib/python3.6/site-packages/GPy/kern/src/stationary.py:138: RuntimeWarning:invalid value encountered in add\n",
      " /Users/dananjayaliyanage/miniconda3/envs/parton_loss/lib/python3.6/site-packages/GPy/kern/src/rbf.py:52: RuntimeWarning:overflow encountered in square\n"
     ]
    },
    {
     "name": "stdout",
     "output_type": "stream",
     "text": [
      "Optimization restart 3/5, f = -463.7513622245453\n",
      "Optimization restart 4/5, f = -458.58248170776267\n",
      "Optimization restart 5/5, f = -390.05014216444476\n"
     ]
    },
    {
     "name": "stderr",
     "output_type": "stream",
     "text": [
      " /Users/dananjayaliyanage/miniconda3/envs/parton_loss/lib/python3.6/site-packages/GPy/kern/src/rbf.py:76: RuntimeWarning:invalid value encountered in multiply\n",
      " /Users/dananjayaliyanage/miniconda3/envs/parton_loss/lib/python3.6/site-packages/GPy/kern/src/stationary.py:243: RuntimeWarning:invalid value encountered in true_divide\n"
     ]
    },
    {
     "name": "stdout",
     "output_type": "stream",
     "text": [
      "Optimization restart 1/5, f = -387.6374521901887\n",
      "Optimization restart 2/5, f = -397.7541704658525\n",
      "Optimization restart 3/5, f = -389.9440209193313\n",
      "Optimization restart 4/5, f = -356.716440747715\n",
      "Optimization restart 5/5, f = -390.0810795794281\n",
      "(97, 1)\n",
      "r2 score for multifidelity linear 0.9706556036205924\n",
      "mse for multifidelity linear 0.00015427042188585524\n",
      "(97, 1)\n",
      "r2 score for multifidelity nonlinear 0.8559819941258757\n",
      "mse for multifidelity nonlinear 0.0007571366688923286\n",
      "(97, 1)\n",
      "r2 score for standard GP 0.8955668038789009\n",
      "mse for standard GP 0.0005490299754741626\n",
      "Optimization restart 1/5, f = -1970.2846917939105\n",
      "Optimization restart 2/5, f = -1788.5220421258691\n",
      "Optimization restart 3/5, f = -1807.8624934097693\n",
      "Optimization restart 4/5, f = -1505.758748004244\n"
     ]
    },
    {
     "name": "stderr",
     "output_type": "stream",
     "text": [
      " /Users/dananjayaliyanage/miniconda3/envs/parton_loss/lib/python3.6/site-packages/GPy/kern/src/stationary.py:243: RuntimeWarning:invalid value encountered in true_divide\n"
     ]
    },
    {
     "name": "stdout",
     "output_type": "stream",
     "text": [
      "Optimization restart 5/5, f = -1702.6198371526857\n",
      "Optimization restart 1/5, f = -1132.3331853821935\n",
      "Optimization restart 2/5, f = -1132.301221129877\n",
      "Optimization restart 3/5, f = -1132.4620215679345\n",
      "Optimization restart 4/5, f = -1132.2520413899383\n",
      "Optimization restart 5/5, f = -1131.8623068812603\n",
      "Optimization restart 1/5, f = -453.57783774728\n",
      "Optimization restart 2/5, f = -505.0255273840501\n",
      "Optimization restart 3/5, f = -453.645971666426\n",
      "Optimization restart 4/5, f = -514.2122793785071\n",
      "Optimization restart 5/5, f = -453.66306026129706\n"
     ]
    },
    {
     "name": "stderr",
     "output_type": "stream",
     "text": [
      " /Users/dananjayaliyanage/miniconda3/envs/parton_loss/lib/python3.6/site-packages/GPy/kern/src/stationary.py:137: RuntimeWarning:overflow encountered in square\n",
      " /Users/dananjayaliyanage/miniconda3/envs/parton_loss/lib/python3.6/site-packages/GPy/kern/src/stationary.py:138: RuntimeWarning:invalid value encountered in add\n",
      " /Users/dananjayaliyanage/miniconda3/envs/parton_loss/lib/python3.6/site-packages/GPy/kern/src/rbf.py:76: RuntimeWarning:invalid value encountered in multiply\n",
      " /Users/dananjayaliyanage/miniconda3/envs/parton_loss/lib/python3.6/site-packages/GPy/kern/src/stationary.py:166: RuntimeWarning:overflow encountered in true_divide\n"
     ]
    },
    {
     "name": "stdout",
     "output_type": "stream",
     "text": [
      "Optimization restart 1/5, f = -452.1532505596738\n",
      "Optimization restart 2/5, f = -452.1614605215624\n",
      "Optimization restart 3/5, f = -453.6614845854749\n",
      "Optimization restart 4/5, f = -428.65749137648754\n",
      "Optimization restart 5/5, f = -453.65767100900075\n",
      "(97, 1)\n",
      "r2 score for multifidelity linear 0.970425466021958\n",
      "mse for multifidelity linear 0.00015548030959232226\n",
      "(97, 1)\n",
      "r2 score for multifidelity nonlinear 0.876312992588524\n",
      "mse for multifidelity nonlinear 0.0006502518085039766\n",
      "(97, 1)\n",
      "r2 score for standard GP 0.9232031302050205\n",
      "mse for standard GP 0.00040373928124480177\n",
      "Optimization restart 1/5, f = -1934.995370894185\n",
      "Optimization restart 2/5, f = -2054.1533264522973\n"
     ]
    },
    {
     "name": "stderr",
     "output_type": "stream",
     "text": [
      " /Users/dananjayaliyanage/miniconda3/envs/parton_loss/lib/python3.6/site-packages/GPy/kern/src/stationary.py:243: RuntimeWarning:invalid value encountered in true_divide\n"
     ]
    },
    {
     "name": "stdout",
     "output_type": "stream",
     "text": [
      "Optimization restart 3/5, f = -1797.8594931136433\n",
      "Optimization restart 4/5, f = -1824.7454190726858\n",
      "Optimization restart 5/5, f = -1692.7663708405876\n",
      "Optimization restart 1/5, f = -1132.3331853821935\n",
      "Optimization restart 2/5, f = -1132.3554425899333\n",
      "Optimization restart 3/5, f = -1132.691465604235\n"
     ]
    },
    {
     "name": "stderr",
     "output_type": "stream",
     "text": [
      " /Users/dananjayaliyanage/miniconda3/envs/parton_loss/lib/python3.6/site-packages/GPy/kern/src/stationary.py:166: RuntimeWarning:overflow encountered in true_divide\n",
      " /Users/dananjayaliyanage/miniconda3/envs/parton_loss/lib/python3.6/site-packages/GPy/kern/src/stationary.py:137: RuntimeWarning:overflow encountered in square\n",
      " /Users/dananjayaliyanage/miniconda3/envs/parton_loss/lib/python3.6/site-packages/GPy/kern/src/stationary.py:138: RuntimeWarning:invalid value encountered in add\n"
     ]
    },
    {
     "name": "stdout",
     "output_type": "stream",
     "text": [
      "Optimization restart 4/5, f = -1132.8334614645673\n",
      "Optimization restart 5/5, f = -1132.1181571207435\n"
     ]
    },
    {
     "name": "stderr",
     "output_type": "stream",
     "text": [
      " /Users/dananjayaliyanage/miniconda3/envs/parton_loss/lib/python3.6/site-packages/GPy/kern/src/rbf.py:52: RuntimeWarning:overflow encountered in square\n"
     ]
    },
    {
     "name": "stdout",
     "output_type": "stream",
     "text": [
      "Optimization restart 1/5, f = -512.4159112440765\n",
      "Optimization restart 2/5, f = -512.1363338379156\n",
      "Optimization restart 3/5, f = -557.17097407458\n",
      "Optimization restart 4/5, f = -549.8141221172558\n",
      "Optimization restart 5/5, f = -512.5445458906075\n",
      "Optimization restart 1/5, f = -510.42066144247235\n",
      "Optimization restart 2/5, f = 129.24985030726768\n",
      "Optimization restart 3/5, f = -512.5082211012257\n",
      "Optimization restart 4/5, f = -512.2558824697724\n",
      "Optimization restart 5/5, f = -512.2191985017301\n",
      "(97, 1)\n",
      "r2 score for multifidelity linear 0.9681236497878198\n",
      "mse for multifidelity linear 0.0001675815011436127\n",
      "(97, 1)\n",
      "r2 score for multifidelity nonlinear 0.8621680428047458\n",
      "mse for multifidelity nonlinear 0.0007246151500593353\n",
      "(97, 1)\n",
      "r2 score for standard GP 0.9300059690449467\n",
      "mse for standard GP 0.0003679751508708897\n",
      "Optimization restart 1/5, f = -2168.064506899302\n",
      "Optimization restart 2/5, f = -1949.4108489296993\n",
      "Optimization restart 3/5, f = -1939.9099882399514\n"
     ]
    },
    {
     "name": "stderr",
     "output_type": "stream",
     "text": [
      " /Users/dananjayaliyanage/miniconda3/envs/parton_loss/lib/python3.6/site-packages/GPy/kern/src/stationary.py:144: RuntimeWarning:overflow encountered in square\n",
      " /Users/dananjayaliyanage/miniconda3/envs/parton_loss/lib/python3.6/site-packages/GPy/kern/src/stationary.py:145: RuntimeWarning:overflow encountered in square\n",
      " /Users/dananjayaliyanage/miniconda3/envs/parton_loss/lib/python3.6/site-packages/GPy/kern/src/stationary.py:146: RuntimeWarning:invalid value encountered in add\n",
      " /Users/dananjayaliyanage/miniconda3/envs/parton_loss/lib/python3.6/site-packages/GPy/kern/src/stationary.py:165: RuntimeWarning:overflow encountered in true_divide\n",
      " /Users/dananjayaliyanage/miniconda3/envs/parton_loss/lib/python3.6/site-packages/GPy/kern/src/stationary.py:166: RuntimeWarning:overflow encountered in true_divide\n"
     ]
    },
    {
     "name": "stdout",
     "output_type": "stream",
     "text": [
      "Optimization restart 4/5, f = -1929.896566506361\n",
      "Optimization restart 5/5, f = -1940.7020297307593\n",
      "Optimization restart 1/5, f = -1132.3331853821935\n",
      "Optimization restart 2/5, f = -1132.3583728689136\n",
      "Optimization restart 3/5, f = -1132.564883984012\n",
      "Optimization restart 4/5, f = -1131.612415833776\n",
      "Optimization restart 5/5, f = -1132.376743307962\n",
      "Optimization restart 1/5, f = -561.7566548064847\n",
      "Optimization restart 2/5, f = -620.9171733806502\n"
     ]
    },
    {
     "name": "stderr",
     "output_type": "stream",
     "text": [
      " /Users/dananjayaliyanage/miniconda3/envs/parton_loss/lib/python3.6/site-packages/GPy/kern/src/stationary.py:137: RuntimeWarning:overflow encountered in square\n",
      " /Users/dananjayaliyanage/miniconda3/envs/parton_loss/lib/python3.6/site-packages/GPy/kern/src/stationary.py:138: RuntimeWarning:invalid value encountered in add\n",
      " /Users/dananjayaliyanage/miniconda3/envs/parton_loss/lib/python3.6/site-packages/GPy/kern/src/rbf.py:52: RuntimeWarning:overflow encountered in square\n",
      " /Users/dananjayaliyanage/miniconda3/envs/parton_loss/lib/python3.6/site-packages/GPy/kern/src/rbf.py:76: RuntimeWarning:invalid value encountered in multiply\n",
      " /Users/dananjayaliyanage/miniconda3/envs/parton_loss/lib/python3.6/site-packages/GPy/kern/src/stationary.py:243: RuntimeWarning:invalid value encountered in true_divide\n"
     ]
    },
    {
     "name": "stdout",
     "output_type": "stream",
     "text": [
      "Optimization restart 3/5, f = -682.0795247186818\n",
      "Optimization restart 4/5, f = -561.596352059378\n",
      "Optimization restart 5/5, f = -667.9255354633481\n",
      "Optimization restart 1/5, f = -558.8211277907772\n",
      "Optimization restart 2/5, f = -561.6968445149649\n",
      "Optimization restart 3/5, f = -558.899824216385\n",
      "Optimization restart 4/5, f = -561.7841020816788\n",
      "Optimization restart 5/5, f = -561.6254494133373\n",
      "(97, 1)\n",
      "r2 score for multifidelity linear 0.9709028094568418\n",
      "mse for multifidelity linear 0.00015297080242332643\n",
      "(97, 1)\n",
      "r2 score for multifidelity nonlinear 0.9559314513672378\n",
      "mse for multifidelity nonlinear 0.00023167876761112682\n",
      "(97, 1)\n",
      "r2 score for standard GP 0.9304273406047511\n",
      "mse for standard GP 0.0003657599010677844\n",
      "Optimization restart 1/5, f = -2271.380717598777\n",
      "Optimization restart 2/5, f = -1991.1336858350817\n"
     ]
    },
    {
     "name": "stderr",
     "output_type": "stream",
     "text": [
      " /Users/dananjayaliyanage/miniconda3/envs/parton_loss/lib/python3.6/site-packages/GPy/kern/src/stationary.py:144: RuntimeWarning:overflow encountered in square\n",
      " /Users/dananjayaliyanage/miniconda3/envs/parton_loss/lib/python3.6/site-packages/GPy/kern/src/stationary.py:145: RuntimeWarning:overflow encountered in square\n",
      " /Users/dananjayaliyanage/miniconda3/envs/parton_loss/lib/python3.6/site-packages/GPy/kern/src/stationary.py:146: RuntimeWarning:invalid value encountered in add\n",
      " /Users/dananjayaliyanage/miniconda3/envs/parton_loss/lib/python3.6/site-packages/GPy/kern/src/stationary.py:165: RuntimeWarning:overflow encountered in true_divide\n",
      " /Users/dananjayaliyanage/miniconda3/envs/parton_loss/lib/python3.6/site-packages/GPy/kern/src/stationary.py:166: RuntimeWarning:overflow encountered in true_divide\n"
     ]
    },
    {
     "name": "stdout",
     "output_type": "stream",
     "text": [
      "Optimization restart 3/5, f = -2263.738240926965\n",
      "Optimization restart 4/5, f = -320.43258812178397\n",
      "Optimization restart 5/5, f = -1972.9229858430897\n",
      "Optimization restart 1/5, f = -1132.3331853821935\n",
      "Optimization restart 2/5, f = -1132.7946615034411\n"
     ]
    },
    {
     "name": "stderr",
     "output_type": "stream",
     "text": [
      " /Users/dananjayaliyanage/miniconda3/envs/parton_loss/lib/python3.6/site-packages/GPy/kern/src/stationary.py:137: RuntimeWarning:overflow encountered in square\n",
      " /Users/dananjayaliyanage/miniconda3/envs/parton_loss/lib/python3.6/site-packages/GPy/kern/src/stationary.py:138: RuntimeWarning:invalid value encountered in add\n"
     ]
    },
    {
     "name": "stdout",
     "output_type": "stream",
     "text": [
      "Optimization restart 3/5, f = -1132.2874503284204\n",
      "Optimization restart 4/5, f = -1132.9613539347883\n",
      "Optimization restart 5/5, f = -1132.4794032210386\n",
      "Optimization restart 1/5, f = -624.3423063274389\n",
      "Optimization restart 2/5, f = -690.1528079306709\n",
      "Optimization restart 3/5, f = -690.238583139442\n",
      "Optimization restart 4/5, f = -725.8318800716957\n",
      "Optimization restart 5/5, f = -623.9512310336742\n"
     ]
    },
    {
     "name": "stderr",
     "output_type": "stream",
     "text": [
      " /Users/dananjayaliyanage/miniconda3/envs/parton_loss/lib/python3.6/site-packages/GPy/kern/src/rbf.py:76: RuntimeWarning:invalid value encountered in multiply\n"
     ]
    },
    {
     "name": "stdout",
     "output_type": "stream",
     "text": [
      "Optimization restart 1/5, f = -587.8579038306053\n",
      "Optimization restart 2/5, f = -623.6159116869723\n",
      "Optimization restart 3/5, f = -624.1830590202235\n",
      "Optimization restart 4/5, f = -624.288173305295\n",
      "Optimization restart 5/5, f = -623.9868607854005\n",
      "(97, 1)\n",
      "r2 score for multifidelity linear 0.970418599088572\n",
      "mse for multifidelity linear 0.00015551641068286173\n",
      "(97, 1)\n",
      "r2 score for multifidelity nonlinear 0.936432218427869\n",
      "mse for multifidelity nonlinear 0.00033419084020969516\n",
      "(97, 1)\n",
      "r2 score for standard GP 0.9321195506247717\n",
      "mse for standard GP 0.00035686355335176015\n",
      "Optimization restart 1/5, f = -2378.053607221288\n"
     ]
    },
    {
     "name": "stderr",
     "output_type": "stream",
     "text": [
      " /Users/dananjayaliyanage/miniconda3/envs/parton_loss/lib/python3.6/site-packages/GPy/kern/src/stationary.py:144: RuntimeWarning:overflow encountered in square\n",
      " /Users/dananjayaliyanage/miniconda3/envs/parton_loss/lib/python3.6/site-packages/GPy/kern/src/stationary.py:145: RuntimeWarning:overflow encountered in square\n",
      " /Users/dananjayaliyanage/miniconda3/envs/parton_loss/lib/python3.6/site-packages/GPy/kern/src/stationary.py:146: RuntimeWarning:invalid value encountered in add\n",
      " /Users/dananjayaliyanage/miniconda3/envs/parton_loss/lib/python3.6/site-packages/GPy/kern/src/stationary.py:165: RuntimeWarning:overflow encountered in true_divide\n",
      " /Users/dananjayaliyanage/miniconda3/envs/parton_loss/lib/python3.6/site-packages/GPy/kern/src/stationary.py:166: RuntimeWarning:overflow encountered in true_divide\n"
     ]
    },
    {
     "name": "stdout",
     "output_type": "stream",
     "text": [
      "Optimization restart 2/5, f = -2129.638678658543\n"
     ]
    },
    {
     "name": "stderr",
     "output_type": "stream",
     "text": [
      " /Users/dananjayaliyanage/miniconda3/envs/parton_loss/lib/python3.6/site-packages/GPy/kern/src/rbf.py:76: RuntimeWarning:invalid value encountered in multiply\n"
     ]
    },
    {
     "name": "stdout",
     "output_type": "stream",
     "text": [
      "Optimization restart 3/5, f = -2062.0638720266397\n",
      "Optimization restart 4/5, f = -673.5882823793379\n",
      "Optimization restart 5/5, f = -2114.8385323478924\n",
      "Optimization restart 1/5, f = -1132.3331853821935\n",
      "Optimization restart 2/5, f = -1132.333138017399\n",
      "Optimization restart 3/5, f = -1132.46492792389\n",
      "Optimization restart 4/5, f = -1132.4030173427943\n",
      "Optimization restart 5/5, f = -1132.483977921087\n",
      "Optimization restart 1/5, f = -683.8506687467009\n",
      "Optimization restart 2/5, f = -751.7030647184\n"
     ]
    },
    {
     "name": "stderr",
     "output_type": "stream",
     "text": [
      " /Users/dananjayaliyanage/miniconda3/envs/parton_loss/lib/python3.6/site-packages/GPy/kern/src/stationary.py:137: RuntimeWarning:overflow encountered in square\n",
      " /Users/dananjayaliyanage/miniconda3/envs/parton_loss/lib/python3.6/site-packages/GPy/kern/src/stationary.py:138: RuntimeWarning:invalid value encountered in add\n"
     ]
    },
    {
     "name": "stdout",
     "output_type": "stream",
     "text": [
      "Optimization restart 3/5, f = -684.0162986638535\n",
      "Optimization restart 4/5, f = -751.8896709662719\n",
      "Optimization restart 5/5, f = -751.8858083970962\n",
      "Optimization restart 1/5, f = -683.9262077391923\n",
      "Optimization restart 2/5, f = -684.1193948800534\n",
      "Optimization restart 3/5, f = -683.6109204131767\n",
      "Optimization restart 4/5, f = -684.0200035863838\n",
      "Optimization restart 5/5, f = -683.6865006073806\n",
      "(97, 1)\n",
      "r2 score for multifidelity linear 0.9712879320105051\n",
      "mse for multifidelity linear 0.00015094612220625152\n",
      "(97, 1)\n",
      "r2 score for multifidelity nonlinear 0.9419653883970079\n",
      "mse for multifidelity nonlinear 0.0003051016589408573\n",
      "(97, 1)\n",
      "r2 score for standard GP 0.9338990751309888\n",
      "mse for standard GP 0.00034750817276117576\n",
      "Optimization restart 1/5, f = -2480.269410469009\n",
      "Optimization restart 2/5, f = -2163.625866785767\n",
      "Optimization restart 3/5, f = -2094.678209299148\n",
      "Optimization restart 4/5, f = -2439.7628899348733\n"
     ]
    },
    {
     "name": "stderr",
     "output_type": "stream",
     "text": [
      " /Users/dananjayaliyanage/miniconda3/envs/parton_loss/lib/python3.6/site-packages/GPy/kern/src/stationary.py:243: RuntimeWarning:invalid value encountered in true_divide\n"
     ]
    },
    {
     "name": "stdout",
     "output_type": "stream",
     "text": [
      "Optimization restart 5/5, f = -2125.001030503096\n",
      "Optimization restart 1/5, f = -1132.3331853821935\n",
      "Optimization restart 2/5, f = -1096.6872257956654\n"
     ]
    },
    {
     "name": "stderr",
     "output_type": "stream",
     "text": [
      " /Users/dananjayaliyanage/miniconda3/envs/parton_loss/lib/python3.6/site-packages/GPy/kern/src/stationary.py:137: RuntimeWarning:overflow encountered in square\n",
      " /Users/dananjayaliyanage/miniconda3/envs/parton_loss/lib/python3.6/site-packages/GPy/kern/src/stationary.py:138: RuntimeWarning:invalid value encountered in add\n",
      " /Users/dananjayaliyanage/miniconda3/envs/parton_loss/lib/python3.6/site-packages/GPy/kern/src/rbf.py:76: RuntimeWarning:invalid value encountered in multiply\n",
      " /Users/dananjayaliyanage/miniconda3/envs/parton_loss/lib/python3.6/site-packages/GPy/kern/src/stationary.py:166: RuntimeWarning:overflow encountered in true_divide\n"
     ]
    },
    {
     "name": "stdout",
     "output_type": "stream",
     "text": [
      "Optimization restart 3/5, f = -1132.46469825852\n",
      "Optimization restart 4/5, f = -1132.9335008949577\n",
      "Optimization restart 5/5, f = -1132.2862729287954\n",
      "Optimization restart 1/5, f = -734.9020202612631\n",
      "Optimization restart 2/5, f = -735.2227027018971\n",
      "Optimization restart 3/5, f = -735.2061767872308\n",
      "Optimization restart 4/5, f = -853.6623529242316\n",
      "Optimization restart 5/5, f = -742.8038700619365\n",
      "Optimization restart 1/5, f = -735.2503544411459\n",
      "Optimization restart 2/5, f = -734.5400094566361\n",
      "Optimization restart 3/5, f = -742.7918209552303\n",
      "Optimization restart 4/5, f = -742.8141549561329\n",
      "Optimization restart 5/5, f = -735.9252955561678\n",
      "(97, 1)\n",
      "r2 score for multifidelity linear 0.9712601990598214\n",
      "mse for multifidelity linear 0.00015109192087754767\n",
      "(97, 1)\n",
      "r2 score for multifidelity nonlinear 0.9411793387785266\n",
      "mse for multifidelity nonlinear 0.00030923410742262036\n",
      "(97, 1)\n",
      "r2 score for standard GP 0.9515279230700002\n",
      "mse for standard GP 0.00025482915582895573\n",
      "Optimization restart 1/5, f = -2576.173262223131\n"
     ]
    },
    {
     "name": "stderr",
     "output_type": "stream",
     "text": [
      " /Users/dananjayaliyanage/miniconda3/envs/parton_loss/lib/python3.6/site-packages/GPy/kern/src/stationary.py:243: RuntimeWarning:invalid value encountered in true_divide\n"
     ]
    },
    {
     "name": "stdout",
     "output_type": "stream",
     "text": [
      "Optimization restart 2/5, f = -2261.059670472156\n",
      "Optimization restart 3/5, f = -2140.0277196150155\n",
      "Optimization restart 4/5, f = -1821.239636391555\n"
     ]
    },
    {
     "name": "stderr",
     "output_type": "stream",
     "text": [
      " /Users/dananjayaliyanage/miniconda3/envs/parton_loss/lib/python3.6/site-packages/GPy/kern/src/stationary.py:165: RuntimeWarning:overflow encountered in true_divide\n",
      " /Users/dananjayaliyanage/miniconda3/envs/parton_loss/lib/python3.6/site-packages/GPy/kern/src/stationary.py:166: RuntimeWarning:overflow encountered in true_divide\n",
      " /Users/dananjayaliyanage/miniconda3/envs/parton_loss/lib/python3.6/site-packages/GPy/kern/src/stationary.py:144: RuntimeWarning:overflow encountered in square\n",
      " /Users/dananjayaliyanage/miniconda3/envs/parton_loss/lib/python3.6/site-packages/GPy/kern/src/stationary.py:145: RuntimeWarning:overflow encountered in square\n",
      " /Users/dananjayaliyanage/miniconda3/envs/parton_loss/lib/python3.6/site-packages/GPy/kern/src/stationary.py:146: RuntimeWarning:invalid value encountered in add\n"
     ]
    },
    {
     "name": "stdout",
     "output_type": "stream",
     "text": [
      "Optimization restart 5/5, f = -2250.413859817274\n",
      "Optimization restart 1/5, f = -1132.3331853821935\n",
      "Optimization restart 2/5, f = -1132.9530148118736\n",
      "Optimization restart 3/5, f = -1132.4706793174378\n",
      "Optimization restart 4/5, f = -1132.2576465110337\n",
      "Optimization restart 5/5, f = -1132.3553350534935\n",
      "Optimization restart 1/5, f = -923.6487302379979\n",
      "Optimization restart 2/5, f = -928.571463085842\n",
      "Optimization restart 3/5, f = -801.5063068029103\n",
      "Optimization restart 4/5, f = -933.4335225624162\n",
      "Optimization restart 5/5, f = -788.0630937695568\n",
      "Optimization restart 1/5, f = -801.5044427099438\n",
      "Optimization restart 2/5, f = -788.0782310527394\n",
      "Optimization restart 3/5, f = -801.515182021214\n",
      "Optimization restart 4/5, f = -788.0568050150576\n",
      "Optimization restart 5/5, f = -788.221154784689\n",
      "(97, 1)\n",
      "r2 score for multifidelity linear 0.9715203567867111\n",
      "mse for multifidelity linear 0.00014972421026713962\n",
      "(97, 1)\n",
      "r2 score for multifidelity nonlinear 0.9402526814564307\n",
      "mse for multifidelity nonlinear 0.00031410576380890286\n",
      "(97, 1)\n",
      "r2 score for standard GP 0.962906622707802\n",
      "mse for standard GP 0.00019500864458245584\n",
      "Optimization restart 1/5, f = -2672.1091131859275\n"
     ]
    },
    {
     "name": "stderr",
     "output_type": "stream",
     "text": [
      " /Users/dananjayaliyanage/miniconda3/envs/parton_loss/lib/python3.6/site-packages/GPy/kern/src/stationary.py:144: RuntimeWarning:overflow encountered in square\n",
      " /Users/dananjayaliyanage/miniconda3/envs/parton_loss/lib/python3.6/site-packages/GPy/kern/src/stationary.py:145: RuntimeWarning:overflow encountered in square\n",
      " /Users/dananjayaliyanage/miniconda3/envs/parton_loss/lib/python3.6/site-packages/GPy/kern/src/stationary.py:146: RuntimeWarning:invalid value encountered in add\n",
      " /Users/dananjayaliyanage/miniconda3/envs/parton_loss/lib/python3.6/site-packages/GPy/kern/src/stationary.py:165: RuntimeWarning:overflow encountered in true_divide\n",
      " /Users/dananjayaliyanage/miniconda3/envs/parton_loss/lib/python3.6/site-packages/GPy/kern/src/stationary.py:166: RuntimeWarning:overflow encountered in true_divide\n"
     ]
    },
    {
     "name": "stdout",
     "output_type": "stream",
     "text": [
      "Optimization restart 2/5, f = -2327.4294285713822\n",
      "Optimization restart 3/5, f = -2680.9489364996075\n",
      "Optimization restart 4/5, f = -2339.073093793333\n",
      "Optimization restart 5/5, f = -2334.390036776215\n",
      "Optimization restart 1/5, f = -1132.3331853821935\n"
     ]
    },
    {
     "name": "stderr",
     "output_type": "stream",
     "text": [
      " /Users/dananjayaliyanage/miniconda3/envs/parton_loss/lib/python3.6/site-packages/GPy/kern/src/stationary.py:137: RuntimeWarning:overflow encountered in square\n",
      " /Users/dananjayaliyanage/miniconda3/envs/parton_loss/lib/python3.6/site-packages/GPy/kern/src/stationary.py:138: RuntimeWarning:invalid value encountered in add\n",
      " /Users/dananjayaliyanage/miniconda3/envs/parton_loss/lib/python3.6/site-packages/GPy/kern/src/rbf.py:76: RuntimeWarning:invalid value encountered in multiply\n"
     ]
    },
    {
     "name": "stdout",
     "output_type": "stream",
     "text": [
      "Optimization restart 2/5, f = -1132.8959603766684\n",
      "Optimization restart 3/5, f = -1132.4009734243368\n",
      "Optimization restart 4/5, f = -1132.675500163543\n",
      "Optimization restart 5/5, f = -1132.5443317473882\n",
      "Optimization restart 1/5, f = -976.7962173170629\n",
      "Optimization restart 2/5, f = -980.0011683593696\n",
      "Optimization restart 3/5, f = -910.0069366122895\n",
      "Optimization restart 4/5, f = -1016.1552883421255\n"
     ]
    },
    {
     "name": "stderr",
     "output_type": "stream",
     "text": [
      " /Users/dananjayaliyanage/miniconda3/envs/parton_loss/lib/python3.6/site-packages/GPy/kern/src/rbf.py:52: RuntimeWarning:overflow encountered in square\n"
     ]
    },
    {
     "name": "stdout",
     "output_type": "stream",
     "text": [
      "Optimization restart 5/5, f = -840.1682341040123\n"
     ]
    },
    {
     "name": "stderr",
     "output_type": "stream",
     "text": [
      " /Users/dananjayaliyanage/miniconda3/envs/parton_loss/lib/python3.6/site-packages/GPy/kern/src/stationary.py:243: RuntimeWarning:invalid value encountered in true_divide\n"
     ]
    },
    {
     "name": "stdout",
     "output_type": "stream",
     "text": [
      "Optimization restart 1/5, f = -843.076378764365\n",
      "Optimization restart 2/5, f = -863.3721146550708\n",
      "Optimization restart 3/5, f = -863.3832988331617\n",
      "Optimization restart 4/5, f = -863.1130480055208\n",
      "Optimization restart 5/5, f = -843.438700398225\n",
      "(97, 1)\n",
      "r2 score for multifidelity linear 0.9709669442145781\n",
      "mse for multifidelity linear 0.0001526336308555219\n",
      "(97, 1)\n",
      "r2 score for multifidelity nonlinear 0.9593905271321572\n",
      "mse for multifidelity nonlinear 0.00021349358940232465\n",
      "(97, 1)\n",
      "r2 score for standard GP 0.9615928565277785\n",
      "mse for standard GP 0.00020191542365642653\n",
      "Optimization restart 1/5, f = -2769.647476801352\n",
      "Optimization restart 2/5, f = -2705.7123600717837\n",
      "Optimization restart 3/5, f = -2437.56247075282\n",
      "Optimization restart 4/5, f = -2373.2022275839113\n"
     ]
    },
    {
     "name": "stderr",
     "output_type": "stream",
     "text": [
      " /Users/dananjayaliyanage/miniconda3/envs/parton_loss/lib/python3.6/site-packages/GPy/kern/src/stationary.py:243: RuntimeWarning:invalid value encountered in true_divide\n"
     ]
    },
    {
     "name": "stdout",
     "output_type": "stream",
     "text": [
      "Optimization restart 5/5, f = -2200.1032548275234\n",
      "Optimization restart 1/5, f = -1132.3331853821935\n",
      "Optimization restart 2/5, f = -1132.6238537503748\n",
      "Optimization restart 3/5, f = -1132.1150528035191\n",
      "Optimization restart 4/5, f = -1132.4024967106466\n"
     ]
    },
    {
     "name": "stderr",
     "output_type": "stream",
     "text": [
      " /Users/dananjayaliyanage/miniconda3/envs/parton_loss/lib/python3.6/site-packages/GPy/kern/src/stationary.py:137: RuntimeWarning:overflow encountered in square\n",
      " /Users/dananjayaliyanage/miniconda3/envs/parton_loss/lib/python3.6/site-packages/GPy/kern/src/stationary.py:138: RuntimeWarning:invalid value encountered in add\n",
      " /Users/dananjayaliyanage/miniconda3/envs/parton_loss/lib/python3.6/site-packages/GPy/kern/src/stationary.py:166: RuntimeWarning:overflow encountered in true_divide\n"
     ]
    },
    {
     "name": "stdout",
     "output_type": "stream",
     "text": [
      "Optimization restart 5/5, f = -1131.7639911479428\n",
      "Optimization restart 1/5, f = -1038.954206704753\n",
      "Optimization restart 2/5, f = -921.0899555234771\n",
      "Optimization restart 3/5, f = -921.356724559899\n",
      "Optimization restart 4/5, f = -900.923499160166\n",
      "Optimization restart 5/5, f = -921.7973068175947\n",
      "Optimization restart 1/5, f = -900.8965454110617\n",
      "Optimization restart 2/5, f = -900.3411993959935\n",
      "Optimization restart 3/5, f = -921.1726863299069\n",
      "Optimization restart 4/5, f = -900.6406956571551\n",
      "Optimization restart 5/5, f = -901.0952391816147\n",
      "(97, 1)\n",
      "r2 score for multifidelity linear 0.9700443393846576\n",
      "mse for multifidelity linear 0.00015748398233338178\n",
      "(97, 1)\n",
      "r2 score for multifidelity nonlinear 0.9601902492817005\n",
      "mse for multifidelity nonlinear 0.0002092892611957962\n",
      "(97, 1)\n",
      "r2 score for standard GP 0.9617791586727306\n",
      "mse for standard GP 0.000200935989282368\n",
      "Optimization restart 1/5, f = -2883.5274194590997\n",
      "Optimization restart 2/5, f = -2494.9920593446386\n",
      "Optimization restart 3/5, f = -2500.9603632448034\n",
      "Optimization restart 4/5, f = -2500.0553741148615\n"
     ]
    },
    {
     "name": "stderr",
     "output_type": "stream",
     "text": [
      " /Users/dananjayaliyanage/miniconda3/envs/parton_loss/lib/python3.6/site-packages/GPy/kern/src/stationary.py:144: RuntimeWarning:overflow encountered in square\n",
      " /Users/dananjayaliyanage/miniconda3/envs/parton_loss/lib/python3.6/site-packages/GPy/kern/src/stationary.py:145: RuntimeWarning:overflow encountered in square\n",
      " /Users/dananjayaliyanage/miniconda3/envs/parton_loss/lib/python3.6/site-packages/GPy/kern/src/stationary.py:146: RuntimeWarning:invalid value encountered in add\n",
      " /Users/dananjayaliyanage/miniconda3/envs/parton_loss/lib/python3.6/site-packages/GPy/kern/src/stationary.py:165: RuntimeWarning:overflow encountered in true_divide\n",
      " /Users/dananjayaliyanage/miniconda3/envs/parton_loss/lib/python3.6/site-packages/GPy/kern/src/stationary.py:166: RuntimeWarning:overflow encountered in true_divide\n"
     ]
    },
    {
     "name": "stdout",
     "output_type": "stream",
     "text": [
      "Optimization restart 5/5, f = -2512.033674425714\n",
      "Optimization restart 1/5, f = -1132.3331853821935\n",
      "Optimization restart 2/5, f = -1132.1703049375283\n"
     ]
    },
    {
     "name": "stderr",
     "output_type": "stream",
     "text": [
      " /Users/dananjayaliyanage/miniconda3/envs/parton_loss/lib/python3.6/site-packages/GPy/kern/src/stationary.py:137: RuntimeWarning:overflow encountered in square\n",
      " /Users/dananjayaliyanage/miniconda3/envs/parton_loss/lib/python3.6/site-packages/GPy/kern/src/stationary.py:138: RuntimeWarning:invalid value encountered in add\n"
     ]
    },
    {
     "name": "stdout",
     "output_type": "stream",
     "text": [
      "Optimization restart 3/5, f = -1132.5061601332486\n",
      "Optimization restart 4/5, f = -1132.6663893711943\n",
      "Optimization restart 5/5, f = -1132.3783117772502\n",
      "Optimization restart 1/5, f = -1109.7338133482156\n",
      "Optimization restart 2/5, f = -1096.8086812071228\n"
     ]
    },
    {
     "name": "stderr",
     "output_type": "stream",
     "text": [
      " /Users/dananjayaliyanage/miniconda3/envs/parton_loss/lib/python3.6/site-packages/GPy/kern/src/stationary.py:243: RuntimeWarning:invalid value encountered in true_divide\n"
     ]
    },
    {
     "name": "stdout",
     "output_type": "stream",
     "text": [
      "Optimization restart 3/5, f = -850.1988301677759\n",
      "Optimization restart 4/5, f = -1104.543672669076\n",
      "Optimization restart 5/5, f = -1093.671631473431\n",
      "Optimization restart 1/5, f = -957.6531116638389\n",
      "Optimization restart 2/5, f = -958.0289901652209\n",
      "Optimization restart 3/5, f = -957.6408101459726\n",
      "Optimization restart 4/5, f = -878.4699104637418\n",
      "Optimization restart 5/5, f = -956.9643188882874\n",
      "(97, 1)\n",
      "r2 score for multifidelity linear 0.9709988919909447\n",
      "mse for multifidelity linear 0.0001524656738502163\n",
      "(97, 1)\n",
      "r2 score for multifidelity nonlinear 0.9541849679778329\n",
      "mse for multifidelity nonlinear 0.00024086044324747423\n",
      "(97, 1)\n",
      "r2 score for standard GP 0.9617771592682454\n",
      "mse for standard GP 0.00020094650062393567\n",
      "Optimization restart 1/5, f = -2973.341426535355\n",
      "Optimization restart 2/5, f = -2939.0401092828133\n",
      "Optimization restart 3/5, f = -2589.235008550567\n",
      "Optimization restart 4/5, f = -2548.0335487215734\n"
     ]
    },
    {
     "name": "stderr",
     "output_type": "stream",
     "text": [
      " /Users/dananjayaliyanage/miniconda3/envs/parton_loss/lib/python3.6/site-packages/GPy/kern/src/stationary.py:243: RuntimeWarning:invalid value encountered in true_divide\n"
     ]
    },
    {
     "name": "stdout",
     "output_type": "stream",
     "text": [
      "Optimization restart 5/5, f = -2538.8808794636634\n",
      "Optimization restart 1/5, f = -1132.3331853821935\n",
      "Optimization restart 2/5, f = -1087.834035541621\n",
      "Optimization restart 3/5, f = -1132.2662895901622\n",
      "Optimization restart 4/5, f = -1079.1954109136311\n",
      "Optimization restart 5/5, f = -1132.3102527961555\n",
      "Optimization restart 1/5, f = -1156.1240587206103\n",
      "Optimization restart 2/5, f = -1020.7120342616504\n",
      "Optimization restart 3/5, f = -1039.7303967854764\n",
      "Optimization restart 4/5, f = -1172.069489312562\n",
      "Optimization restart 5/5, f = -1039.3455334055639\n"
     ]
    },
    {
     "name": "stderr",
     "output_type": "stream",
     "text": [
      " /Users/dananjayaliyanage/miniconda3/envs/parton_loss/lib/python3.6/site-packages/GPy/kern/src/stationary.py:137: RuntimeWarning:overflow encountered in square\n",
      " /Users/dananjayaliyanage/miniconda3/envs/parton_loss/lib/python3.6/site-packages/GPy/kern/src/stationary.py:138: RuntimeWarning:invalid value encountered in add\n",
      " /Users/dananjayaliyanage/miniconda3/envs/parton_loss/lib/python3.6/site-packages/GPy/kern/src/stationary.py:166: RuntimeWarning:overflow encountered in true_divide\n"
     ]
    },
    {
     "name": "stdout",
     "output_type": "stream",
     "text": [
      "Optimization restart 1/5, f = -1018.2098208738159\n",
      "Optimization restart 2/5, f = -1020.1141325863506\n",
      "Optimization restart 3/5, f = -1038.4478529747923\n",
      "Optimization restart 4/5, f = -1020.8182439796622\n",
      "Optimization restart 5/5, f = -1020.214587881826\n",
      "(97, 1)\n",
      "r2 score for multifidelity linear 0.9715410214795293\n",
      "mse for multifidelity linear 0.00014961557109671744\n",
      "(97, 1)\n",
      "r2 score for multifidelity nonlinear 0.9509867847557885\n",
      "mse for multifidelity nonlinear 0.000257674047744696\n",
      "(97, 1)\n",
      "r2 score for standard GP 0.970828085494117\n",
      "mse for standard GP 0.00015336364394255534\n",
      "Optimization restart 1/5, f = -3060.4155388711697\n",
      "Optimization restart 2/5, f = -2645.4741700071518\n",
      "Optimization restart 3/5, f = -2886.3916407554325\n",
      "Optimization restart 4/5, f = -2603.240075097169\n",
      "Optimization restart 5/5, f = -1233.6900777755127\n",
      "Optimization restart 1/5, f = -1132.3331853821935\n",
      "Optimization restart 2/5, f = -1132.2383480605988\n",
      "Optimization restart 3/5, f = -1132.4569859947198\n",
      "Optimization restart 4/5, f = -1132.8074672417185\n",
      "Optimization restart 5/5, f = -1132.2252772698007\n",
      "Optimization restart 1/5, f = -1217.9442455146648\n",
      "Optimization restart 2/5, f = -1071.2497800272536\n"
     ]
    },
    {
     "name": "stderr",
     "output_type": "stream",
     "text": [
      " /Users/dananjayaliyanage/miniconda3/envs/parton_loss/lib/python3.6/site-packages/GPy/kern/src/stationary.py:243: RuntimeWarning:invalid value encountered in true_divide\n"
     ]
    },
    {
     "name": "stdout",
     "output_type": "stream",
     "text": [
      "Optimization restart 3/5, f = -1277.2337508646842\n"
     ]
    },
    {
     "name": "stderr",
     "output_type": "stream",
     "text": [
      " /Users/dananjayaliyanage/miniconda3/envs/parton_loss/lib/python3.6/site-packages/GPy/kern/src/stationary.py:137: RuntimeWarning:overflow encountered in square\n",
      " /Users/dananjayaliyanage/miniconda3/envs/parton_loss/lib/python3.6/site-packages/GPy/kern/src/stationary.py:138: RuntimeWarning:invalid value encountered in add\n",
      " /Users/dananjayaliyanage/miniconda3/envs/parton_loss/lib/python3.6/site-packages/GPy/kern/src/rbf.py:76: RuntimeWarning:invalid value encountered in multiply\n"
     ]
    },
    {
     "name": "stdout",
     "output_type": "stream",
     "text": [
      "Optimization restart 4/5, f = -1266.774510172286\n",
      "Optimization restart 5/5, f = -1230.3164431277598\n"
     ]
    },
    {
     "name": "stderr",
     "output_type": "stream",
     "text": [
      " /Users/dananjayaliyanage/miniconda3/envs/parton_loss/lib/python3.6/site-packages/GPy/kern/src/stationary.py:166: RuntimeWarning:overflow encountered in true_divide\n"
     ]
    },
    {
     "name": "stdout",
     "output_type": "stream",
     "text": [
      "Optimization restart 1/5, f = -1070.6736988879707\n",
      "Optimization restart 2/5, f = -1094.7291703793721\n",
      "Optimization restart 3/5, f = -1094.9096087013165\n",
      "Optimization restart 4/5, f = -1095.2056112964851\n",
      "Optimization restart 5/5, f = -1071.4620850865276\n",
      "(97, 1)\n",
      "r2 score for multifidelity linear 0.969473777358345\n",
      "mse for multifidelity linear 0.00016048356165248713\n",
      "(97, 1)\n",
      "r2 score for multifidelity nonlinear 0.9600675761279639\n",
      "mse for multifidelity nonlinear 0.00020993418293609436\n",
      "(97, 1)\n",
      "r2 score for standard GP 0.9704838958519377\n",
      "mse for standard GP 0.000155173130177038\n",
      "Optimization restart 1/5, f = -3175.148234553799\n",
      "Optimization restart 2/5, f = -3203.392973876666\n"
     ]
    },
    {
     "name": "stderr",
     "output_type": "stream",
     "text": [
      " /Users/dananjayaliyanage/miniconda3/envs/parton_loss/lib/python3.6/site-packages/GPy/kern/src/stationary.py:144: RuntimeWarning:overflow encountered in square\n",
      " /Users/dananjayaliyanage/miniconda3/envs/parton_loss/lib/python3.6/site-packages/GPy/kern/src/stationary.py:145: RuntimeWarning:overflow encountered in square\n",
      " /Users/dananjayaliyanage/miniconda3/envs/parton_loss/lib/python3.6/site-packages/GPy/kern/src/stationary.py:146: RuntimeWarning:invalid value encountered in add\n",
      " /Users/dananjayaliyanage/miniconda3/envs/parton_loss/lib/python3.6/site-packages/GPy/kern/src/rbf.py:76: RuntimeWarning:invalid value encountered in multiply\n",
      " /Users/dananjayaliyanage/miniconda3/envs/parton_loss/lib/python3.6/site-packages/GPy/kern/src/stationary.py:165: RuntimeWarning:overflow encountered in true_divide\n",
      " /Users/dananjayaliyanage/miniconda3/envs/parton_loss/lib/python3.6/site-packages/GPy/kern/src/stationary.py:166: RuntimeWarning:overflow encountered in true_divide\n"
     ]
    },
    {
     "name": "stdout",
     "output_type": "stream",
     "text": [
      "Optimization restart 3/5, f = -2766.307497785744\n",
      "Optimization restart 4/5, f = -2733.3888226410936\n",
      "Optimization restart 5/5, f = -3209.059480498562\n",
      "Optimization restart 1/5, f = -1132.3331853821935\n",
      "Optimization restart 2/5, f = -1132.895022825076\n",
      "Optimization restart 3/5, f = -1132.5627127569712\n",
      "Optimization restart 4/5, f = -1132.5469279391896\n",
      "Optimization restart 5/5, f = -1132.5955386163332\n",
      "Optimization restart 1/5, f = -1189.084892802642\n",
      "Optimization restart 2/5, f = -1246.1943286336825\n",
      "Optimization restart 3/5, f = -1314.9442698331286\n",
      "Optimization restart 4/5, f = -1299.0822810968261\n",
      "Optimization restart 5/5, f = -1334.4768371646946\n",
      "Optimization restart 1/5, f = -1182.8187408954348\n",
      "Optimization restart 2/5, f = -1182.3560256735434\n",
      "Optimization restart 3/5, f = -1153.8531602407668\n",
      "Optimization restart 4/5, f = -1154.6446106953927\n",
      "Optimization restart 5/5, f = -1153.9961763974266\n",
      "(97, 1)\n",
      "r2 score for multifidelity linear 0.9713770596210428\n",
      "mse for multifidelity linear 0.00015047755730883273\n",
      "(97, 1)\n",
      "r2 score for multifidelity nonlinear 0.9570886884195428\n",
      "mse for multifidelity nonlinear 0.00022559489912827376\n",
      "(97, 1)\n",
      "r2 score for standard GP 0.9738426972653728\n",
      "mse for standard GP 0.000137515117915281\n"
     ]
    },
    {
     "data": {
      "image/png": "[encoded data removed]",
      "text/plain": [
       "<Figure size 1440x720 with 2 Axes>"
      ]
     },
     "metadata": {
      "needs_background": "light"
     },
     "output_type": "display_data"
    },
    {
     "data": {
      "image/png": "[encoded data removed]",
      "text/plain": [
       "<Figure size 1440x720 with 2 Axes>"
      ]
     },
     "metadata": {
      "needs_background": "light"
     },
     "output_type": "display_data"
    },
    {
     "data": {
      "image/png": "[encoded data removed]",
      "text/plain": [
       "<Figure size 1440x720 with 2 Axes>"
      ]
     },
     "metadata": {
      "needs_background": "light"
     },
     "output_type": "display_data"
    },
    {
     "data": {
      "image/png": "[encoded data removed]",
      "text/plain": [
       "<Figure size 1440x720 with 2 Axes>"
      ]
     },
     "metadata": {
      "needs_background": "light"
     },
     "output_type": "display_data"
    },
    {
     "data": {
      "image/png": "[encoded data removed]",
      "text/plain": [
       "<Figure size 1440x720 with 2 Axes>"
      ]
     },
     "metadata": {
      "needs_background": "light"
     },
     "output_type": "display_data"
    }
   ],
   "source": [
    "kf = KFold(n_splits=5)\n",
    "Y_l=simulation_df[0][selected_observable].values.reshape(-1,1)\n",
    "Y_h=simulation_df[1][selected_observable].values.reshape(-1,1)\n",
    "n_batch = 20\n",
    "\n",
    "val_i=0\n",
    "for train_index, test_index in kf.split(X):\n",
    "    val_i+=1\n",
    "    r2_ar=[]\n",
    "    mse_ar=[]\n",
    "    batch_ar=[]\n",
    "    #print(\"TRAIN:\", train_index, \"TEST:\", test_index)\n",
    "    x_train_h, x_test_h, y_train_h, y_test_h = X[train_index,:], X[test_index], Y_h[train_index,:], Y_h[test_index,:]\n",
    "    x_train_l, x_test_l, y_train_l, y_test_l = X[train_index,:], X[test_index], Y_l[train_index,:], Y_l[test_index,:]\n",
    "    \n",
    "    for i in range(0,n_batch):\n",
    "    \n",
    "        l=0\n",
    "        h=(train_index.shape[0]//n_batch)*(i+1)\n",
    "        if i == n_batch-1:\n",
    "            h=train_index.shape[0]\n",
    "    ## Construct a linear multi-fidelity model\n",
    "        mses, r2s = run_train_and_validation(x_train_l, x_train_h[l:h,:],x_test_h, y_train_l, y_train_h[l:h,:], y_test_h)\n",
    "        r2_ar.append(r2s)\n",
    "        mse_ar.append(mses)\n",
    "        batch_ar.append(h)\n",
    "    \n",
    "    r2_ar = np.array(r2_ar)\n",
    "    mse_ar = np.array(mse_ar)\n",
    "    batch_ar = np.array(batch_ar)\n",
    "    \n",
    "    fig,ax =plt.subplots(nrows=1, ncols=2, figsize=(20,10))\n",
    "    ax1, ax2 = ax\n",
    "    ax1.plot(batch_ar,r2_ar[:,0], c ='r', label='multifidelity linear')\n",
    "    ax1.plot(batch_ar,r2_ar[:,1], c ='y', label='multifidelity nonlinear')\n",
    "    ax1.plot(batch_ar,r2_ar[:,2], c ='c', label='Standard GP')\n",
    "    #l,h=ax.get_ylim()\n",
    "    #line_1d = np.linspace(l,h,100)\n",
    "    #ax.plot(line_1d,line_1d)\n",
    "    ax1.set_xlabel('Number of high fidelity points used in training')\n",
    "    ax1.set_ylabel('R2 score')\n",
    "    ax1.legend()\n",
    "    \n",
    "    ax2.plot(batch_ar,mse_ar[:,0], c ='r', label='multifidelity linear')\n",
    "    ax2.plot(batch_ar,mse_ar[:,1], c ='y', label='multifidelity nonlinear')\n",
    "    ax2.plot(batch_ar,mse_ar[:,2], c ='c', label='Standard GP')\n",
    "    ax2.set_xlabel('Number of high fidelity points used in training')\n",
    "    ax2.set_ylabel('MSE')\n",
    "    ax2.legend()\n",
    "    save_fig(f'{val_i}_batchsize_{n_batch} ARD')"
   ]
  },
  {
   "cell_type": "code",
   "execution_count": null,
   "metadata": {},
   "outputs": [],
   "source": []
  }
 ],
 "metadata": {
  "kernelspec": {
   "display_name": "Python 3",
   "language": "python",
   "name": "python3"
  },
  "language_info": {
   "codemirror_mode": {
    "name": "ipython",
    "version": 3
   },
   "file_extension": ".py",
   "mimetype": "text/x-python",
   "name": "python",
   "nbconvert_exporter": "python",
   "pygments_lexer": "ipython3",
   "version": "3.6.13"
  }
 },
 "nbformat": 4,
 "nbformat_minor": 4
}
